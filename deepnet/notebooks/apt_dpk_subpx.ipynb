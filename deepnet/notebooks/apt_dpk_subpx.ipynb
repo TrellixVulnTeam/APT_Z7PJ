{
 "cells": [
  {
   "cell_type": "markdown",
   "metadata": {},
   "source": [
    "# Conclusions\n",
    "\n",
    "* Start with some random locs in input space. use dpk.utils.keypoints.draw_keypoints to draw kps/confmaps, as done in tfdatagen. \n",
    "* This draw confmaps slightly-wrongly-downscaled per the usual bug/issue. If you extract centroid centers via heatmap, and do a naive scale by x4, this matches the inputs, except near edges where the simple centroid-center procedure fails due to edge effects.\n",
    "* The confmaps so generated (ie slightly offset) are used for training. In an ideal world, the trained network will output precisely the same confmap, given the same input.\n",
    "* DPK prediction is done via the SubpixelMaxima2D layer. We confirm that this layer \"undoes\" the slightly-offset downscaling appropriately by simply feeding in the training confmap and confirming that the predicted locations (in the input space) match the original locations. Ie, the Subpixel layer has gone from predicted heatmaps at the downscaled/network output resolution => raw/input resolution with the same simple/naive up/downscaling.\n",
    "* Tldr, taking raw keypts => generating confmaps => feed thru SubpixelMaxima basically returns the same raw keypts, EXCEPT for pts near the edge (say ~within 6px in input space), which seems reasonable. Our data typically should not have labels so close to the edges.\n",
    "* Our simple 1-cluster heatmap/centroid subpx extraction matches the DPK SubpixelMaxima layer, except near the edges where it does a bit worse.\n",
    "* The purpose of the various input parameters to SubpixelMaxima is not clear. Changing some of them did not change the results.\n",
    "* The 'regular' dpk Maxima2D is equivalent to doing an argmax "
   ]
  },
  {
   "cell_type": "code",
   "execution_count": null,
   "metadata": {},
   "outputs": [],
   "source": [
    "import heatmap\n",
    "import numpy as np\n",
    "import matplotlib.pyplot as plt\n",
    "from deepposekit.models.backend.backend import find_subpixel_maxima as fsm\n",
    "import PoseTools as pt\n",
    "from easydict import EasyDict as edict\n",
    "from deepposekit.models.layers.subpixel import SubpixelMaxima2D\n",
    "from deepposekit.models.layers.convolutional import Maxima2D\n",
    "\n",
    "import tensorflow as tf\n",
    "import random\n",
    "\n",
    "import deepposekit as dpk\n",
    "from deepposekit.utils.image import n_downsample\n",
    "from deepposekit.utils.image import largest_factor\n"
   ]
  },
  {
   "cell_type": "code",
   "execution_count": null,
   "metadata": {},
   "outputs": [],
   "source": [
    "PICF = '/dat0/apt/cache/leap_dset/dpksdn/view_0/dpkorig_test1/conf.pickle'\n",
    "\n",
    "pic = pt.pickle_load(PICF)\n",
    "\n",
    "sdnconf = edict(pic['sdn'])\n",
    "output_shape = sdnconf.output_shape\n",
    "keypoints_shape = sdnconf.keypoints_shape\n",
    "downsample_factor = sdnconf.downsample_factor\n",
    "output_sigma = sdnconf.output_sigma"
   ]
  },
  {
   "cell_type": "code",
   "execution_count": null,
   "metadata": {},
   "outputs": [],
   "source": [
    "kernel_size = np.min(output_shape)\n",
    "kernel_size = (kernel_size // largest_factor(kernel_size)) + 1\n",
    "sigma = output_sigma"
   ]
  },
  {
   "cell_type": "code",
   "execution_count": null,
   "metadata": {},
   "outputs": [],
   "source": [
    "print(output_shape, keypoints_shape, downsample_factor, output_sigma,\n",
    "     kernel_size)"
   ]
  },
  {
   "cell_type": "markdown",
   "metadata": {},
   "source": [
    "# Start with random keypoints "
   ]
  },
  {
   "cell_type": "code",
   "execution_count": null,
   "metadata": {},
   "outputs": [],
   "source": [
    "RAW_HT = 192\n",
    "RAW_WH = 192\n",
    "kps = np.random.rand(*keypoints_shape)*RAW_HT\n",
    "kps = kps.round(2)  # for easier eyeballing\n",
    "#RAW_KP = np.array([[13.3333, 21.2]])\n",
    "#kptile = np.tile(RAW_KP,(32,1))"
   ]
  },
  {
   "cell_type": "code",
   "execution_count": null,
   "metadata": {},
   "outputs": [],
   "source": [
    "kps.shape, kps"
   ]
  },
  {
   "cell_type": "markdown",
   "metadata": {},
   "source": [
    "# Raw confmaps"
   ]
  },
  {
   "cell_type": "code",
   "execution_count": null,
   "metadata": {},
   "outputs": [],
   "source": [
    "hm2 = dpk.utils.keypoints.draw_keypoints(kps, \n",
    "                                         RAW_HT, RAW_WH, \n",
    "                                         output_shape, \n",
    "                                         output_sigma)\n",
    "# note, this draw method uses the slightly-off downscaling"
   ]
  },
  {
   "cell_type": "code",
   "execution_count": null,
   "metadata": {},
   "outputs": [],
   "source": [
    "hm2.shape"
   ]
  },
  {
   "cell_type": "code",
   "execution_count": null,
   "metadata": {},
   "outputs": [],
   "source": [
    "plt.imshow(hm2[...,-12])\n",
    "plt.colorbar()"
   ]
  },
  {
   "cell_type": "code",
   "execution_count": null,
   "metadata": {},
   "outputs": [],
   "source": [
    "# slightly-off downscaling\n",
    "kps/4"
   ]
  },
  {
   "cell_type": "code",
   "execution_count": null,
   "metadata": {},
   "outputs": [],
   "source": [
    "hmmu, hmam = heatmap.get_weighted_centroids_with_argmax(\n",
    "    hm2[np.newaxis,...], nclustermax=1)"
   ]
  },
  {
   "cell_type": "code",
   "execution_count": null,
   "metadata": {},
   "outputs": [],
   "source": [
    "# confirms that the drawn confmaps are slightly off in downscaled space\n",
    "hmmu, hmam  "
   ]
  },
  {
   "cell_type": "code",
   "execution_count": null,
   "metadata": {},
   "outputs": [],
   "source": [
    "hmmu*4, hmam*4"
   ]
  },
  {
   "cell_type": "code",
   "execution_count": null,
   "metadata": {},
   "outputs": [],
   "source": [
    "hm = hm2"
   ]
  },
  {
   "cell_type": "code",
   "execution_count": null,
   "metadata": {},
   "outputs": [],
   "source": [
    "hm.dtype"
   ]
  },
  {
   "cell_type": "code",
   "execution_count": null,
   "metadata": {},
   "outputs": [],
   "source": [
    "hm = hm.astype(np.float32)"
   ]
  },
  {
   "cell_type": "code",
   "execution_count": null,
   "metadata": {},
   "outputs": [],
   "source": [
    "hm = hm[np.newaxis,...]"
   ]
  },
  {
   "cell_type": "code",
   "execution_count": null,
   "metadata": {},
   "outputs": [],
   "source": [
    "hm.dtype, hm.shape"
   ]
  },
  {
   "cell_type": "code",
   "execution_count": null,
   "metadata": {},
   "outputs": [],
   "source": [
    "print(kernel_size, sigma, keypoints_shape, downsample_factor,)"
   ]
  },
  {
   "cell_type": "code",
   "execution_count": null,
   "metadata": {},
   "outputs": [],
   "source": [
    "keypoints = SubpixelMaxima2D(\n",
    "                kernel_size,\n",
    "                sigma,\n",
    "                upsample_factor=100,\n",
    "                index=keypoints_shape[0],\n",
    "                coordinate_scale=2 ** downsample_factor,\n",
    "                confidence_scale=255.0,\n",
    "            )(hm)"
   ]
  },
  {
   "cell_type": "code",
   "execution_count": null,
   "metadata": {},
   "outputs": [],
   "source": [
    "kppred = tf.keras.backend.eval(keypoints)"
   ]
  },
  {
   "cell_type": "code",
   "execution_count": null,
   "metadata": {},
   "outputs": [],
   "source": [
    "keypoints_crude = Maxima2D(\n",
    "                index=keypoints_shape[0],\n",
    "                coordinate_scale=2 ** downsample_factor,\n",
    "                confidence_scale=255.0,\n",
    "            )(hm) "
   ]
  },
  {
   "cell_type": "code",
   "execution_count": null,
   "metadata": {},
   "outputs": [],
   "source": [
    "kppred_crude = tf.keras.backend.eval(keypoints_crude)"
   ]
  },
  {
   "cell_type": "code",
   "execution_count": null,
   "metadata": {},
   "outputs": [],
   "source": [
    "kppred.shape, kppred_crude.shape"
   ]
  },
  {
   "cell_type": "code",
   "execution_count": null,
   "metadata": {},
   "outputs": [],
   "source": [
    "kps2=kppred[0,:,:2]  # 3rd col is confidence"
   ]
  },
  {
   "cell_type": "code",
   "execution_count": null,
   "metadata": {},
   "outputs": [],
   "source": [
    "kps2_crude = kppred_crude[0,:,:2]"
   ]
  },
  {
   "cell_type": "code",
   "execution_count": null,
   "metadata": {},
   "outputs": [],
   "source": [
    "kps2"
   ]
  },
  {
   "cell_type": "code",
   "execution_count": null,
   "metadata": {},
   "outputs": [],
   "source": [
    "kps2_crude"
   ]
  },
  {
   "cell_type": "code",
   "execution_count": null,
   "metadata": {},
   "outputs": [],
   "source": [
    "np.allclose(hmam.astype(np.float32)*4, kps2_crude)"
   ]
  },
  {
   "cell_type": "code",
   "execution_count": null,
   "metadata": {},
   "outputs": [],
   "source": [
    "d=kps2-kps\n",
    "tf = np.abs(d)>.05"
   ]
  },
  {
   "cell_type": "code",
   "execution_count": null,
   "metadata": {},
   "outputs": [],
   "source": [
    "kps.shape"
   ]
  },
  {
   "cell_type": "code",
   "execution_count": null,
   "metadata": {},
   "outputs": [],
   "source": [
    "tf"
   ]
  },
  {
   "cell_type": "code",
   "execution_count": null,
   "metadata": {},
   "outputs": [],
   "source": [
    "tfrow=np.any(tf,axis=1)\n",
    "np.nonzero(tfrow)"
   ]
  },
  {
   "cell_type": "code",
   "execution_count": null,
   "metadata": {},
   "outputs": [],
   "source": [
    "kps[tf], kps2[tf], hmmu[0,tf]*4, d[tf]"
   ]
  },
  {
   "cell_type": "code",
   "execution_count": null,
   "metadata": {},
   "outputs": [],
   "source": [
    "row=6; kps[row,:], kps2[row,:], d[row,:]"
   ]
  },
  {
   "cell_type": "code",
   "execution_count": null,
   "metadata": {},
   "outputs": [],
   "source": []
  },
  {
   "cell_type": "code",
   "execution_count": null,
   "metadata": {},
   "outputs": [],
   "source": []
  },
  {
   "cell_type": "code",
   "execution_count": null,
   "metadata": {},
   "outputs": [],
   "source": []
  },
  {
   "cell_type": "markdown",
   "metadata": {},
   "source": [
    "### Messing Around"
   ]
  },
  {
   "cell_type": "code",
   "execution_count": null,
   "metadata": {},
   "outputs": [],
   "source": [
    "locssz = (1,) + tuple(keypoints_shape)\n",
    "locs = np.zeros(locssz)\n",
    "locs[0,:,0] = 13.33333\n",
    "locs[0,:,1] = 21.2\n",
    "hm = heatmap.create_label_hmap(locs, output_shape, sigma)"
   ]
  },
  {
   "cell_type": "code",
   "execution_count": null,
   "metadata": {},
   "outputs": [],
   "source": [
    "plt.imshow(hm[0,...,3])"
   ]
  },
  {
   "cell_type": "code",
   "execution_count": null,
   "metadata": {},
   "outputs": [],
   "source": [
    "tf.keras.backend.eval(keypoints)"
   ]
  },
  {
   "cell_type": "code",
   "execution_count": null,
   "metadata": {},
   "outputs": [],
   "source": [
    "RAW_KP\n"
   ]
  },
  {
   "cell_type": "code",
   "execution_count": null,
   "metadata": {},
   "outputs": [],
   "source": [
    "kp2 = SubpixelMaxima2D(\n",
    "                3,\n",
    "                5.,\n",
    "                upsample_factor=100,\n",
    "                index=keypoints_shape[0],\n",
    "                coordinate_scale=2 ** downsample_factor,\n",
    "                confidence_scale=255.0,\n",
    "            )(hm)"
   ]
  },
  {
   "cell_type": "code",
   "execution_count": null,
   "metadata": {},
   "outputs": [],
   "source": [
    "tf.keras.backend.eval(kp2)"
   ]
  },
  {
   "cell_type": "code",
   "execution_count": null,
   "metadata": {},
   "outputs": [],
   "source": [
    "13.5*4"
   ]
  },
  {
   "cell_type": "code",
   "execution_count": null,
   "metadata": {},
   "outputs": [],
   "source": []
  }
 ],
 "metadata": {
  "kernelspec": {
   "display_name": "Python 3",
   "language": "python",
   "name": "python3"
  },
  "language_info": {
   "codemirror_mode": {
    "name": "ipython",
    "version": 3
   },
   "file_extension": ".py",
   "mimetype": "text/x-python",
   "name": "python",
   "nbconvert_exporter": "python",
   "pygments_lexer": "ipython3",
   "version": "3.6.9"
  },
  "pycharm": {
   "stem_cell": {
    "cell_type": "raw",
    "metadata": {
     "collapsed": false
    },
    "source": []
   }
  }
 },
 "nbformat": 4,
 "nbformat_minor": 1
}
