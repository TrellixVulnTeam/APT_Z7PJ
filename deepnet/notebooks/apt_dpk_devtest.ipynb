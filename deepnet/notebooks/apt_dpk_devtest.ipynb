{
 "cells": [
  {
   "cell_type": "markdown",
   "metadata": {
    "pycharm": {
     "is_executing": false
    }
   },
   "source": [
    "## use a proper trn/dev/tst split for dpkfly"
   ]
  },
  {
   "cell_type": "code",
   "execution_count": null,
   "metadata": {
    "pycharm": {
     "is_executing": true
    }
   },
   "outputs": [],
   "source": [
    "import glob\n",
    "import importlib\n",
    "import time\n",
    "from os.path import expanduser\n",
    "import copy\n",
    "import os\n",
    "\n",
    "import random\n",
    "\n",
    "import tensorflow as tf\n",
    "import numpy as np\n",
    "import matplotlib.pyplot as plt\n",
    "import cv2\n",
    "import mpl_toolkits.axes_grid1 as axg1\n",
    "\n",
    "import deepposekit as dpk\n",
    "import TrainingGeneratorTFRecord as TGTFR\n",
    "import apt_dpk \n",
    "import apt_dpk_exps as ade\n",
    "import run_apt_expts_2 as rae\n",
    "import APT_interface as apt\n",
    "import PoseTools as pt\n",
    "import multiResData as mrd\n",
    "import open_pose_data as opd\n",
    "import util\n",
    "import tfdatagen\n",
    "\n",
    "from deepposekit.models import StackedDenseNet"
   ]
  },
  {
   "cell_type": "code",
   "execution_count": null,
   "metadata": {},
   "outputs": [],
   "source": [
    "dset = 'dpkfly'\n",
    "slbl = ade.dbs[dset]['slbl']\n",
    "expname = 'devtest'\n",
    "\n",
    "conf = apt.create_conf(slbl, 0, expname, ade.alcache, dset, quiet=False)\n",
    "conf.cachedir"
   ]
  },
  {
   "cell_type": "code",
   "execution_count": null,
   "metadata": {},
   "outputs": [],
   "source": [
    "trntfr = os.path.join(conf.cachedir, 'train_TF.tfrecords')\n",
    "valtfr = os.path.join(conf.cachedir, 'val_TF.tfrecords')\n",
    "trntfrdst = os.path.join(conf.cachedir, 'train_TF_2.tfrecords')\n",
    "valtfrdst = os.path.join(conf.cachedir, 'val_TF_2.tfrecords')\n",
    "print(trntfr, valtfr, trntfrdst, valtfrdst)"
   ]
  },
  {
   "cell_type": "code",
   "execution_count": null,
   "metadata": {},
   "outputs": [],
   "source": [
    "pt.count_records(trntfr)"
   ]
  },
  {
   "cell_type": "code",
   "execution_count": null,
   "metadata": {},
   "outputs": [],
   "source": [
    "ims,locs,info,occ = mrd.read_and_decode_without_session(trntfr, conf, \n",
    "                                                        indices=())\n"
   ]
  },
  {
   "cell_type": "code",
   "execution_count": null,
   "metadata": {},
   "outputs": [],
   "source": [
    "split_tfr(trntfr, trntfrdst, valtfrdst, 1350-150)\n"
   ]
  },
  {
   "cell_type": "code",
   "execution_count": null,
   "metadata": {},
   "outputs": [],
   "source": [
    "pt.count_records(valtfrdst)"
   ]
  },
  {
   "cell_type": "code",
   "execution_count": null,
   "metadata": {},
   "outputs": [],
   "source": [
    "imstrn2,locstrn2,infotrn2,occtrn2 = mrd.read_and_decode_without_session(trntfrdst, conf, indices=())"
   ]
  },
  {
   "cell_type": "code",
   "execution_count": null,
   "metadata": {},
   "outputs": [],
   "source": [
    "imsval2,locsval2,infoval2,occval2 = mrd.read_and_decode_without_session(valtfrdst, conf, indices=())"
   ]
  },
  {
   "cell_type": "code",
   "execution_count": null,
   "metadata": {},
   "outputs": [],
   "source": [
    "ifo2 = infotrn2+infoval2\n",
    "ifo2.sort()"
   ]
  },
  {
   "cell_type": "code",
   "execution_count": null,
   "metadata": {},
   "outputs": [],
   "source": [
    "ifo2==info"
   ]
  },
  {
   "cell_type": "code",
   "execution_count": null,
   "metadata": {},
   "outputs": [],
   "source": [
    "ims2 = imstrn2+imsval2\n",
    "locs2 = locstrn2+locsval2\n",
    "ifo2 = infotrn2+infoval2\n",
    "occ2 = occtrn2+occval2\n",
    "idxsorted = sorted(range(len(ifo2)),key=lambda k: ifo2[k])"
   ]
  },
  {
   "cell_type": "code",
   "execution_count": null,
   "metadata": {},
   "outputs": [],
   "source": [
    "ims2S  = [ims2[x] for x in idxsorted]\n",
    "locs2S = [locs2[x] for x in idxsorted]\n",
    "ifo2S  = [ifo2[x] for x in idxsorted]\n",
    "occ2S  = [occ2[x] for x in idxsorted]"
   ]
  },
  {
   "cell_type": "code",
   "execution_count": null,
   "metadata": {},
   "outputs": [],
   "source": [
    "np.array_equal(np.concatenate(occ2S,axis=1),np.concatenate(occ,axis=1))"
   ]
  },
  {
   "cell_type": "code",
   "execution_count": null,
   "metadata": {},
   "outputs": [],
   "source": [
    "type(occ[0])"
   ]
  },
  {
   "cell_type": "code",
   "execution_count": null,
   "metadata": {},
   "outputs": [],
   "source": [
    "np.concatenate(occ,axis=0).shape"
   ]
  },
  {
   "cell_type": "code",
   "execution_count": null,
   "metadata": {},
   "outputs": [],
   "source": [
    "trntfr"
   ]
  },
  {
   "cell_type": "code",
   "execution_count": null,
   "metadata": {},
   "outputs": [],
   "source": [
    "trntfr"
   ]
  },
  {
   "cell_type": "code",
   "execution_count": null,
   "metadata": {},
   "outputs": [],
   "source": [
    "split_tfr_with_rename(trntfr,valtfr,1350-150)"
   ]
  },
  {
   "cell_type": "code",
   "execution_count": null,
   "metadata": {},
   "outputs": [],
   "source": [
    "verify_split_tfr('/dat0/apt/cache/leap_dset/dpkfly/view_0/devtest/train_bak_TF.tfrecords', \n",
    "                 '/dat0/apt/cache/leap_dset/dpkfly/view_0/devtest/../dpkorig_20200512T180752_run4_tfr_ptia_01/val_TF.tfrecords', \n",
    "                 '/dat0/apt/cache/leap_dset/dpkfly/view_0/devtest/train_TF.tfrecords',\n",
    "                 '/dat0/apt/cache/leap_dset/dpkfly/view_0/devtest/val_TF.tfrecords',\n",
    "                 '/dat0/apt/cache/leap_dset/dpkfly/view_0/devtest/test_TF.tfrecords',\n",
    "                 32)\n"
   ]
  }
 ],
 "metadata": {
  "kernelspec": {
   "display_name": "Python 3",
   "language": "python",
   "name": "python3"
  },
  "language_info": {
   "codemirror_mode": {
    "name": "ipython",
    "version": 3
   },
   "file_extension": ".py",
   "mimetype": "text/x-python",
   "name": "python",
   "nbconvert_exporter": "python",
   "pygments_lexer": "ipython3",
   "version": "3.6.9"
  },
  "pycharm": {
   "stem_cell": {
    "cell_type": "raw",
    "metadata": {
     "collapsed": false
    },
    "source": []
   }
  }
 },
 "nbformat": 4,
 "nbformat_minor": 1
}
