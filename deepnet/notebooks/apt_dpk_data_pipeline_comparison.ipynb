{
 "cells": [
  {
   "cell_type": "code",
   "execution_count": null,
   "metadata": {
    "pycharm": {
     "is_executing": true
    }
   },
   "outputs": [],
   "source": [
    "import tensorflow as tf\n",
    "\n",
    "import numpy as np\n",
    "import matplotlib.pyplot as plt\n",
    "import glob\n",
    "\n",
    "import deepposekit as dpk\n",
    "\n",
    "import TrainingGeneratorTFRecord as TGTFR\n",
    "import apt_dpk \n",
    "import run_apt_expts_2 as rae\n",
    "import APT_interface as apt\n",
    "import PoseTools as pt\n",
    "import multiResData as mrd\n",
    "import open_pose_data as opd\n",
    "import util\n",
    "import tfdatagen\n",
    "\n",
    "import time\n",
    "from os.path import expanduser\n",
    "\n",
    "import mpl_toolkits.axes_grid1 as axg1\n",
    "\n",
    "DPK_DSET = '/home/al/git/dpkd/datasets/fly/annotation_data_release.h5'"
   ]
  },
  {
   "cell_type": "markdown",
   "metadata": {
    "pycharm": {
     "is_executing": false
    }
   },
   "source": [
    "## Create a DPK DG; create an APT TFR. Confirm that we read the identical ims/locs from both."
   ]
  },
  {
   "cell_type": "code",
   "execution_count": null,
   "metadata": {
    "pycharm": {
     "is_executing": false
    }
   },
   "outputs": [],
   "source": [
    "dg = dpk.DataGenerator(DPK_DSET)\n",
    "\n",
    "LEAPSTRIPPEDLBL = '/dat0/jrcmirror/groups/branson/bransonlab/apt/experiments/data/leap_dataset_gt_stripped.lbl'\n",
    "EXPNAME = 'dpkfly'\n",
    "CACHE = '/dat0/apt/cache'\n",
    "conf = apt.create_conf(LEAPSTRIPPEDLBL, 0, EXPNAME, \\\n",
    "                       CACHE, 'dpkfly', quiet=False)\n",
    "conf.img_dim = 1  # hack, the leap stripped lbl has NumChans=3, but we created the tfr \n",
    "                  # directly using the dpk h5 which is 1-channel\n",
    "conf.cachedir\n",
    "\n",
    "# Cached images in strippedlbl differ from dpk h5! \n",
    "# - Ims are 3-chan grayscale vs 1-chan\n",
    "# - Locs are off-by-one; strippedlbl prob correct (0-based)\n",
    "#apt.create_tfrecord(conf,split=False,use_cache=True)\n",
    "\n",
    "\n",
    "# So rather than use apt.create_tfrecord, we create the tfr directly from the h5 even \n",
    "# though it may be off-by-one for replication purposes\n",
    "\n",
    "train_tf = conf.cachedir + '/train_TF.tfrecords'\n",
    "#apt_dpk.apt_db_from_datagen(dg, train_tf)"
   ]
  },
  {
   "cell_type": "code",
   "execution_count": null,
   "metadata": {},
   "outputs": [],
   "source": [
    "dir(dg)"
   ]
  },
  {
   "cell_type": "code",
   "execution_count": null,
   "metadata": {
    "pycharm": {
     "is_executing": false,
     "name": "#%%\n"
    }
   },
   "outputs": [],
   "source": [
    "pt.count_records(train_tf), mrd.read_tfrecord_metadata(train_tf)"
   ]
  },
  {
   "cell_type": "code",
   "execution_count": null,
   "metadata": {},
   "outputs": [],
   "source": [
    "conf.batch_size"
   ]
  },
  {
   "cell_type": "code",
   "execution_count": null,
   "metadata": {},
   "outputs": [],
   "source": [
    "# Create a dset\n",
    "ds = tfdatagen.create_tf_datasets(conf, \n",
    "                                  bsize='UNUSED', \n",
    "                                  n_outputs=1,\n",
    "                                  is_raw=True, \n",
    "                                  shuffle=False, \n",
    "                                  infinite=False, \n",
    "                                  dobatch=False)"
   ]
  },
  {
   "cell_type": "code",
   "execution_count": null,
   "metadata": {
    "pycharm": {
     "is_executing": false,
     "name": "#%%\n"
    }
   },
   "outputs": [],
   "source": [
    "# explicitly check/compare our TFR to the dg \n",
    "nkp = 32\n",
    "INDICES_CHECK = [0,333,1499]\n",
    "ims, locs, ifo, _ = mrd.read_and_decode_without_session(train_tf, nkp, indices=INDICES_CHECK)"
   ]
  },
  {
   "cell_type": "code",
   "execution_count": null,
   "metadata": {
    "pycharm": {
     "is_executing": false,
     "name": "#%%\n"
    }
   },
   "outputs": [],
   "source": [
    "ims0 = dg.get_images(INDICES_CHECK)\n",
    "locs0 = dg.get_keypoints(INDICES_CHECK)"
   ]
  },
  {
   "cell_type": "code",
   "execution_count": null,
   "metadata": {},
   "outputs": [],
   "source": [
    "# ... and TFD!!\n",
    "resTFD = tfdatagen.read_ds_idxed(ds, INDICES_CHECK)"
   ]
  },
  {
   "cell_type": "code",
   "execution_count": null,
   "metadata": {},
   "outputs": [],
   "source": [
    "imsTFD, locsTFD, ifoTFD = zip(*resTFD)"
   ]
  },
  {
   "cell_type": "code",
   "execution_count": null,
   "metadata": {
    "pycharm": {
     "is_executing": false,
     "name": "#%%\n"
    }
   },
   "outputs": [],
   "source": [
    "for i in range(3):\n",
    "    print(np.array_equal(ims[i],imsTFD[i]), np.array_equal(locs[i],locsTFD[i]), np.array_equal(ifo[i],ifoTFD[i]))"
   ]
  },
  {
   "cell_type": "code",
   "execution_count": null,
   "metadata": {},
   "outputs": [],
   "source": [
    "for i in range(3):\n",
    "    print(np.array_equal(ims[i],ims0[i,...]), np.array_equal(locs[i],locs0[i,...]))"
   ]
  },
  {
   "cell_type": "code",
   "execution_count": null,
   "metadata": {},
   "outputs": [],
   "source": [
    "ims0stk = np.moveaxis(ims0, 0, -1)\n",
    "ims0stk = ims0stk[:,:,0,:]\n",
    "ims0stk.shape"
   ]
  },
  {
   "cell_type": "code",
   "execution_count": null,
   "metadata": {},
   "outputs": [],
   "source": [
    "locs0.shape"
   ]
  },
  {
   "cell_type": "code",
   "execution_count": null,
   "metadata": {},
   "outputs": [],
   "source": [
    "tfdatagen.montage(ims0stk, locs=locs0)"
   ]
  },
  {
   "cell_type": "markdown",
   "metadata": {},
   "source": [
    "## Create a DPK TG; create an APT TGTFR; create a TFD; all using no augmentation. Confirm that we read the identical ims/locs from both."
   ]
  },
  {
   "cell_type": "code",
   "execution_count": null,
   "metadata": {
    "pycharm": {
     "is_executing": false,
     "name": "#%% Create a TrainingGenerator, no aug\n"
    }
   },
   "outputs": [],
   "source": [
    "DSFAC = 2\n",
    "SIGMA = 5\n",
    "VALSPLIT = 0.0\n",
    "GRAPHSCALE = 1\n",
    "tg = dpk.TrainingGenerator(generator=dg,\n",
    "                           downsample_factor=DSFAC,\n",
    "                           use_graph=True,\n",
    "                           shuffle=False,\n",
    "                           sigma=SIGMA,\n",
    "                           validation_split=VALSPLIT,\n",
    "                           graph_scale=GRAPHSCALE,\n",
    "                           random_seed=0)\n"
   ]
  },
  {
   "cell_type": "code",
   "execution_count": null,
   "metadata": {},
   "outputs": [],
   "source": [
    "tgc = tg.get_config()\n",
    "tgc"
   ]
  },
  {
   "cell_type": "code",
   "execution_count": null,
   "metadata": {},
   "outputs": [],
   "source": [
    "tg.train_range"
   ]
  },
  {
   "cell_type": "code",
   "execution_count": null,
   "metadata": {},
   "outputs": [],
   "source": [
    "g = tg(n_outputs=1, batch_size=4, \n",
    "       validation=False, confidence=True)\n",
    "g"
   ]
  },
  {
   "cell_type": "code",
   "execution_count": null,
   "metadata": {},
   "outputs": [],
   "source": [
    "util.dictdiff(vars(tg),vars(g))"
   ]
  },
  {
   "cell_type": "code",
   "execution_count": null,
   "metadata": {},
   "outputs": [],
   "source": [
    "train_tf"
   ]
  },
  {
   "cell_type": "code",
   "execution_count": null,
   "metadata": {
    "pycharm": {
     "is_executing": false,
     "name": "#%%\n"
    }
   },
   "outputs": [],
   "source": [
    "conf.dpk_input_sigma"
   ]
  },
  {
   "cell_type": "code",
   "execution_count": null,
   "metadata": {},
   "outputs": [],
   "source": [
    "dg.graph, dg.swap_index, dg.compute_image_shape()"
   ]
  },
  {
   "cell_type": "code",
   "execution_count": null,
   "metadata": {
    "pycharm": {
     "is_executing": false,
     "name": "#%%\n"
    }
   },
   "outputs": [],
   "source": [
    "conf.img_dim = 1  # hack, the leap stripped lbl has NumChans=3, but we created the tfr \n",
    "                  # directly using the dpk h5 which is 1-channel\n",
    "conf = apt_dpk.update_conf_dpk(conf,\n",
    "                               dg.graph,\n",
    "                               dg.swap_index,\n",
    "                               n_keypoints=dg.n_keypoints,\n",
    "                               imshape=dg.compute_image_shape(),\n",
    "                               useimgaug=False,\n",
    "                               imgaugtype=None)\n",
    "vars(conf)         "
   ]
  },
  {
   "cell_type": "code",
   "execution_count": null,
   "metadata": {
    "pycharm": {
     "is_executing": false,
     "name": "#%% \n"
    }
   },
   "outputs": [],
   "source": [
    "tgtfr = TGTFR.TrainingGeneratorTFRecord(conf)"
   ]
  },
  {
   "cell_type": "code",
   "execution_count": null,
   "metadata": {
    "pycharm": {
     "is_executing": false,
     "name": "#%%\n"
    }
   },
   "outputs": [],
   "source": [
    "c0 = tg.get_config()\n",
    "c1 = tgtfr.get_config()\n",
    "util.dictdiff(c0,c1)"
   ]
  },
  {
   "cell_type": "code",
   "execution_count": null,
   "metadata": {
    "pycharm": {
     "is_executing": false,
     "name": "#%%\n"
    }
   },
   "outputs": [],
   "source": [
    "c0"
   ]
  },
  {
   "cell_type": "code",
   "execution_count": null,
   "metadata": {
    "pycharm": {
     "is_executing": false,
     "name": "#%%\n"
    }
   },
   "outputs": [],
   "source": [
    "def xylist2xyarr(xylist, xisscalarlist=False):\n",
    "    x, y  = zip(*xylist)\n",
    "    if xisscalarlist:\n",
    "        assert all([len(z)==1 for z in x])\n",
    "        x = [z[0] for z in x]\n",
    "    x = np.concatenate(x,axis=0)\n",
    "    y = np.concatenate(y,axis=0)\n",
    "    return x, y\n",
    "    "
   ]
  },
  {
   "cell_type": "code",
   "execution_count": null,
   "metadata": {
    "pycharm": {
     "is_executing": false,
     "name": "#%% Generate some images. No aug. do they compare?\n"
    }
   },
   "outputs": [],
   "source": [
    "# For tg, originally we constructed without any aug,\n",
    "# and with VALSPLIT=0. So we will use the training imgs\n",
    "# to get unaugmented ims\n",
    "g = tg(n_outputs=1, batch_size=4, \n",
    "       validation=False, confidence=True)"
   ]
  },
  {
   "cell_type": "code",
   "execution_count": null,
   "metadata": {
    "pycharm": {
     "is_executing": false,
     "name": "#%% tgtfr\n"
    }
   },
   "outputs": [],
   "source": [
    "# For tgtfr\n",
    "# 1. we did not have a val db, so it will use the trndb\n",
    "# 2. validation=True =>  no distort/aug/shuffle.\n",
    "\n",
    "# NOW OBSOLETE, TGTFR/generator not updated for bsize\n",
    "\n",
    "conf.batch_size = 4 # hack again, note tgtfr uses batch_size in conf and ignores input arg\n",
    "gtf = tgtfr(n_outputs=1, batch_size=4, \n",
    "       validation=True, confidence=True)"
   ]
  },
  {
   "cell_type": "code",
   "execution_count": null,
   "metadata": {},
   "outputs": [],
   "source": [
    "import importlib"
   ]
  },
  {
   "cell_type": "code",
   "execution_count": null,
   "metadata": {},
   "outputs": [],
   "source": [
    "vars(conf)"
   ]
  },
  {
   "cell_type": "code",
   "execution_count": null,
   "metadata": {},
   "outputs": [],
   "source": [
    "conf_tgtfr = tgtfr.conf  # creating tgtfr has set a few things\n",
    "ds = tfdatagen.create_tf_datasets(conf_tgtfr, 4, 1, \n",
    "                                  distort=False, shuffle=False, infinite=False)"
   ]
  },
  {
   "cell_type": "code",
   "execution_count": null,
   "metadata": {
    "pycharm": {
     "is_executing": false,
     "name": "#%%\n"
    }
   },
   "outputs": [],
   "source": [
    "imstgts_dpk = [g[x] for x in range(4)]\n",
    "imsdpk, tgtsdpk = tfdatagen.xylist2xyarr(imstgts_dpk)\n",
    "imsdpk.shape, tgtsdpk.shape"
   ]
  },
  {
   "cell_type": "code",
   "execution_count": null,
   "metadata": {
    "pycharm": {
     "is_executing": false,
     "name": "#%%\n"
    }
   },
   "outputs": [],
   "source": [
    "imstgts_apt = [next(gtf) for _ in range(4)]\n",
    "imsapt, tgtsapt = xylist2xyarr(imstgts_apt, xisscalarlist=True)\n",
    "imsapt.shape, tgtsapt.shape"
   ]
  },
  {
   "cell_type": "code",
   "execution_count": null,
   "metadata": {},
   "outputs": [],
   "source": [
    "resDS = tfdatagen.read_ds_idxed(ds, range(4))"
   ]
  },
  {
   "cell_type": "code",
   "execution_count": null,
   "metadata": {},
   "outputs": [],
   "source": [
    "for i in range(4):\n",
    "    resDS[i] = (resDS[i][0], resDS[i][1][0]) "
   ]
  },
  {
   "cell_type": "code",
   "execution_count": null,
   "metadata": {},
   "outputs": [],
   "source": [
    "imsDS, tgtsDS = tfdatagen.xylist2xyarr(resDS)\n",
    "imsDS.shape, tgtsDS.shape"
   ]
  },
  {
   "cell_type": "code",
   "execution_count": null,
   "metadata": {
    "pycharm": {
     "is_executing": false,
     "name": "#%%\n"
    }
   },
   "outputs": [],
   "source": [
    "print( np.allclose(imsdpk, imsapt), np.allclose(tgtsdpk, tgtsapt) )\n",
    "print( np.array_equal(imsdpk, imsapt), np.array_equal(tgtsdpk, tgtsapt) )"
   ]
  },
  {
   "cell_type": "code",
   "execution_count": null,
   "metadata": {},
   "outputs": [],
   "source": [
    "print( np.allclose(imsdpk, imsDS), np.allclose(tgtsdpk, tgtsDS) )\n",
    "print( np.array_equal(imsdpk, imsDS), np.array_equal(tgtsdpk, tgtsDS) )"
   ]
  },
  {
   "cell_type": "code",
   "execution_count": null,
   "metadata": {},
   "outputs": [],
   "source": [
    "imsdpkstk = np.moveaxis(imsdpk,0,-1)\n",
    "imsdpkstk = imsdpkstk[:,:,0,:]\n",
    "hfig, grid, cb0 = montage(imsdpkstk,cmap='gray')"
   ]
  },
  {
   "cell_type": "code",
   "execution_count": null,
   "metadata": {},
   "outputs": [],
   "source": [
    "imsDSstk = np.moveaxis(imsDS,0,-1)\n",
    "imsDSstk = imsDSstk[:,:,0,:]\n",
    "hfig, grid, cb0 = tfdatagen.montage(imsDSstk,cmap='gray')"
   ]
  },
  {
   "cell_type": "markdown",
   "metadata": {},
   "source": [
    "## Create a TG with our default imgaug; v similar to DPK example notebook3; \n",
    "## Create a TGTFR with \". Reseed each IA, can we get reproducible augmented data?\n",
    "## same with DS!!"
   ]
  },
  {
   "cell_type": "code",
   "execution_count": null,
   "metadata": {},
   "outputs": [],
   "source": [
    "ia = apt_dpk.make_imgaug_augmenter('dpkfly', dg)"
   ]
  },
  {
   "cell_type": "code",
   "execution_count": null,
   "metadata": {},
   "outputs": [],
   "source": [
    "DSFAC = 2\n",
    "SIGMA = 5\n",
    "VALSPLIT = 0.0\n",
    "GRAPHSCALE = 1\n",
    "tg = dpk.TrainingGenerator(generator=dg,\n",
    "                           downsample_factor=DSFAC,\n",
    "                           augmenter=ia,\n",
    "                           use_graph=True,\n",
    "                           shuffle=False,\n",
    "                           sigma=SIGMA,\n",
    "                           validation_split=VALSPLIT,\n",
    "                           graph_scale=GRAPHSCALE,\n",
    "                           random_seed=0)\n",
    "\n",
    "# For tg, VALSPLIT=0 => use the training imgs\n",
    "g = tg(n_outputs=1, batch_size=4, \n",
    "       validation=False, confidence=True)\n",
    "\n",
    "RNGSEED = 17\n",
    "g.augmenter.reseed(RNGSEED)\n",
    "imstgts_dpk = [g[x] for x in range(3)]\n",
    "imsdpk, tgtsdpk = tfdatagen.xylist2xyarr(imstgts_dpk)\n",
    "imsdpk.shape, tgtsdpk.shape"
   ]
  },
  {
   "cell_type": "code",
   "execution_count": null,
   "metadata": {},
   "outputs": [],
   "source": [
    "conf = apt.create_conf(LEAPSTRIPPEDLBL, 0, EXPNAME, \\\n",
    "                       CACHE, 'dpkfly', quiet=False)\n",
    "conf.img_dim = 1  # hack, the leap stripped lbl has NumChans=3, but we created the tfr \n",
    "                  # directly using the dpk h5 which is 1-channel\n",
    "conf = apt_dpk.update_conf_dpk(conf,\n",
    "                               dg.graph,\n",
    "                               dg.swap_index,\n",
    "                               n_keypoints=dg.n_keypoints,\n",
    "                               imshape=dg.compute_image_shape(),\n",
    "                               useimgaug=True,\n",
    "                               imgaugtype='dpkfly')\n",
    "conf.dpk_use_tfdata = True\n",
    "tgtfr = TGTFR.TrainingGeneratorTFRecord(conf)\n",
    "tgtfr.conf.dpk_augmenter.reseed(RNGSEED)"
   ]
  },
  {
   "cell_type": "code",
   "execution_count": null,
   "metadata": {},
   "outputs": [],
   "source": [
    "tgtfr.conf.cachedir"
   ]
  },
  {
   "cell_type": "code",
   "execution_count": null,
   "metadata": {},
   "outputs": [],
   "source": [
    "ds = tgtfr(batch_size=4, shuffle=False, infinite=False)"
   ]
  },
  {
   "cell_type": "code",
   "execution_count": null,
   "metadata": {},
   "outputs": [],
   "source": [
    "imstgts_apt = [next(gtf) for _ in range(3)]\n",
    "\n",
    "imsapt, tgtsapt = xylist2xyarr(imstgts_apt, xisscalarlist=True)\n",
    "imsapt.shape, tgtsapt.shape"
   ]
  },
  {
   "cell_type": "code",
   "execution_count": null,
   "metadata": {
    "scrolled": false
   },
   "outputs": [],
   "source": [
    "resDS = tfdatagen.read_ds_idxed(ds, range(3))"
   ]
  },
  {
   "cell_type": "code",
   "execution_count": null,
   "metadata": {},
   "outputs": [],
   "source": [
    "for i in range(3):\n",
    "    resDS[i] = (resDS[i][0], resDS[i][1][0]) "
   ]
  },
  {
   "cell_type": "code",
   "execution_count": null,
   "metadata": {},
   "outputs": [],
   "source": [
    "imsDS, tgtsDS = tfdatagen.xylist2xyarr(resDS)\n",
    "imsDS.shape, tgtsDS.shape"
   ]
  },
  {
   "cell_type": "code",
   "execution_count": null,
   "metadata": {},
   "outputs": [],
   "source": [
    "np.allclose(imsdpk,imsapt,), np.allclose(tgtsdpk, tgtsapt), \\\n",
    "np.array_equal(imsdpk, imsapt), np.array_equal(tgtsdpk, tgtsapt)"
   ]
  },
  {
   "cell_type": "code",
   "execution_count": null,
   "metadata": {},
   "outputs": [],
   "source": [
    "np.allclose(imsdpk,imsDS,), np.allclose(tgtsdpk, tgtsDS), \\\n",
    "np.array_equal(imsdpk, imsDS), np.array_equal(tgtsdpk, tgtsDS)"
   ]
  },
  {
   "cell_type": "code",
   "execution_count": null,
   "metadata": {},
   "outputs": [],
   "source": [
    "imsstk = np.moveaxis(imsdpk, 0, -1)\n",
    "imsstk = imsstk[:,:,0,:]\n",
    "imsstk.shape"
   ]
  },
  {
   "cell_type": "code",
   "execution_count": null,
   "metadata": {},
   "outputs": [],
   "source": [
    "hfig, grid, cb0 = tfdatagen.montage(imsstk,cmap='gray')"
   ]
  },
  {
   "cell_type": "code",
   "execution_count": null,
   "metadata": {},
   "outputs": [],
   "source": [
    "imsstk = np.moveaxis(imsDS, 0, -1)\n",
    "imsstk = imsstk[:,:,0,:]\n",
    "imsstk.shape"
   ]
  },
  {
   "cell_type": "code",
   "execution_count": null,
   "metadata": {},
   "outputs": [],
   "source": [
    "hfig, grid, cb0 = tfdatagen.montage(imsstk,cmap='gray')"
   ]
  },
  {
   "cell_type": "code",
   "execution_count": null,
   "metadata": {},
   "outputs": [],
   "source": [
    "hfig, grid, cb0 = tfdatagen.montage(tgtsDS[-1,...],cmap='gray')"
   ]
  },
  {
   "cell_type": "markdown",
   "metadata": {},
   "source": [
    "## Create an Expdir with Val so we can test val"
   ]
  },
  {
   "cell_type": "code",
   "execution_count": null,
   "metadata": {},
   "outputs": [],
   "source": [
    "dg = dpk.DataGenerator(DPK_DSET)\n",
    "\n",
    "LEAPSTRIPPEDLBL = '/dat0/jrcmirror/groups/branson/bransonlab/apt/experiments/data/leap_dataset_gt_stripped.lbl'\n",
    "EXPNAME = 'val10pct'\n",
    "CACHE = '/dat0/apt/cache'\n",
    "conf = apt.create_conf(LEAPSTRIPPEDLBL, 0, EXPNAME, \\\n",
    "                       CACHE, 'dpkfly', quiet=False)\n",
    "conf.img_dim = 1  # hack, the leap stripped lbl has NumChans=3, but we created the tfr \n",
    "                  # directly using the dpk h5 which is 1-channel\n",
    "conf.cachedir\n",
    "\n",
    "# Cached images in strippedlbl differ from dpk h5! \n",
    "# - Ims are 3-chan grayscale vs 1-chan\n",
    "# - Locs are off-by-one; strippedlbl prob correct (0-based)\n",
    "#apt.create_tfrecord(conf,split=False,use_cache=True)\n",
    "\n",
    "\n",
    "# So rather than use apt.create_tfrecord, we create the tfr directly from the h5 even \n",
    "# though it may be off-by-one for replication purposes\n",
    "\n"
   ]
  },
  {
   "cell_type": "code",
   "execution_count": null,
   "metadata": {},
   "outputs": [],
   "source": [
    "n=len(dg)"
   ]
  },
  {
   "cell_type": "code",
   "execution_count": null,
   "metadata": {},
   "outputs": [],
   "source": [
    "VAL_PCT = 10\n",
    "idx_val = np.random.choice(range(n), size=(int(n*VAL_PCT/100)), replace=False) "
   ]
  },
  {
   "cell_type": "code",
   "execution_count": null,
   "metadata": {},
   "outputs": [],
   "source": [
    "len(idx_val)"
   ]
  },
  {
   "cell_type": "code",
   "execution_count": null,
   "metadata": {},
   "outputs": [],
   "source": [
    "train_tf = conf.cachedir + '/train_TF.tfrecords'\n",
    "val_tf = conf.cachedir + '/val_TF.tfrecords'\n",
    "apt_dpk.apt_db_from_datagen(dg, train_tf, val_idx=idx_val, val_tf=val_tf)"
   ]
  },
  {
   "cell_type": "markdown",
   "metadata": {},
   "source": [
    "### Note, the valtf is/was written to disk in sorted order by frame no\n",
    "\n",
    "### Make a dpk.TG"
   ]
  },
  {
   "cell_type": "code",
   "execution_count": null,
   "metadata": {},
   "outputs": [],
   "source": [
    "idx_val.sort()"
   ]
  },
  {
   "cell_type": "code",
   "execution_count": null,
   "metadata": {},
   "outputs": [],
   "source": [
    "idx_val"
   ]
  },
  {
   "cell_type": "code",
   "execution_count": null,
   "metadata": {},
   "outputs": [],
   "source": [
    "_, _, ifo, _ = mrd.read_and_decode_without_session(val_tf, nkp, indices=())"
   ]
  },
  {
   "cell_type": "code",
   "execution_count": null,
   "metadata": {},
   "outputs": [],
   "source": [
    "ifo = np.array(ifo)\n",
    "all(np.diff(ifo[:,0])>0)"
   ]
  },
  {
   "cell_type": "code",
   "execution_count": null,
   "metadata": {},
   "outputs": [],
   "source": [
    "dg"
   ]
  },
  {
   "cell_type": "code",
   "execution_count": null,
   "metadata": {},
   "outputs": [],
   "source": [
    "DSFAC = 2\n",
    "SIGMA = 5\n",
    "VALSPLIT = 0.0\n",
    "GRAPHSCALE = 1\n",
    "ia = apt_dpk.make_imgaug_augmenter('dpkfly', dg)\n",
    "tg = dpk.TrainingGenerator(generator=dg,\n",
    "                           downsample_factor=DSFAC,\n",
    "                           augmenter=ia,\n",
    "                           use_graph=True,\n",
    "                           shuffle=False,\n",
    "                           sigma=SIGMA,\n",
    "                           validation_split=VALSPLIT,\n",
    "                           graph_scale=GRAPHSCALE,\n",
    "                           random_seed=0)"
   ]
  },
  {
   "cell_type": "code",
   "execution_count": null,
   "metadata": {},
   "outputs": [],
   "source": [
    "# Massage to use my val split\n",
    "tg.val_index = idx_val\n",
    "train_index = np.invert(np.isin(tg.index, tg.val_index))\n",
    "tg.train_index = tg.index[train_index]\n",
    "tg.n_validation = len(idx_val)"
   ]
  },
  {
   "cell_type": "code",
   "execution_count": null,
   "metadata": {},
   "outputs": [],
   "source": [
    "cfg = tg.get_config()"
   ]
  },
  {
   "cell_type": "code",
   "execution_count": null,
   "metadata": {},
   "outputs": [],
   "source": [
    "# For tg, VALSPLIT=0 => use the training imgs\n",
    "g = tg(n_outputs=1, batch_size=4, \n",
    "       validation=True, confidence=False)"
   ]
  },
  {
   "cell_type": "code",
   "execution_count": null,
   "metadata": {},
   "outputs": [],
   "source": [
    "g.val_index[:10]"
   ]
  },
  {
   "cell_type": "code",
   "execution_count": null,
   "metadata": {},
   "outputs": [],
   "source": [
    "RNGSEED = 17\n",
    "g.augmenter.reseed(RNGSEED)\n",
    "imstgts_dpk = [g[x] for x in range(150//4)]\n",
    "imsdpk, tgtsdpk = xylist2xyarr(imstgts_dpk)\n",
    "imsdpk.shape, tgtsdpk.shape"
   ]
  },
  {
   "cell_type": "code",
   "execution_count": null,
   "metadata": {},
   "outputs": [],
   "source": [
    "tgtsdpk[-148,...]"
   ]
  },
  {
   "cell_type": "code",
   "execution_count": null,
   "metadata": {},
   "outputs": [],
   "source": [
    "conf.img_dim = 1\n",
    "conf = apt_dpk.update_conf_dpk(conf,\n",
    "                               dg.graph,\n",
    "                               dg.swap_index,\n",
    "                               n_keypoints=dg.n_keypoints,\n",
    "                               imshape=dg.compute_image_shape(),\n",
    "                               useimgaug=True,\n",
    "                               imgaugtype='dpkfly')\n",
    "conf.batch_size=4"
   ]
  },
  {
   "cell_type": "code",
   "execution_count": null,
   "metadata": {},
   "outputs": [],
   "source": [
    "import importlib\n",
    "importlib.reload(tfdatagen)"
   ]
  },
  {
   "cell_type": "code",
   "execution_count": null,
   "metadata": {},
   "outputs": [],
   "source": [
    "ds = tfdatagen.create_tf_datasets(conf, is_val=True, distort=False, shuffle=False, infinite=False, drawconf=False)"
   ]
  },
  {
   "cell_type": "code",
   "execution_count": null,
   "metadata": {},
   "outputs": [],
   "source": [
    "dsraw = tfdatagen.create_tf_datasets(conf, is_val=True, is_raw=True, distort=False, shuffle=False, infinite=False, drawconf=False)"
   ]
  },
  {
   "cell_type": "code",
   "execution_count": null,
   "metadata": {},
   "outputs": [],
   "source": [
    "resDSraw = read_ds_idxed(dsraw,range(150//4))"
   ]
  },
  {
   "cell_type": "code",
   "execution_count": null,
   "metadata": {},
   "outputs": [],
   "source": [
    "resDSraw[0][2]"
   ]
  },
  {
   "cell_type": "code",
   "execution_count": null,
   "metadata": {},
   "outputs": [],
   "source": [
    "imsDSraw, locsDSraw, tgtsDSraw = xylist2xyarr(resDSraw)\n",
    "imsDSraw.shape, locsDSraw,shape, tgtsDSraw.shape"
   ]
  },
  {
   "cell_type": "code",
   "execution_count": null,
   "metadata": {
    "scrolled": false
   },
   "outputs": [],
   "source": [
    "resDS = read_ds_idxed(ds, range(150//4))"
   ]
  },
  {
   "cell_type": "code",
   "execution_count": null,
   "metadata": {},
   "outputs": [],
   "source": [
    "imsDS, tgtsDS = xylist2xyarr(resDS)\n",
    "imsDS.shape, tgtsDS.shape"
   ]
  },
  {
   "cell_type": "code",
   "execution_count": null,
   "metadata": {},
   "outputs": [],
   "source": [
    "tgtsDS[-140,...]"
   ]
  },
  {
   "cell_type": "code",
   "execution_count": null,
   "metadata": {},
   "outputs": [],
   "source": [
    "np.allclose(imsdpk,imsDS,), np.allclose(tgtsdpk, tgtsDS), \\\n",
    "np.array_equal(imsdpk, imsDS), np.array_equal(tgtsdpk, tgtsDS)"
   ]
  },
  {
   "cell_type": "code",
   "execution_count": null,
   "metadata": {},
   "outputs": [],
   "source": [
    "tgtsDS[2,:]"
   ]
  },
  {
   "cell_type": "code",
   "execution_count": null,
   "metadata": {},
   "outputs": [],
   "source": [
    "imsstk = np.moveaxis(imsDS, 0, -1)\n",
    "imsstk = imsstk[:,:,0,:]\n",
    "imsstk.shape"
   ]
  },
  {
   "cell_type": "code",
   "execution_count": null,
   "metadata": {},
   "outputs": [],
   "source": [
    "montage(imsDS[:10,...],locs=tgtsDS[:10,...],cmap='gray',locsmrkrsz=40)"
   ]
  },
  {
   "cell_type": "code",
   "execution_count": null,
   "metadata": {},
   "outputs": [],
   "source": [
    "\n"
   ]
  },
  {
   "cell_type": "code",
   "execution_count": null,
   "metadata": {},
   "outputs": [],
   "source": [
    "## TODO: use pt for tgtfr. how does it compare?"
   ]
  }
 ],
 "metadata": {
  "kernelspec": {
   "display_name": "Python 3",
   "language": "python",
   "name": "python3"
  },
  "language_info": {
   "codemirror_mode": {
    "name": "ipython",
    "version": 3
   },
   "file_extension": ".py",
   "mimetype": "text/x-python",
   "name": "python",
   "nbconvert_exporter": "python",
   "pygments_lexer": "ipython3",
   "version": "3.6.9"
  },
  "pycharm": {
   "stem_cell": {
    "cell_type": "raw",
    "metadata": {
     "collapsed": false
    },
    "source": []
   }
  }
 },
 "nbformat": 4,
 "nbformat_minor": 1
}
