{
 "cells": [
  {
   "cell_type": "code",
   "execution_count": null,
   "metadata": {
    "pycharm": {
     "is_executing": false
    }
   },
   "outputs": [],
   "source": [
    "import glob\n",
    "import importlib\n",
    "import time\n",
    "from os.path import expanduser\n",
    "from os.path import join\n",
    "import copy\n",
    "\n",
    "import tensorflow as tf\n",
    "import numpy as np\n",
    "import matplotlib.pyplot as plt\n",
    "import cv2\n",
    "import mpl_toolkits.axes_grid1 as axg1\n",
    "\n",
    "import deepposekit as dpk\n",
    "import TrainingGeneratorTFRecord as TGTFR\n",
    "import apt_dpk \n",
    "import apt_dpk_exps as ade\n",
    "import run_apt_expts_2 as rae\n",
    "import APT_interface as apt\n",
    "import PoseTools as pt\n",
    "import multiResData as mrd\n",
    "import util\n",
    "import tfdatagen\n",
    "\n",
    "RESDIR = '/dat0/apt/res/'\n",
    "RESPFIX = 'aug_bub_'\n",
    "SLBL = '/dat0/jrcmirror/groups/branson/bransonlab/apt/experiments/data/multitarget_bubble_expandedbehavior_20180425_FxdErrs_OptoParams20200317_stripped20200403.lbl'\n",
    "EXPNAME = 'multitarget_bubble'\n",
    "CACHE = '/dat0/apt/cache'\n",
    "SKEL = '/dat0/jrcmirror/groups/branson/bransonlab/apt/experiments/data/multitarget_bubble_dpk_skeleton.csv'"
   ]
  },
  {
   "cell_type": "markdown",
   "metadata": {
    "pycharm": {
     "is_executing": false
    }
   },
   "source": [
    "### Get the bub: i) train.tfr; ii) slbl (i guess) iii) skel\n"
   ]
  },
  {
   "cell_type": "code",
   "execution_count": null,
   "metadata": {},
   "outputs": [],
   "source": [
    "# Create a TGTFR with our default imgaug\n",
    "conf_params = ['dpk_skel_csv', '\"{}\"'.format(SKEL)]\n",
    "conf = apt.create_conf(SLBL, \n",
    "                       0, \n",
    "                       EXPNAME,\n",
    "                       CACHE, \n",
    "                       'dpk', \n",
    "                       quiet=False,\n",
    "                       conf_params=conf_params\n",
    "                       )"
   ]
  },
  {
   "cell_type": "code",
   "execution_count": null,
   "metadata": {},
   "outputs": [],
   "source": [
    "conf.print_dataaug_flds(print)"
   ]
  },
  {
   "cell_type": "code",
   "execution_count": null,
   "metadata": {},
   "outputs": [],
   "source": [
    "conf.cachedir, conf.dpk_use_augmenter"
   ]
  },
  {
   "cell_type": "markdown",
   "metadata": {
    "pycharm": {
     "is_executing": false
    }
   },
   "source": [
    "### Make a TGTFR to generate raw/undistorted ims/kps from train_TF; montage\n",
    "### This is actually \"raw but with confmaps, then extracting locs\""
   ]
  },
  {
   "cell_type": "code",
   "execution_count": null,
   "metadata": {},
   "outputs": [],
   "source": [
    "TGTFR_BSIZE = 4"
   ]
  },
  {
   "cell_type": "code",
   "execution_count": null,
   "metadata": {},
   "outputs": [],
   "source": [
    "confraw = copy.deepcopy(conf)\n",
    "confraw.valfilename = confraw.trainfilename\n",
    "tgtfrraw = TGTFR.TrainingGeneratorTFRecord(confraw)\n",
    "dsraw = tgtfrraw(n_outputs=1, \n",
    "                 batch_size=TGTFR_BSIZE, \n",
    "                 validation=True,\n",
    "                 confidence=True,\n",
    "                 shuffle=False,\n",
    "                )\n",
    "# val=>undistorted, but with confmaps and then extracting locs"
   ]
  },
  {
   "cell_type": "code",
   "execution_count": null,
   "metadata": {},
   "outputs": [],
   "source": [
    "def read_batches_from_dataset(ds, nbch_read=3):\n",
    "    res = tfdatagen.read_ds_idxed(ds, range(nbch_read))\n",
    "    ims, tgts = tfdatagen.xylist2xyarr(res, yisscalarlist=True)\n",
    "    print(\"ims.shape={}, tgts.shape={}\".format(ims.shape, tgts.shape))\n",
    "    return ims, tgts\n",
    "\n",
    "def get_pred_locs_with_unscale(ims, tgts):\n",
    "    scalex = ims.shape[2]/tgts.shape[2]\n",
    "    scaley = ims.shape[1]/tgts.shape[1]\n",
    "    print(\"scalex={}, scaley={}\".format(scalex, scaley))\n",
    "    \n",
    "    locs = pt.get_pred_locs(tgts)\n",
    "    locs2 = pt.unscale_points(locs, scalex, scaley)\n",
    "    return locs2\n",
    "\n",
    "def savegcf(fig, fname):\n",
    "    outfile = join(RESDIR, RESPFIX+fname)\n",
    "    fig.savefig(outfile, bbox_inches='tight')\n",
    "    print(\"Saved {}\".format(outfile))"
   ]
  },
  {
   "cell_type": "code",
   "execution_count": null,
   "metadata": {},
   "outputs": [],
   "source": [
    "imsraw, tgtsraw = read_batches_from_dataset(dsraw)\n",
    "\n",
    "locsraw = get_pred_locs_with_unscale(imsraw, tgtsraw[...,:17])"
   ]
  },
  {
   "cell_type": "code",
   "execution_count": null,
   "metadata": {},
   "outputs": [],
   "source": [
    "from matplotlib.colors import ListedColormap\n",
    "lcm = ListedColormap(['r','r','w','w','r','w','r','c','c','m','m','r','r','r','g','g','g'])\n",
    "LOCS_MRKRSZ = 80"
   ]
  },
  {
   "cell_type": "code",
   "execution_count": null,
   "metadata": {},
   "outputs": [],
   "source": [
    "fig, _, _ = tfdatagen.montage(ims0=imsraw, \n",
    "                  ims0type='batchfirst', \n",
    "                  locs=locsraw, \n",
    "                  cmap='gray',\n",
    "                  locsmrkr='+',\n",
    "                  locsmrkrsz=LOCS_MRKRSZ,\n",
    "                  locscmap=lcm\n",
    "                 )\n",
    "\n",
    "savegcf(fig, 'raw_wconfmaps')"
   ]
  },
  {
   "cell_type": "markdown",
   "metadata": {
    "pycharm": {
     "is_executing": false
    }
   },
   "source": [
    "### Make a TGTFR to read raw/undistorted ims/kps from train_TF; montage\n",
    "### This is \"true raw\""
   ]
  },
  {
   "cell_type": "code",
   "execution_count": null,
   "metadata": {},
   "outputs": [],
   "source": [
    "dsrawtrue = tgtfrraw(n_outputs=1, \n",
    "                     batch_size=TGTFR_BSIZE, \n",
    "                     validation=True,\n",
    "                     confidence=False,\n",
    "                     shuffle=False,\n",
    "                    )"
   ]
  },
  {
   "cell_type": "code",
   "execution_count": null,
   "metadata": {},
   "outputs": [],
   "source": [
    "nbch_read = 3\n",
    "resrawtrue = tfdatagen.read_ds_idxed(dsrawtrue, range(nbch_read))\n",
    "imsrawtrue, locsrawtrue = tfdatagen.xylist2xyarr(resrawtrue)\n",
    "print(\"ims.shape={}, tgts.shape={}\".format(imsrawtrue.shape, locsrawtrue.shape))"
   ]
  },
  {
   "cell_type": "code",
   "execution_count": null,
   "metadata": {},
   "outputs": [],
   "source": [
    "locsrawtrue  # note not at half-pxs"
   ]
  },
  {
   "cell_type": "code",
   "execution_count": null,
   "metadata": {},
   "outputs": [],
   "source": [
    "fig, _, _ = tfdatagen.montage(ims0=imsrawtrue, \n",
    "                  ims0type='batchfirst', \n",
    "                  locs=locsrawtrue, \n",
    "                  cmap='gray',\n",
    "                  locsmrkr='+',\n",
    "                  locsmrkrsz=LOCS_MRKRSZ,\n",
    "                  locscmap=lcm\n",
    "                 )\n",
    "savegcf(fig, 'raw')"
   ]
  },
  {
   "cell_type": "markdown",
   "metadata": {
    "pycharm": {
     "is_executing": false
    }
   },
   "source": [
    "\n",
    "\n",
    "\n",
    "\n",
    "\n",
    "### Make a TGTFR with the bub PT: montage it\n",
    "### Recall: the pipeline is, raw ims/locs read from tfr, padded, distorted, confmaps gen'd"
   ]
  },
  {
   "cell_type": "code",
   "execution_count": null,
   "metadata": {},
   "outputs": [],
   "source": [
    "np.random.seed(0)"
   ]
  },
  {
   "cell_type": "code",
   "execution_count": null,
   "metadata": {},
   "outputs": [],
   "source": [
    "tgtfr = TGTFR.TrainingGeneratorTFRecord(conf)\n",
    "#tgtfr.conf.dpk_augmenter.reseed(RNGSEED)\n",
    "dspt = tgtfr(n_outputs=1, \n",
    "             batch_size=TGTFR_BSIZE, \n",
    "             validation=False,  # train_TF=confraw.val_TF; but turn on distort\n",
    "             confidence=True, \n",
    "             shuffle=False)"
   ]
  },
  {
   "cell_type": "code",
   "execution_count": null,
   "metadata": {},
   "outputs": [],
   "source": [
    "imspt, tgtspt = read_batches_from_dataset(dspt, 9)\n",
    "\n",
    "locspt = get_pred_locs_with_unscale(imspt, tgtspt[...,:17])"
   ]
  },
  {
   "cell_type": "code",
   "execution_count": null,
   "metadata": {},
   "outputs": [],
   "source": [
    "locspt  # note even half-pxs"
   ]
  },
  {
   "cell_type": "code",
   "execution_count": null,
   "metadata": {},
   "outputs": [],
   "source": [
    "fig, _, _ = tfdatagen.montage(ims0=imspt, \n",
    "                  ims0type='batchfirst', \n",
    "                  locs=locspt, \n",
    "                  cmap='gray',\n",
    "                  locsmrkr='+',\n",
    "                  locsmrkrsz=LOCS_MRKRSZ,\n",
    "                  locscmap=lcm\n",
    "                 )\n",
    "savegcf(fig, 'pt_wconfmaps')"
   ]
  },
  {
   "cell_type": "code",
   "execution_count": null,
   "metadata": {},
   "outputs": [],
   "source": [
    "conf.dpk_use_augmenter\n"
   ]
  },
  {
   "cell_type": "markdown",
   "metadata": {},
   "source": [
    "\n",
    "\n",
    "\n",
    "\n",
    "### PT -> raw (conf off)"
   ]
  },
  {
   "cell_type": "code",
   "execution_count": null,
   "metadata": {},
   "outputs": [],
   "source": [
    "np.random.seed(0)"
   ]
  },
  {
   "cell_type": "code",
   "execution_count": null,
   "metadata": {},
   "outputs": [],
   "source": [
    "#tgtfr = TGTFR.TrainingGeneratorTFRecord(conf)\n",
    "dsptraw = tgtfr(n_outputs=1, \n",
    "             batch_size=TGTFR_BSIZE, \n",
    "             validation=False,  # train_TF=confraw.val_TF; but turn on distort\n",
    "             confidence=False, \n",
    "             shuffle=False)"
   ]
  },
  {
   "cell_type": "code",
   "execution_count": null,
   "metadata": {},
   "outputs": [],
   "source": [
    "nbch_read = 3\n",
    "resptraw = tfdatagen.read_ds_idxed(dsptraw, range(nbch_read))\n",
    "imsptraw, locsptraw = tfdatagen.xylist2xyarr(resptraw)\n",
    "print(\"ims.shape={}, tgts.shape={}\".format(imsptraw.shape, locsptraw.shape))"
   ]
  },
  {
   "cell_type": "code",
   "execution_count": null,
   "metadata": {},
   "outputs": [],
   "source": [
    "locsptraw"
   ]
  },
  {
   "cell_type": "code",
   "execution_count": null,
   "metadata": {},
   "outputs": [],
   "source": [
    "importlib.reload(tfdatagen)"
   ]
  },
  {
   "cell_type": "code",
   "execution_count": null,
   "metadata": {},
   "outputs": [],
   "source": [
    "fig, _, _ = tfdatagen.montage(ims0=imsptraw, \n",
    "                  ims0type='batchfirst', \n",
    "                  locs=locsptraw, \n",
    "                  cmap='gray',\n",
    "                  locsmrkr='+',\n",
    "                  locsmrkrsz=LOCS_MRKRSZ,\n",
    "                  locscmap=lcm\n",
    "                 )\n",
    "savegcf(fig, 'pt_raw')"
   ]
  },
  {
   "cell_type": "code",
   "execution_count": null,
   "metadata": {},
   "outputs": [],
   "source": []
  },
  {
   "cell_type": "markdown",
   "metadata": {
    "pycharm": {
     "is_executing": false
    }
   },
   "source": [
    "\n",
    "\n",
    "\n",
    "\n",
    "\n",
    "### Direct IA manip of raw ims\n"
   ]
  },
  {
   "cell_type": "code",
   "execution_count": null,
   "metadata": {},
   "outputs": [],
   "source": [
    "import imgaug as ia\n",
    "import imgaug.augmenters as iaa\n",
    "from imgaug.augmentables import Keypoint, KeypointsOnImage\n",
    "from deepposekit.augment import FlipAxis"
   ]
  },
  {
   "cell_type": "code",
   "execution_count": null,
   "metadata": {},
   "outputs": [],
   "source": [
    "print(imsrawtrue.shape,locsrawtrue.shape)"
   ]
  },
  {
   "cell_type": "code",
   "execution_count": null,
   "metadata": {},
   "outputs": [],
   "source": [
    "aug = apt_dpk.make_imgaug_augmenter('bub', conf.dpk_swap_index)"
   ]
  },
  {
   "cell_type": "code",
   "execution_count": null,
   "metadata": {},
   "outputs": [],
   "source": [
    "imsia, locsia = tfdatagen.imgaug_augment(aug, \n",
    "                                         images=imsrawtrue, \n",
    "                                         keypoints=locsrawtrue)\n",
    "print(\"imsia.shape={}, locsia.shape={}\".format(imsia.shape, locsia.shape))\n"
   ]
  },
  {
   "cell_type": "code",
   "execution_count": null,
   "metadata": {},
   "outputs": [],
   "source": [
    "#imsia2 = np.minimum(255, imsia)"
   ]
  },
  {
   "cell_type": "code",
   "execution_count": null,
   "metadata": {},
   "outputs": [],
   "source": [
    "#imsia3 = imsia2.clip(0, 255)"
   ]
  },
  {
   "cell_type": "code",
   "execution_count": null,
   "metadata": {},
   "outputs": [],
   "source": [
    "np.min(imsia), np.max(imsia)"
   ]
  },
  {
   "cell_type": "code",
   "execution_count": null,
   "metadata": {},
   "outputs": [],
   "source": [
    "hfig, grid, cb0 = tfdatagen.montage(imsia, \n",
    "                                    ims0type='batchfirst',\n",
    "                                    cmap='gray', \n",
    "                                    locs=locsia, \n",
    "                                    locsmrkrsz=55, locsmrkr='+', locscmap=lcm)\n",
    "\n",
    "savegcf(hfig, 'ia_directmanip')"
   ]
  },
  {
   "cell_type": "markdown",
   "metadata": {
    "pycharm": {
     "is_executing": false
    }
   },
   "source": [
    "\n",
    "\n",
    "\n",
    "\n",
    "\n",
    "### end2end ia thru TGTFR\n"
   ]
  },
  {
   "cell_type": "code",
   "execution_count": null,
   "metadata": {},
   "outputs": [],
   "source": [
    "confia = copy.deepcopy(conf)\n",
    "confia.dpk_use_augmenter = True\n",
    "confia.dpk_augmenter_type = {'type': 'bub'}"
   ]
  },
  {
   "cell_type": "code",
   "execution_count": null,
   "metadata": {},
   "outputs": [],
   "source": [
    "tgtfria = TGTFR.TrainingGeneratorTFRecord(confia)\n",
    "#tgtfr.conf.dpk_augmenter.reseed(RNGSEED)\n",
    "dsia = tgtfria(n_outputs=1, \n",
    "             batch_size=TGTFR_BSIZE, \n",
    "             validation=False,  # train_TF=confraw.val_TF; but turn on distort\n",
    "             confidence=True, \n",
    "             shuffle=False)"
   ]
  },
  {
   "cell_type": "code",
   "execution_count": null,
   "metadata": {},
   "outputs": [],
   "source": [
    "imsia, tgtsia = read_batches_from_dataset(dsia, 9)\n",
    "\n",
    "locsia = get_pred_locs_with_unscale(imsia, tgtsia[...,:17])"
   ]
  },
  {
   "cell_type": "code",
   "execution_count": null,
   "metadata": {},
   "outputs": [],
   "source": [
    "locsia"
   ]
  },
  {
   "cell_type": "code",
   "execution_count": null,
   "metadata": {},
   "outputs": [],
   "source": [
    "fig, _, _ = tfdatagen.montage(ims0=imsia, \n",
    "                  ims0type='batchfirst', \n",
    "                  locs=locsia, \n",
    "                  cmap='gray',\n",
    "                  locsmrkr='+',\n",
    "                  locsmrkrsz=LOCS_MRKRSZ,\n",
    "                  locscmap=lcm\n",
    "                 )\n",
    "savegcf(fig, 'ia_confmap')"
   ]
  },
  {
   "cell_type": "code",
   "execution_count": null,
   "metadata": {},
   "outputs": [],
   "source": []
  },
  {
   "cell_type": "markdown",
   "metadata": {},
   "source": [
    "### end2end ia thru TGTFR, but no conf\n"
   ]
  },
  {
   "cell_type": "code",
   "execution_count": null,
   "metadata": {},
   "outputs": [],
   "source": [
    "dsiaraw = tgtfria(n_outputs=1, \n",
    "                  batch_size=TGTFR_BSIZE, \n",
    "                  validation=False,  # train_TF=confraw.val_TF; but turn on distort\n",
    "                  confidence=False, \n",
    "                  shuffle=False)"
   ]
  },
  {
   "cell_type": "code",
   "execution_count": null,
   "metadata": {},
   "outputs": [],
   "source": [
    "nbch_read = 3\n",
    "resiaraw = tfdatagen.read_ds_idxed(dsiaraw, range(nbch_read))\n",
    "imsiaraw, locsiaraw = tfdatagen.xylist2xyarr(resiaraw)\n",
    "print(\"ims.shape={}, tgts.shape={}\".format(imsiaraw.shape, locsiaraw.shape))"
   ]
  },
  {
   "cell_type": "code",
   "execution_count": null,
   "metadata": {},
   "outputs": [],
   "source": [
    "locsiaraw"
   ]
  },
  {
   "cell_type": "code",
   "execution_count": null,
   "metadata": {},
   "outputs": [],
   "source": [
    "fig, _, _ = tfdatagen.montage(ims0=imsiaraw, \n",
    "                  ims0type='batchfirst', \n",
    "                  locs=locsiaraw, \n",
    "                  cmap='gray',\n",
    "                  locsmrkr='+',\n",
    "                  locsmrkrsz=LOCS_MRKRSZ,\n",
    "                  locscmap=lcm\n",
    "                 )\n",
    "savegcf(fig, 'ia_raw')"
   ]
  },
  {
   "cell_type": "code",
   "execution_count": null,
   "metadata": {},
   "outputs": [],
   "source": []
  },
  {
   "cell_type": "code",
   "execution_count": null,
   "metadata": {},
   "outputs": [],
   "source": []
  },
  {
   "cell_type": "code",
   "execution_count": null,
   "metadata": {},
   "outputs": [],
   "source": []
  },
  {
   "cell_type": "markdown",
   "metadata": {},
   "source": [
    "##  TODO BELOW\n",
    "\n",
    "## Check extents"
   ]
  },
  {
   "cell_type": "code",
   "execution_count": null,
   "metadata": {},
   "outputs": [],
   "source": [
    "def get_conf_map_argmaxs_allmaps(tgts0, sz=(192, 192)):\n",
    "    '''\n",
    "    tgts0: [bsize x nr x nc x nmap]\n",
    "    '''\n",
    "    tgts = tgts0.copy()\n",
    "    tgts = np.moveaxis(tgts, 0, -1)  # [nr x nc x nmap x bsize]\n",
    "    nr, nc, nmap, bsize = tgts.shape\n",
    "    print('nr nc nmap bsize = {} {} {} {}'.format(nr, nc, nmap, bsize))\n",
    "    tgts = np.reshape(tgts, (nr, nc, nmap*bsize), order='F')\n",
    "    \n",
    "    locs = np.zeros((nmap*bsize, 2))\n",
    "    for i in range(tgts.shape[2]):\n",
    "        tgttmp = cv2.resize(tgts[...,i], sz)\n",
    "        locstmp = pt.get_pred_locs(tgttmp[np.newaxis,...,np.newaxis])\n",
    "        locs[i,...] = locstmp[0,0,...]\n",
    "        \n",
    "    return locs # [bsize*nmap x 2]"
   ]
  },
  {
   "cell_type": "code",
   "execution_count": null,
   "metadata": {},
   "outputs": [],
   "source": [
    "locsDS = get_conf_map_argmaxs_allmaps(tgtsDS)\n",
    "locsDS.shape"
   ]
  },
  {
   "cell_type": "code",
   "execution_count": null,
   "metadata": {},
   "outputs": [],
   "source": [
    "locsdpk = get_conf_map_argmaxs_allmaps(tgtsdpk)\n",
    "locsdpk.shape"
   ]
  },
  {
   "cell_type": "code",
   "execution_count": null,
   "metadata": {},
   "outputs": [],
   "source": [
    "f = plt.figure(num=21)\n",
    "f.clf()\n",
    "ax = f.subplots(2,2,sharex=True,sharey=True)  # figsize=(16,12),\n",
    "for iax in range(2):\n",
    "    plt.sca(ax[0,iax])\n",
    "    plt.hist(locsdpk[:,iax],bins=50)\n",
    "    plt.title('dpk {}'.format(iax))\n",
    "    plt.sca(ax[1,iax])\n",
    "    plt.hist(locsDS[:,iax],bins=50)\n",
    "    plt.title('DS {}'.format(iax))\n",
    "    \n"
   ]
  },
  {
   "cell_type": "code",
   "execution_count": null,
   "metadata": {},
   "outputs": [],
   "source": [
    "imsDSplot = imsDS.copy()\n",
    "imsDSplot = np.moveaxis(imsDSplot, 0, -1)\n",
    "imsDSplot = imsDSplot[:, :, 0, :]\n",
    "locsDSplot = np.reshape(locsDS, (66, 800, 2), order='F')\n",
    "locsDSplot = np.moveaxis(locsDSplot, 0, 1)\n",
    "locsDSplot.shape"
   ]
  },
  {
   "cell_type": "code",
   "execution_count": null,
   "metadata": {},
   "outputs": [],
   "source": [
    "hfig, grid, cb0 = tfdatagen.montage(imsDSplot[...,:100], \n",
    "                                    cmap='gray', \n",
    "                                    locs=locsDSplot[:100,:32,:], \n",
    "                                    locsmrkrsz=12)"
   ]
  },
  {
   "cell_type": "code",
   "execution_count": null,
   "metadata": {},
   "outputs": [],
   "source": [
    "imsdpkplot = imsdpk.copy()\n",
    "imsdpkplot = np.moveaxis(imsdpkplot, 0, -1)\n",
    "imsdpkplot = imsdpkplot[:, :, 0, :]\n",
    "locsdpkplot = np.reshape(locsdpk, (66, 800, 2), order='F')\n",
    "locsdpkplot = np.moveaxis(locsdpkplot, 0, 1)\n",
    "NPLOT = 100\n",
    "hfig, grid, cb0 = tfdatagen.montage(imsdpkplot[...,:NPLOT], \n",
    "                                    cmap='gray', \n",
    "                                    locs=locsdpkplot[:NPLOT,[0,25],:], \n",
    "                                    locsmrkrsz=12)"
   ]
  },
  {
   "cell_type": "code",
   "execution_count": null,
   "metadata": {},
   "outputs": [],
   "source": [
    "locsdpkplot.shape"
   ]
  },
  {
   "cell_type": "code",
   "execution_count": null,
   "metadata": {},
   "outputs": [],
   "source": [
    "IPTPLOT = 8\n",
    "f = plt.figure(num=22)\n",
    "f.clf()\n",
    "ax = f.subplots(2,2,sharex=True,sharey=True)  # figsize=(16,12),\n",
    "for iax in range(2):\n",
    "    plt.sca(ax[0,iax])\n",
    "    plt.hist(locsdpkplot[:,IPTPLOT,iax],bins=20)\n",
    "    plt.title('dpk {}'.format(iax))\n",
    "    plt.xlim((0,192))\n",
    "    plt.sca(ax[1,iax])\n",
    "    plt.hist(locsDSplot[:,IPTPLOT,iax],bins=20)\n",
    "    plt.title('DS {}'.format(iax))\n",
    "    plt.xlim((0,192))\n",
    "    "
   ]
  },
  {
   "cell_type": "code",
   "execution_count": null,
   "metadata": {},
   "outputs": [],
   "source": [
    "IPTHEAD = 0\n",
    "IPTTAIL = 5\n",
    "vtailhead_ds = locsDSplot[:,IPTHEAD,:]-locsDSplot[:,IPTTAIL,:]\n",
    "vtailhead_dpk = locsdpkplot[:,IPTHEAD,:]-locsdpkplot[:,IPTTAIL,:]\n",
    "\n",
    "phi_ds = np.arctan2(vtailhead_ds[:,1],vtailhead_ds[:,0])\n",
    "phi_dpk = np.arctan2(vtailhead_dpk[:,1],vtailhead_dpk[:,0])\n",
    "\n",
    "phi_ds.shape, phi_dpk.shape"
   ]
  },
  {
   "cell_type": "code",
   "execution_count": null,
   "metadata": {},
   "outputs": [],
   "source": [
    "f = plt.figure(num=23)\n",
    "f.clf()\n",
    "ax = f.subplots(1,2,sharex=True,sharey=True)  # figsize=(16,12),\n",
    "\n",
    "plt.sca(ax[0])\n",
    "plt.hist(phi_ds,bins=20)\n",
    "plt.title('ds')\n",
    "#plt.xlim((0,192))\n",
    "plt.sca(ax[1])\n",
    "plt.hist(phi_dpk,bins=20)\n",
    "plt.title('dpk')\n",
    "#plt.xlim((0,192))"
   ]
  },
  {
   "cell_type": "code",
   "execution_count": null,
   "metadata": {},
   "outputs": [],
   "source": []
  },
  {
   "cell_type": "code",
   "execution_count": null,
   "metadata": {},
   "outputs": [],
   "source": []
  },
  {
   "cell_type": "code",
   "execution_count": null,
   "metadata": {},
   "outputs": [],
   "source": []
  },
  {
   "cell_type": "code",
   "execution_count": null,
   "metadata": {},
   "outputs": [],
   "source": []
  },
  {
   "cell_type": "markdown",
   "metadata": {},
   "source": [
    "### Messing around"
   ]
  },
  {
   "cell_type": "code",
   "execution_count": null,
   "metadata": {},
   "outputs": [],
   "source": [
    "\n",
    "\n",
    "aug2 = []\n",
    "#aug2.append(iaa.Add(150))\n",
    "aug2.append(iaa.LinearContrast((1.0,3.0)))\n",
    "aug2 = iaa.Sequential(aug2)\n",
    "\n",
    "im = ia.quokka(size=(32,32))\n",
    "im = cv2.cvtColor(im, cv2.COLOR_BGR2GRAY)\n",
    "im = im.astype(np.float32)\n",
    "kp = KeypointsOnImage([\n",
    "    Keypoint(x=15, y=25),\n",
    "    Keypoint(x=25, y=20),\n",
    "], shape=im.shape)\n",
    "\n",
    "ima, kpa = aug2(image=im, keypoints=kp)\n",
    "\n",
    "im0 = kp.draw_on_image(im,color=0)\n",
    "im1 = kpa.draw_on_image(ima,color=0)\n",
    "\n",
    "\n",
    "plt.figure()\n",
    "plt.imshow(im0)\n",
    "plt.clim((0,255))\n",
    "plt.colorbar()\n",
    "plt.figure()\n",
    "plt.imshow(im1)\n",
    "plt.clim((0,255))\n",
    "plt.colorbar()\n",
    "\n",
    "np.max(im), np.max(ima)"
   ]
  },
  {
   "cell_type": "code",
   "execution_count": null,
   "metadata": {},
   "outputs": [],
   "source": [
    "imbub = imsDS[...,0]\n",
    "imbub = imbub[np.newaxis,...]\n"
   ]
  },
  {
   "cell_type": "code",
   "execution_count": null,
   "metadata": {},
   "outputs": [],
   "source": [
    "kpbub = locsDS[0,np.newaxis,:17,:]"
   ]
  },
  {
   "cell_type": "code",
   "execution_count": null,
   "metadata": {},
   "outputs": [],
   "source": [
    "imbub.shape, kpbub.shape"
   ]
  },
  {
   "cell_type": "code",
   "execution_count": null,
   "metadata": {},
   "outputs": [],
   "source": [
    "imbub2, kpbub2 = augmenter(image=imbub, keypoints=kpbub)\n"
   ]
  },
  {
   "cell_type": "code",
   "execution_count": null,
   "metadata": {},
   "outputs": [],
   "source": [
    "imbub2.shape, kpbub2.shape"
   ]
  },
  {
   "cell_type": "code",
   "execution_count": null,
   "metadata": {},
   "outputs": [],
   "source": [
    "tfdatagen.montage(np.moveaxis(imbub,0,-1), locs=kpbub,figsize=(10,10))"
   ]
  },
  {
   "cell_type": "code",
   "execution_count": null,
   "metadata": {},
   "outputs": [],
   "source": [
    "tfdatagen.montage(np.moveaxis(imbub2,0,-1), locs=kpbub2,figsize=(10,10))"
   ]
  }
 ],
 "metadata": {
  "kernelspec": {
   "display_name": "Python 3",
   "language": "python",
   "name": "python3"
  },
  "language_info": {
   "codemirror_mode": {
    "name": "ipython",
    "version": 3
   },
   "file_extension": ".py",
   "mimetype": "text/x-python",
   "name": "python",
   "nbconvert_exporter": "python",
   "pygments_lexer": "ipython3",
   "version": "3.6.9"
  },
  "pycharm": {
   "stem_cell": {
    "cell_type": "raw",
    "metadata": {
     "collapsed": false
    },
    "source": []
   }
  }
 },
 "nbformat": 4,
 "nbformat_minor": 1
}
