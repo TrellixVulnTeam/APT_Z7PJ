{
 "cells": [
  {
   "cell_type": "code",
   "execution_count": 1,
   "metadata": {},
   "outputs": [],
   "source": [
    "import tensorflow as tf\n",
    "tf.keras.backend.clear_session()"
   ]
  },
  {
   "cell_type": "code",
   "execution_count": null,
   "metadata": {},
   "outputs": [],
   "source": [
    "tf.__version__"
   ]
  },
  {
   "cell_type": "code",
   "execution_count": 2,
   "metadata": {
    "pycharm": {
     "is_executing": true
    }
   },
   "outputs": [
    {
     "name": "stderr",
     "output_type": "stream",
     "text": [
      "WARNING: Logging before flag parsing goes to stderr.\n",
      "W0611 16:35:16.324268 140386015872832 deprecation.py:506] From /dat0/venv/env/lib/python3.6/site-packages/tensorflow/python/ops/init_ops.py:1251: calling VarianceScaling.__init__ (from tensorflow.python.ops.init_ops) with dtype is deprecated and will be removed in a future version.\n",
      "Instructions for updating:\n",
      "Call initializer instance with the dtype argument instead of passing it to the constructor\n"
     ]
    }
   ],
   "source": [
    "original_dim = 3\n",
    "intermediate_dim = 5\n",
    "\n",
    "inp = tf.keras.Input(shape=(original_dim,), name='input')\n",
    "x = tf.keras.layers.Dense(intermediate_dim, activation='relu', name='l1')(inp)\n",
    "x = tf.keras.layers.Dense(intermediate_dim, activation='relu', name='l2')(x)\n",
    "m  = tf.keras.Model(inputs=inp, outputs=x, name='m1')"
   ]
  },
  {
   "cell_type": "code",
   "execution_count": 3,
   "metadata": {
    "pycharm": {
     "is_executing": true
    }
   },
   "outputs": [],
   "source": [
    "s=tf.keras.backend.get_session()\n",
    "ops = s.graph.get_operations()\n",
    "tns = [m.values() for m in ops]"
   ]
  },
  {
   "cell_type": "code",
   "execution_count": 4,
   "metadata": {},
   "outputs": [
    {
     "data": {
      "text/plain": [
       "(50, 50)"
      ]
     },
     "execution_count": 4,
     "metadata": {},
     "output_type": "execute_result"
    }
   ],
   "source": [
    "len(ops), len(tns)"
   ]
  },
  {
   "cell_type": "code",
   "execution_count": null,
   "metadata": {},
   "outputs": [],
   "source": [
    "ops"
   ]
  },
  {
   "cell_type": "code",
   "execution_count": 8,
   "metadata": {},
   "outputs": [
    {
     "data": {
      "text/plain": [
       "[(<tf.Tensor 'keras_learning_phase/input:0' shape=() dtype=bool>,),\n",
       " (<tf.Tensor 'keras_learning_phase:0' shape=() dtype=bool>,),\n",
       " (<tf.Tensor 'input:0' shape=(?, 3) dtype=float32>,),\n",
       " (<tf.Tensor 'l1/kernel/Initializer/random_uniform/shape:0' shape=(2,) dtype=int32>,),\n",
       " (<tf.Tensor 'l1/kernel/Initializer/random_uniform/min:0' shape=() dtype=float32>,),\n",
       " (<tf.Tensor 'l1/kernel/Initializer/random_uniform/max:0' shape=() dtype=float32>,),\n",
       " (<tf.Tensor 'l1/kernel/Initializer/random_uniform/RandomUniform:0' shape=(3, 5) dtype=float32>,),\n",
       " (<tf.Tensor 'l1/kernel/Initializer/random_uniform/sub:0' shape=() dtype=float32>,),\n",
       " (<tf.Tensor 'l1/kernel/Initializer/random_uniform/mul:0' shape=(3, 5) dtype=float32>,),\n",
       " (<tf.Tensor 'l1/kernel/Initializer/random_uniform:0' shape=(3, 5) dtype=float32>,),\n",
       " (<tf.Tensor 'l1/kernel:0' shape=() dtype=resource>,),\n",
       " (<tf.Tensor 'l1/kernel/IsInitialized/VarIsInitializedOp:0' shape=() dtype=bool>,),\n",
       " (),\n",
       " (<tf.Tensor 'l1/kernel/Read/ReadVariableOp:0' shape=(3, 5) dtype=float32>,),\n",
       " (<tf.Tensor 'l1/bias/Initializer/zeros:0' shape=(5,) dtype=float32>,),\n",
       " (<tf.Tensor 'l1/bias:0' shape=() dtype=resource>,),\n",
       " (<tf.Tensor 'l1/bias/IsInitialized/VarIsInitializedOp:0' shape=() dtype=bool>,),\n",
       " (),\n",
       " (<tf.Tensor 'l1/bias/Read/ReadVariableOp:0' shape=(5,) dtype=float32>,),\n",
       " (<tf.Tensor 'l1/MatMul/ReadVariableOp:0' shape=(3, 5) dtype=float32>,),\n",
       " (<tf.Tensor 'l1/MatMul:0' shape=(?, 5) dtype=float32>,),\n",
       " (<tf.Tensor 'l1/BiasAdd/ReadVariableOp:0' shape=(5,) dtype=float32>,),\n",
       " (<tf.Tensor 'l1/BiasAdd:0' shape=(?, 5) dtype=float32>,),\n",
       " (<tf.Tensor 'l1/Relu:0' shape=(?, 5) dtype=float32>,),\n",
       " (<tf.Tensor 'l2/kernel/Initializer/random_uniform/shape:0' shape=(2,) dtype=int32>,),\n",
       " (<tf.Tensor 'l2/kernel/Initializer/random_uniform/min:0' shape=() dtype=float32>,),\n",
       " (<tf.Tensor 'l2/kernel/Initializer/random_uniform/max:0' shape=() dtype=float32>,),\n",
       " (<tf.Tensor 'l2/kernel/Initializer/random_uniform/RandomUniform:0' shape=(5, 5) dtype=float32>,),\n",
       " (<tf.Tensor 'l2/kernel/Initializer/random_uniform/sub:0' shape=() dtype=float32>,),\n",
       " (<tf.Tensor 'l2/kernel/Initializer/random_uniform/mul:0' shape=(5, 5) dtype=float32>,),\n",
       " (<tf.Tensor 'l2/kernel/Initializer/random_uniform:0' shape=(5, 5) dtype=float32>,),\n",
       " (<tf.Tensor 'l2/kernel:0' shape=() dtype=resource>,),\n",
       " (<tf.Tensor 'l2/kernel/IsInitialized/VarIsInitializedOp:0' shape=() dtype=bool>,),\n",
       " (),\n",
       " (<tf.Tensor 'l2/kernel/Read/ReadVariableOp:0' shape=(5, 5) dtype=float32>,),\n",
       " (<tf.Tensor 'l2/bias/Initializer/zeros:0' shape=(5,) dtype=float32>,),\n",
       " (<tf.Tensor 'l2/bias:0' shape=() dtype=resource>,),\n",
       " (<tf.Tensor 'l2/bias/IsInitialized/VarIsInitializedOp:0' shape=() dtype=bool>,),\n",
       " (),\n",
       " (<tf.Tensor 'l2/bias/Read/ReadVariableOp:0' shape=(5,) dtype=float32>,),\n",
       " (<tf.Tensor 'l2/MatMul/ReadVariableOp:0' shape=(5, 5) dtype=float32>,),\n",
       " (<tf.Tensor 'l2/MatMul:0' shape=(?, 5) dtype=float32>,),\n",
       " (<tf.Tensor 'l2/BiasAdd/ReadVariableOp:0' shape=(5,) dtype=float32>,),\n",
       " (<tf.Tensor 'l2/BiasAdd:0' shape=(?, 5) dtype=float32>,),\n",
       " (<tf.Tensor 'l2/Relu:0' shape=(?, 5) dtype=float32>,),\n",
       " (<tf.Tensor 'VarIsInitializedOp:0' shape=() dtype=bool>,),\n",
       " (<tf.Tensor 'VarIsInitializedOp_1:0' shape=() dtype=bool>,),\n",
       " (<tf.Tensor 'VarIsInitializedOp_2:0' shape=() dtype=bool>,),\n",
       " (<tf.Tensor 'VarIsInitializedOp_3:0' shape=() dtype=bool>,),\n",
       " (),\n",
       " (<tf.Tensor 'm1/l1/MatMul/ReadVariableOp:0' shape=(3, 5) dtype=float32>,),\n",
       " (<tf.Tensor 'm1/l1/MatMul:0' shape=(?, 5) dtype=float32>,),\n",
       " (<tf.Tensor 'm1/l1/BiasAdd/ReadVariableOp:0' shape=(5,) dtype=float32>,),\n",
       " (<tf.Tensor 'm1/l1/BiasAdd:0' shape=(?, 5) dtype=float32>,),\n",
       " (<tf.Tensor 'm1/l1/Relu:0' shape=(?, 5) dtype=float32>,),\n",
       " (<tf.Tensor 'm1/l2/MatMul/ReadVariableOp:0' shape=(5, 5) dtype=float32>,),\n",
       " (<tf.Tensor 'm1/l2/MatMul:0' shape=(?, 5) dtype=float32>,),\n",
       " (<tf.Tensor 'm1/l2/BiasAdd/ReadVariableOp:0' shape=(5,) dtype=float32>,),\n",
       " (<tf.Tensor 'm1/l2/BiasAdd:0' shape=(?, 5) dtype=float32>,),\n",
       " (<tf.Tensor 'm1/l2/Relu:0' shape=(?, 5) dtype=float32>,)]"
      ]
     },
     "execution_count": 8,
     "metadata": {},
     "output_type": "execute_result"
    }
   ],
   "source": [
    "tns"
   ]
  },
  {
   "cell_type": "code",
   "execution_count": 5,
   "metadata": {
    "pycharm": {
     "is_executing": true
    }
   },
   "outputs": [],
   "source": [
    "x2 = m(inp)"
   ]
  },
  {
   "cell_type": "code",
   "execution_count": 6,
   "metadata": {},
   "outputs": [
    {
     "data": {
      "text/plain": [
       "(60, 60)"
      ]
     },
     "execution_count": 6,
     "metadata": {},
     "output_type": "execute_result"
    }
   ],
   "source": [
    "ops = s.graph.get_operations()\n",
    "tns = [m.values() for m in ops]\n",
    "len(ops), len(tns)"
   ]
  },
  {
   "cell_type": "code",
   "execution_count": 7,
   "metadata": {},
   "outputs": [
    {
     "data": {
      "text/plain": [
       "[(<tf.Tensor 'keras_learning_phase/input:0' shape=() dtype=bool>,),\n",
       " (<tf.Tensor 'keras_learning_phase:0' shape=() dtype=bool>,),\n",
       " (<tf.Tensor 'input:0' shape=(?, 3) dtype=float32>,),\n",
       " (<tf.Tensor 'l1/kernel/Initializer/random_uniform/shape:0' shape=(2,) dtype=int32>,),\n",
       " (<tf.Tensor 'l1/kernel/Initializer/random_uniform/min:0' shape=() dtype=float32>,),\n",
       " (<tf.Tensor 'l1/kernel/Initializer/random_uniform/max:0' shape=() dtype=float32>,),\n",
       " (<tf.Tensor 'l1/kernel/Initializer/random_uniform/RandomUniform:0' shape=(3, 5) dtype=float32>,),\n",
       " (<tf.Tensor 'l1/kernel/Initializer/random_uniform/sub:0' shape=() dtype=float32>,),\n",
       " (<tf.Tensor 'l1/kernel/Initializer/random_uniform/mul:0' shape=(3, 5) dtype=float32>,),\n",
       " (<tf.Tensor 'l1/kernel/Initializer/random_uniform:0' shape=(3, 5) dtype=float32>,),\n",
       " (<tf.Tensor 'l1/kernel:0' shape=() dtype=resource>,),\n",
       " (<tf.Tensor 'l1/kernel/IsInitialized/VarIsInitializedOp:0' shape=() dtype=bool>,),\n",
       " (),\n",
       " (<tf.Tensor 'l1/kernel/Read/ReadVariableOp:0' shape=(3, 5) dtype=float32>,),\n",
       " (<tf.Tensor 'l1/bias/Initializer/zeros:0' shape=(5,) dtype=float32>,),\n",
       " (<tf.Tensor 'l1/bias:0' shape=() dtype=resource>,),\n",
       " (<tf.Tensor 'l1/bias/IsInitialized/VarIsInitializedOp:0' shape=() dtype=bool>,),\n",
       " (),\n",
       " (<tf.Tensor 'l1/bias/Read/ReadVariableOp:0' shape=(5,) dtype=float32>,),\n",
       " (<tf.Tensor 'l1/MatMul/ReadVariableOp:0' shape=(3, 5) dtype=float32>,),\n",
       " (<tf.Tensor 'l1/MatMul:0' shape=(?, 5) dtype=float32>,),\n",
       " (<tf.Tensor 'l1/BiasAdd/ReadVariableOp:0' shape=(5,) dtype=float32>,),\n",
       " (<tf.Tensor 'l1/BiasAdd:0' shape=(?, 5) dtype=float32>,),\n",
       " (<tf.Tensor 'l1/Relu:0' shape=(?, 5) dtype=float32>,),\n",
       " (<tf.Tensor 'l2/kernel/Initializer/random_uniform/shape:0' shape=(2,) dtype=int32>,),\n",
       " (<tf.Tensor 'l2/kernel/Initializer/random_uniform/min:0' shape=() dtype=float32>,),\n",
       " (<tf.Tensor 'l2/kernel/Initializer/random_uniform/max:0' shape=() dtype=float32>,),\n",
       " (<tf.Tensor 'l2/kernel/Initializer/random_uniform/RandomUniform:0' shape=(5, 5) dtype=float32>,),\n",
       " (<tf.Tensor 'l2/kernel/Initializer/random_uniform/sub:0' shape=() dtype=float32>,),\n",
       " (<tf.Tensor 'l2/kernel/Initializer/random_uniform/mul:0' shape=(5, 5) dtype=float32>,),\n",
       " (<tf.Tensor 'l2/kernel/Initializer/random_uniform:0' shape=(5, 5) dtype=float32>,),\n",
       " (<tf.Tensor 'l2/kernel:0' shape=() dtype=resource>,),\n",
       " (<tf.Tensor 'l2/kernel/IsInitialized/VarIsInitializedOp:0' shape=() dtype=bool>,),\n",
       " (),\n",
       " (<tf.Tensor 'l2/kernel/Read/ReadVariableOp:0' shape=(5, 5) dtype=float32>,),\n",
       " (<tf.Tensor 'l2/bias/Initializer/zeros:0' shape=(5,) dtype=float32>,),\n",
       " (<tf.Tensor 'l2/bias:0' shape=() dtype=resource>,),\n",
       " (<tf.Tensor 'l2/bias/IsInitialized/VarIsInitializedOp:0' shape=() dtype=bool>,),\n",
       " (),\n",
       " (<tf.Tensor 'l2/bias/Read/ReadVariableOp:0' shape=(5,) dtype=float32>,),\n",
       " (<tf.Tensor 'l2/MatMul/ReadVariableOp:0' shape=(5, 5) dtype=float32>,),\n",
       " (<tf.Tensor 'l2/MatMul:0' shape=(?, 5) dtype=float32>,),\n",
       " (<tf.Tensor 'l2/BiasAdd/ReadVariableOp:0' shape=(5,) dtype=float32>,),\n",
       " (<tf.Tensor 'l2/BiasAdd:0' shape=(?, 5) dtype=float32>,),\n",
       " (<tf.Tensor 'l2/Relu:0' shape=(?, 5) dtype=float32>,),\n",
       " (<tf.Tensor 'VarIsInitializedOp:0' shape=() dtype=bool>,),\n",
       " (<tf.Tensor 'VarIsInitializedOp_1:0' shape=() dtype=bool>,),\n",
       " (<tf.Tensor 'VarIsInitializedOp_2:0' shape=() dtype=bool>,),\n",
       " (<tf.Tensor 'VarIsInitializedOp_3:0' shape=() dtype=bool>,),\n",
       " (),\n",
       " (<tf.Tensor 'm1/l1/MatMul/ReadVariableOp:0' shape=(3, 5) dtype=float32>,),\n",
       " (<tf.Tensor 'm1/l1/MatMul:0' shape=(?, 5) dtype=float32>,),\n",
       " (<tf.Tensor 'm1/l1/BiasAdd/ReadVariableOp:0' shape=(5,) dtype=float32>,),\n",
       " (<tf.Tensor 'm1/l1/BiasAdd:0' shape=(?, 5) dtype=float32>,),\n",
       " (<tf.Tensor 'm1/l1/Relu:0' shape=(?, 5) dtype=float32>,),\n",
       " (<tf.Tensor 'm1/l2/MatMul/ReadVariableOp:0' shape=(5, 5) dtype=float32>,),\n",
       " (<tf.Tensor 'm1/l2/MatMul:0' shape=(?, 5) dtype=float32>,),\n",
       " (<tf.Tensor 'm1/l2/BiasAdd/ReadVariableOp:0' shape=(5,) dtype=float32>,),\n",
       " (<tf.Tensor 'm1/l2/BiasAdd:0' shape=(?, 5) dtype=float32>,),\n",
       " (<tf.Tensor 'm1/l2/Relu:0' shape=(?, 5) dtype=float32>,)]"
      ]
     },
     "execution_count": 7,
     "metadata": {},
     "output_type": "execute_result"
    }
   ],
   "source": [
    "tns"
   ]
  },
  {
   "cell_type": "code",
   "execution_count": 9,
   "metadata": {},
   "outputs": [
    {
     "data": {
      "text/plain": [
       "(60, 60)"
      ]
     },
     "execution_count": 9,
     "metadata": {},
     "output_type": "execute_result"
    }
   ],
   "source": [
    "len(ops), len(tns)"
   ]
  },
  {
   "cell_type": "code",
   "execution_count": 10,
   "metadata": {},
   "outputs": [],
   "source": [
    "m2 = tf.keras.Model(inputs=inp, outputs=x2, name='m2')"
   ]
  },
  {
   "cell_type": "code",
   "execution_count": 11,
   "metadata": {},
   "outputs": [
    {
     "data": {
      "text/plain": [
       "(60, 60)"
      ]
     },
     "execution_count": 11,
     "metadata": {},
     "output_type": "execute_result"
    }
   ],
   "source": [
    "ops = s.graph.get_operations()\n",
    "tns = [m.values() for m in ops]\n",
    "len(ops), len(tns)"
   ]
  },
  {
   "cell_type": "code",
   "execution_count": 12,
   "metadata": {},
   "outputs": [
    {
     "data": {
      "text/plain": [
       "True"
      ]
     },
     "execution_count": 12,
     "metadata": {},
     "output_type": "execute_result"
    }
   ],
   "source": [
    "m2.inputs==m.inputs"
   ]
  },
  {
   "cell_type": "code",
   "execution_count": 13,
   "metadata": {},
   "outputs": [
    {
     "data": {
      "text/plain": [
       "True"
      ]
     },
     "execution_count": 13,
     "metadata": {},
     "output_type": "execute_result"
    }
   ],
   "source": [
    "m2.layers[1]==m"
   ]
  },
  {
   "cell_type": "code",
   "execution_count": 14,
   "metadata": {},
   "outputs": [
    {
     "data": {
      "text/plain": [
       "[<tensorflow.python.keras.engine.input_layer.InputLayer at 0x7fad8b09fd30>,\n",
       " <tensorflow.python.keras.layers.core.Dense at 0x7fad8b09fd68>,\n",
       " <tensorflow.python.keras.layers.core.Dense at 0x7fae23ae08d0>]"
      ]
     },
     "execution_count": 14,
     "metadata": {},
     "output_type": "execute_result"
    }
   ],
   "source": [
    "m.layers"
   ]
  },
  {
   "cell_type": "code",
   "execution_count": 15,
   "metadata": {},
   "outputs": [
    {
     "data": {
      "text/plain": [
       "True"
      ]
     },
     "execution_count": 15,
     "metadata": {},
     "output_type": "execute_result"
    }
   ],
   "source": [
    "m2.outputs[0]==x2"
   ]
  },
  {
   "cell_type": "code",
   "execution_count": 17,
   "metadata": {},
   "outputs": [],
   "source": [
    "m3 = tf.keras.Model(inputs=inp, outputs=x2, name='m3')"
   ]
  },
  {
   "cell_type": "code",
   "execution_count": 18,
   "metadata": {},
   "outputs": [
    {
     "data": {
      "text/plain": [
       "(60, 60)"
      ]
     },
     "execution_count": 18,
     "metadata": {},
     "output_type": "execute_result"
    }
   ],
   "source": [
    "ops = s.graph.get_operations()\n",
    "tns = [m.values() for m in ops]\n",
    "len(ops), len(tns)"
   ]
  },
  {
   "cell_type": "code",
   "execution_count": 19,
   "metadata": {},
   "outputs": [
    {
     "data": {
      "text/plain": [
       "False"
      ]
     },
     "execution_count": 19,
     "metadata": {},
     "output_type": "execute_result"
    }
   ],
   "source": [
    "m3==m2"
   ]
  },
  {
   "cell_type": "code",
   "execution_count": 20,
   "metadata": {},
   "outputs": [
    {
     "data": {
      "text/plain": [
       "True"
      ]
     },
     "execution_count": 20,
     "metadata": {},
     "output_type": "execute_result"
    }
   ],
   "source": [
    "m3.layers==m2.layers"
   ]
  },
  {
   "cell_type": "code",
   "execution_count": 21,
   "metadata": {},
   "outputs": [],
   "source": [
    "inp2 = tf.keras.Input(shape=(original_dim,), name='input2')"
   ]
  },
  {
   "cell_type": "code",
   "execution_count": 22,
   "metadata": {},
   "outputs": [
    {
     "data": {
      "text/plain": [
       "(61, 61)"
      ]
     },
     "execution_count": 22,
     "metadata": {},
     "output_type": "execute_result"
    }
   ],
   "source": [
    "ops = s.graph.get_operations()\n",
    "tns = [m.values() for m in ops]\n",
    "len(ops), len(tns)"
   ]
  },
  {
   "cell_type": "code",
   "execution_count": 23,
   "metadata": {},
   "outputs": [
    {
     "data": {
      "text/plain": [
       "[<tf.Operation 'keras_learning_phase/input' type=Const>,\n",
       " <tf.Operation 'keras_learning_phase' type=PlaceholderWithDefault>,\n",
       " <tf.Operation 'input' type=Placeholder>,\n",
       " <tf.Operation 'l1/kernel/Initializer/random_uniform/shape' type=Const>,\n",
       " <tf.Operation 'l1/kernel/Initializer/random_uniform/min' type=Const>,\n",
       " <tf.Operation 'l1/kernel/Initializer/random_uniform/max' type=Const>,\n",
       " <tf.Operation 'l1/kernel/Initializer/random_uniform/RandomUniform' type=RandomUniform>,\n",
       " <tf.Operation 'l1/kernel/Initializer/random_uniform/sub' type=Sub>,\n",
       " <tf.Operation 'l1/kernel/Initializer/random_uniform/mul' type=Mul>,\n",
       " <tf.Operation 'l1/kernel/Initializer/random_uniform' type=Add>,\n",
       " <tf.Operation 'l1/kernel' type=VarHandleOp>,\n",
       " <tf.Operation 'l1/kernel/IsInitialized/VarIsInitializedOp' type=VarIsInitializedOp>,\n",
       " <tf.Operation 'l1/kernel/Assign' type=AssignVariableOp>,\n",
       " <tf.Operation 'l1/kernel/Read/ReadVariableOp' type=ReadVariableOp>,\n",
       " <tf.Operation 'l1/bias/Initializer/zeros' type=Const>,\n",
       " <tf.Operation 'l1/bias' type=VarHandleOp>,\n",
       " <tf.Operation 'l1/bias/IsInitialized/VarIsInitializedOp' type=VarIsInitializedOp>,\n",
       " <tf.Operation 'l1/bias/Assign' type=AssignVariableOp>,\n",
       " <tf.Operation 'l1/bias/Read/ReadVariableOp' type=ReadVariableOp>,\n",
       " <tf.Operation 'l1/MatMul/ReadVariableOp' type=ReadVariableOp>,\n",
       " <tf.Operation 'l1/MatMul' type=MatMul>,\n",
       " <tf.Operation 'l1/BiasAdd/ReadVariableOp' type=ReadVariableOp>,\n",
       " <tf.Operation 'l1/BiasAdd' type=BiasAdd>,\n",
       " <tf.Operation 'l1/Relu' type=Relu>,\n",
       " <tf.Operation 'l2/kernel/Initializer/random_uniform/shape' type=Const>,\n",
       " <tf.Operation 'l2/kernel/Initializer/random_uniform/min' type=Const>,\n",
       " <tf.Operation 'l2/kernel/Initializer/random_uniform/max' type=Const>,\n",
       " <tf.Operation 'l2/kernel/Initializer/random_uniform/RandomUniform' type=RandomUniform>,\n",
       " <tf.Operation 'l2/kernel/Initializer/random_uniform/sub' type=Sub>,\n",
       " <tf.Operation 'l2/kernel/Initializer/random_uniform/mul' type=Mul>,\n",
       " <tf.Operation 'l2/kernel/Initializer/random_uniform' type=Add>,\n",
       " <tf.Operation 'l2/kernel' type=VarHandleOp>,\n",
       " <tf.Operation 'l2/kernel/IsInitialized/VarIsInitializedOp' type=VarIsInitializedOp>,\n",
       " <tf.Operation 'l2/kernel/Assign' type=AssignVariableOp>,\n",
       " <tf.Operation 'l2/kernel/Read/ReadVariableOp' type=ReadVariableOp>,\n",
       " <tf.Operation 'l2/bias/Initializer/zeros' type=Const>,\n",
       " <tf.Operation 'l2/bias' type=VarHandleOp>,\n",
       " <tf.Operation 'l2/bias/IsInitialized/VarIsInitializedOp' type=VarIsInitializedOp>,\n",
       " <tf.Operation 'l2/bias/Assign' type=AssignVariableOp>,\n",
       " <tf.Operation 'l2/bias/Read/ReadVariableOp' type=ReadVariableOp>,\n",
       " <tf.Operation 'l2/MatMul/ReadVariableOp' type=ReadVariableOp>,\n",
       " <tf.Operation 'l2/MatMul' type=MatMul>,\n",
       " <tf.Operation 'l2/BiasAdd/ReadVariableOp' type=ReadVariableOp>,\n",
       " <tf.Operation 'l2/BiasAdd' type=BiasAdd>,\n",
       " <tf.Operation 'l2/Relu' type=Relu>,\n",
       " <tf.Operation 'VarIsInitializedOp' type=VarIsInitializedOp>,\n",
       " <tf.Operation 'VarIsInitializedOp_1' type=VarIsInitializedOp>,\n",
       " <tf.Operation 'VarIsInitializedOp_2' type=VarIsInitializedOp>,\n",
       " <tf.Operation 'VarIsInitializedOp_3' type=VarIsInitializedOp>,\n",
       " <tf.Operation 'init' type=NoOp>,\n",
       " <tf.Operation 'm1/l1/MatMul/ReadVariableOp' type=ReadVariableOp>,\n",
       " <tf.Operation 'm1/l1/MatMul' type=MatMul>,\n",
       " <tf.Operation 'm1/l1/BiasAdd/ReadVariableOp' type=ReadVariableOp>,\n",
       " <tf.Operation 'm1/l1/BiasAdd' type=BiasAdd>,\n",
       " <tf.Operation 'm1/l1/Relu' type=Relu>,\n",
       " <tf.Operation 'm1/l2/MatMul/ReadVariableOp' type=ReadVariableOp>,\n",
       " <tf.Operation 'm1/l2/MatMul' type=MatMul>,\n",
       " <tf.Operation 'm1/l2/BiasAdd/ReadVariableOp' type=ReadVariableOp>,\n",
       " <tf.Operation 'm1/l2/BiasAdd' type=BiasAdd>,\n",
       " <tf.Operation 'm1/l2/Relu' type=Relu>,\n",
       " <tf.Operation 'input2' type=Placeholder>]"
      ]
     },
     "execution_count": 23,
     "metadata": {},
     "output_type": "execute_result"
    }
   ],
   "source": [
    "ops"
   ]
  },
  {
   "cell_type": "code",
   "execution_count": 24,
   "metadata": {},
   "outputs": [],
   "source": [
    "x3 = m(inp2)"
   ]
  },
  {
   "cell_type": "code",
   "execution_count": 25,
   "metadata": {},
   "outputs": [
    {
     "data": {
      "text/plain": [
       "(71, 71)"
      ]
     },
     "execution_count": 25,
     "metadata": {},
     "output_type": "execute_result"
    }
   ],
   "source": [
    "ops = s.graph.get_operations()\n",
    "tns = [m.values() for m in ops]\n",
    "len(ops), len(tns)"
   ]
  },
  {
   "cell_type": "code",
   "execution_count": 31,
   "metadata": {},
   "outputs": [
    {
     "data": {
      "text/plain": [
       "[<tf.Operation 'keras_learning_phase/input' type=Const>,\n",
       " <tf.Operation 'keras_learning_phase' type=PlaceholderWithDefault>,\n",
       " <tf.Operation 'input' type=Placeholder>,\n",
       " <tf.Operation 'l1/kernel/Initializer/random_uniform/shape' type=Const>,\n",
       " <tf.Operation 'l1/kernel/Initializer/random_uniform/min' type=Const>,\n",
       " <tf.Operation 'l1/kernel/Initializer/random_uniform/max' type=Const>,\n",
       " <tf.Operation 'l1/kernel/Initializer/random_uniform/RandomUniform' type=RandomUniform>,\n",
       " <tf.Operation 'l1/kernel/Initializer/random_uniform/sub' type=Sub>,\n",
       " <tf.Operation 'l1/kernel/Initializer/random_uniform/mul' type=Mul>,\n",
       " <tf.Operation 'l1/kernel/Initializer/random_uniform' type=Add>,\n",
       " <tf.Operation 'l1/kernel' type=VarHandleOp>,\n",
       " <tf.Operation 'l1/kernel/IsInitialized/VarIsInitializedOp' type=VarIsInitializedOp>,\n",
       " <tf.Operation 'l1/kernel/Assign' type=AssignVariableOp>,\n",
       " <tf.Operation 'l1/kernel/Read/ReadVariableOp' type=ReadVariableOp>,\n",
       " <tf.Operation 'l1/bias/Initializer/zeros' type=Const>,\n",
       " <tf.Operation 'l1/bias' type=VarHandleOp>,\n",
       " <tf.Operation 'l1/bias/IsInitialized/VarIsInitializedOp' type=VarIsInitializedOp>,\n",
       " <tf.Operation 'l1/bias/Assign' type=AssignVariableOp>,\n",
       " <tf.Operation 'l1/bias/Read/ReadVariableOp' type=ReadVariableOp>,\n",
       " <tf.Operation 'l1/MatMul/ReadVariableOp' type=ReadVariableOp>,\n",
       " <tf.Operation 'l1/MatMul' type=MatMul>,\n",
       " <tf.Operation 'l1/BiasAdd/ReadVariableOp' type=ReadVariableOp>,\n",
       " <tf.Operation 'l1/BiasAdd' type=BiasAdd>,\n",
       " <tf.Operation 'l1/Relu' type=Relu>,\n",
       " <tf.Operation 'l2/kernel/Initializer/random_uniform/shape' type=Const>,\n",
       " <tf.Operation 'l2/kernel/Initializer/random_uniform/min' type=Const>,\n",
       " <tf.Operation 'l2/kernel/Initializer/random_uniform/max' type=Const>,\n",
       " <tf.Operation 'l2/kernel/Initializer/random_uniform/RandomUniform' type=RandomUniform>,\n",
       " <tf.Operation 'l2/kernel/Initializer/random_uniform/sub' type=Sub>,\n",
       " <tf.Operation 'l2/kernel/Initializer/random_uniform/mul' type=Mul>,\n",
       " <tf.Operation 'l2/kernel/Initializer/random_uniform' type=Add>,\n",
       " <tf.Operation 'l2/kernel' type=VarHandleOp>,\n",
       " <tf.Operation 'l2/kernel/IsInitialized/VarIsInitializedOp' type=VarIsInitializedOp>,\n",
       " <tf.Operation 'l2/kernel/Assign' type=AssignVariableOp>,\n",
       " <tf.Operation 'l2/kernel/Read/ReadVariableOp' type=ReadVariableOp>,\n",
       " <tf.Operation 'l2/bias/Initializer/zeros' type=Const>,\n",
       " <tf.Operation 'l2/bias' type=VarHandleOp>,\n",
       " <tf.Operation 'l2/bias/IsInitialized/VarIsInitializedOp' type=VarIsInitializedOp>,\n",
       " <tf.Operation 'l2/bias/Assign' type=AssignVariableOp>,\n",
       " <tf.Operation 'l2/bias/Read/ReadVariableOp' type=ReadVariableOp>,\n",
       " <tf.Operation 'l2/MatMul/ReadVariableOp' type=ReadVariableOp>,\n",
       " <tf.Operation 'l2/MatMul' type=MatMul>,\n",
       " <tf.Operation 'l2/BiasAdd/ReadVariableOp' type=ReadVariableOp>,\n",
       " <tf.Operation 'l2/BiasAdd' type=BiasAdd>,\n",
       " <tf.Operation 'l2/Relu' type=Relu>,\n",
       " <tf.Operation 'VarIsInitializedOp' type=VarIsInitializedOp>,\n",
       " <tf.Operation 'VarIsInitializedOp_1' type=VarIsInitializedOp>,\n",
       " <tf.Operation 'VarIsInitializedOp_2' type=VarIsInitializedOp>,\n",
       " <tf.Operation 'VarIsInitializedOp_3' type=VarIsInitializedOp>,\n",
       " <tf.Operation 'init' type=NoOp>,\n",
       " <tf.Operation 'm1/l1/MatMul/ReadVariableOp' type=ReadVariableOp>,\n",
       " <tf.Operation 'm1/l1/MatMul' type=MatMul>,\n",
       " <tf.Operation 'm1/l1/BiasAdd/ReadVariableOp' type=ReadVariableOp>,\n",
       " <tf.Operation 'm1/l1/BiasAdd' type=BiasAdd>,\n",
       " <tf.Operation 'm1/l1/Relu' type=Relu>,\n",
       " <tf.Operation 'm1/l2/MatMul/ReadVariableOp' type=ReadVariableOp>,\n",
       " <tf.Operation 'm1/l2/MatMul' type=MatMul>,\n",
       " <tf.Operation 'm1/l2/BiasAdd/ReadVariableOp' type=ReadVariableOp>,\n",
       " <tf.Operation 'm1/l2/BiasAdd' type=BiasAdd>,\n",
       " <tf.Operation 'm1/l2/Relu' type=Relu>,\n",
       " <tf.Operation 'input2' type=Placeholder>,\n",
       " <tf.Operation 'm1_1/l1/MatMul/ReadVariableOp' type=ReadVariableOp>,\n",
       " <tf.Operation 'm1_1/l1/MatMul' type=MatMul>,\n",
       " <tf.Operation 'm1_1/l1/BiasAdd/ReadVariableOp' type=ReadVariableOp>,\n",
       " <tf.Operation 'm1_1/l1/BiasAdd' type=BiasAdd>,\n",
       " <tf.Operation 'm1_1/l1/Relu' type=Relu>,\n",
       " <tf.Operation 'm1_1/l2/MatMul/ReadVariableOp' type=ReadVariableOp>,\n",
       " <tf.Operation 'm1_1/l2/MatMul' type=MatMul>,\n",
       " <tf.Operation 'm1_1/l2/BiasAdd/ReadVariableOp' type=ReadVariableOp>,\n",
       " <tf.Operation 'm1_1/l2/BiasAdd' type=BiasAdd>,\n",
       " <tf.Operation 'm1_1/l2/Relu' type=Relu>]"
      ]
     },
     "execution_count": 31,
     "metadata": {},
     "output_type": "execute_result"
    }
   ],
   "source": [
    "ops"
   ]
  },
  {
   "cell_type": "code",
   "execution_count": null,
   "metadata": {},
   "outputs": [],
   "source": [
    "tns"
   ]
  },
  {
   "cell_type": "code",
   "execution_count": 26,
   "metadata": {},
   "outputs": [],
   "source": [
    "m4 = tf.keras.Model(inputs=inp2, outputs=x3, name='m4')"
   ]
  },
  {
   "cell_type": "code",
   "execution_count": 32,
   "metadata": {},
   "outputs": [],
   "source": [
    "m5 = tf.keras.Model(inputs=inp2, outputs=x3, name='m4')"
   ]
  },
  {
   "cell_type": "code",
   "execution_count": 34,
   "metadata": {},
   "outputs": [
    {
     "data": {
      "text/plain": [
       "'m4'"
      ]
     },
     "execution_count": 34,
     "metadata": {},
     "output_type": "execute_result"
    }
   ],
   "source": [
    "m5.name"
   ]
  },
  {
   "cell_type": "code",
   "execution_count": 27,
   "metadata": {},
   "outputs": [
    {
     "data": {
      "text/plain": [
       "(71, 71)"
      ]
     },
     "execution_count": 27,
     "metadata": {},
     "output_type": "execute_result"
    }
   ],
   "source": [
    "ops = s.graph.get_operations()\n",
    "tns = [m.values() for m in ops]\n",
    "len(ops), len(tns)"
   ]
  },
  {
   "cell_type": "code",
   "execution_count": 28,
   "metadata": {},
   "outputs": [
    {
     "data": {
      "text/plain": [
       "[<tensorflow.python.keras.engine.input_layer.InputLayer at 0x7fad88773d30>,\n",
       " <tensorflow.python.keras.engine.training.Model at 0x7fad8b039390>]"
      ]
     },
     "execution_count": 28,
     "metadata": {},
     "output_type": "execute_result"
    }
   ],
   "source": [
    "m4.layers"
   ]
  },
  {
   "cell_type": "code",
   "execution_count": 29,
   "metadata": {},
   "outputs": [
    {
     "data": {
      "text/plain": [
       "[<tensorflow.python.keras.engine.input_layer.InputLayer at 0x7fad8b09fd30>,\n",
       " <tensorflow.python.keras.engine.training.Model at 0x7fad8b039390>]"
      ]
     },
     "execution_count": 29,
     "metadata": {},
     "output_type": "execute_result"
    }
   ],
   "source": [
    "m3.layers"
   ]
  },
  {
   "cell_type": "code",
   "execution_count": 30,
   "metadata": {},
   "outputs": [
    {
     "data": {
      "text/plain": [
       "[<tensorflow.python.keras.engine.input_layer.InputLayer at 0x7fad8b09fd30>,\n",
       " <tensorflow.python.keras.engine.training.Model at 0x7fad8b039390>]"
      ]
     },
     "execution_count": 30,
     "metadata": {},
     "output_type": "execute_result"
    }
   ],
   "source": [
    "m2.layers"
   ]
  },
  {
   "cell_type": "markdown",
   "metadata": {
    "pycharm": {
     "is_executing": false
    }
   },
   "source": [
    "## Create a DPK TG with default IA aug; montage it"
   ]
  },
  {
   "cell_type": "code",
   "execution_count": null,
   "metadata": {
    "pycharm": {
     "is_executing": false
    }
   },
   "outputs": [],
   "source": [
    "conf = apt.create_conf(LEAPSTRIPPEDLBL, 0, EXPNAME, \\\n",
    "                       CACHE, 'dpkfly', quiet=False)\n",
    "conf.img_dim = 1  # hack, the leap stripped lbl has NumChans=3, but we created the tfr \n",
    "                  # directly using the dpk h5 which is 1-channel\n",
    "conf.cachedir\n",
    "\n",
    "# Cached images in strippedlbl differ from dpk h5! \n",
    "# - Ims are 3-chan grayscale vs 1-chan\n",
    "# - Locs are off-by-one; strippedlbl prob correct (0-based)\n",
    "#apt.create_tfrecord(conf,split=False,use_cache=True)\n",
    "\n",
    "# So rather than use apt.create_tfrecord, we create the tfr directly from the h5 even \n",
    "# though it may be off-by-one for replication purposes\n",
    "\n",
    "#train_tf = conf.cachedir + '/train_TF.tfrecords'\n",
    "#apt_dpk.apt_db_from_datagen(dg, train_tf)"
   ]
  },
  {
   "cell_type": "code",
   "execution_count": null,
   "metadata": {},
   "outputs": [],
   "source": [
    "DSFAC = 2\n",
    "SIGMA = 5\n",
    "VALSPLIT = 0.0\n",
    "GRAPHSCALE = 1\n",
    "\n",
    "ia = apt_dpk.make_imgaug_augmenter('dpkfly', dg)\n",
    "tg = dpk.TrainingGenerator(generator=dg,\n",
    "                           downsample_factor=DSFAC,\n",
    "                           augmenter=ia,\n",
    "                           use_graph=True,\n",
    "                           shuffle=False,\n",
    "                           sigma=SIGMA,\n",
    "                           validation_split=VALSPLIT,\n",
    "                           graph_scale=GRAPHSCALE,\n",
    "                           random_seed=0)\n",
    "\n",
    "# For tg, VALSPLIT=0 => use the training imgs\n",
    "g = tg(n_outputs=1, batch_size=4, \n",
    "       validation=False, confidence=True)"
   ]
  },
  {
   "cell_type": "code",
   "execution_count": null,
   "metadata": {},
   "outputs": [],
   "source": [
    "RNGSEED = 17\n",
    "g.augmenter.reseed(RNGSEED)\n",
    "imstgts_dpk = [g[x] for x in range(6)]\n",
    "imsdpk, tgtsdpk = tfdatagen.xylist2xyarr(imstgts_dpk)\n",
    "imsdpk.shape, tgtsdpk.shape"
   ]
  },
  {
   "cell_type": "code",
   "execution_count": null,
   "metadata": {},
   "outputs": [],
   "source": [
    "imsdpk = np.moveaxis(imsdpk, 0, -1)\n",
    "imsdpk = imsdpk[:, :, 0, :]"
   ]
  },
  {
   "cell_type": "code",
   "execution_count": null,
   "metadata": {},
   "outputs": [],
   "source": [
    "def get_conf_map_argmaxs_rescaled(tgts0, ipt=31, sz=(192, 192)):\n",
    "    tgts = tgts0[...,ipt].copy()\n",
    "    tgts = np.moveaxis(tgts, 0, -1)\n",
    "    tgts2 = cv2.resize(tgts, sz)\n",
    "    locs = pt.get_pred_locs(tgts2[np.newaxis,...])\n",
    "    locs = locs[0,...]\n",
    "    return locs # [tgts0.shape[0] x 2]"
   ]
  },
  {
   "cell_type": "code",
   "execution_count": null,
   "metadata": {},
   "outputs": [],
   "source": [
    "locs = get_conf_map_argmaxs_rescaled(tgtsdpk)"
   ]
  },
  {
   "cell_type": "code",
   "execution_count": null,
   "metadata": {},
   "outputs": [],
   "source": [
    "locs.shape"
   ]
  },
  {
   "cell_type": "code",
   "execution_count": null,
   "metadata": {},
   "outputs": [],
   "source": [
    "locs = locs[:,np.newaxis,:]"
   ]
  },
  {
   "cell_type": "code",
   "execution_count": null,
   "metadata": {},
   "outputs": [],
   "source": [
    "hfig, grid, cb0 = tfdatagen.montage(imsdpk, cmap='gray', locs=locs, locsmrkrsz=128)"
   ]
  },
  {
   "cell_type": "markdown",
   "metadata": {
    "pycharm": {
     "is_executing": false
    }
   },
   "source": [
    "## Create a TGTFR/TFDS with default IA aug; montage it"
   ]
  },
  {
   "cell_type": "code",
   "execution_count": null,
   "metadata": {},
   "outputs": [],
   "source": [
    "conf.cachedir"
   ]
  },
  {
   "cell_type": "code",
   "execution_count": null,
   "metadata": {},
   "outputs": [],
   "source": [
    "# Create a TGTFR with our default imgaug\n",
    "conf.img_dim = 1\n",
    "conf = apt_dpk.update_conf_dpk(conf,\n",
    "                               dg.graph,\n",
    "                               dg.swap_index,\n",
    "                               n_keypoints=dg.n_keypoints,\n",
    "                               imshape=dg.compute_image_shape(),\n",
    "                               useimgaug=True,\n",
    "                               imgaugtype='dpkfly')\n",
    "conf.dpk_use_tfdata = True\n",
    "tgtfr = TGTFR.TrainingGeneratorTFRecord(conf)\n",
    "tgtfr.conf.dpk_augmenter.reseed(RNGSEED)\n",
    "#conf.batch_size = 4 # hack again, note tgtfr uses batch_size in conf and ignores input arg\n",
    "ds = tgtfr(n_outputs=1, batch_size=4, \n",
    "           validation=False, confidence=True, shuffle=False)\n",
    "\n",
    "resDS = tfdatagen.read_ds_idxed(ds,range(6))\n",
    "for i in range(6):\n",
    "    resDS[i] = (resDS[i][0], resDS[i][1][0])  # tfds puts tgts in list even for n_outputs=1\n",
    "imsDS, tgtsDS = tfdatagen.xylist2xyarr(resDS)\n",
    "imsDS.shape, tgtsDS.shape"
   ]
  },
  {
   "cell_type": "code",
   "execution_count": null,
   "metadata": {},
   "outputs": [],
   "source": [
    "imsDS = np.moveaxis(imsDS, 0, -1)\n",
    "imsDS = imsDS[:, :, 0, :]\n",
    "locsDS = get_conf_map_argmaxs_rescaled(tgtsDS)"
   ]
  },
  {
   "cell_type": "code",
   "execution_count": null,
   "metadata": {},
   "outputs": [],
   "source": [
    "locsDS = locsDS[:,np.newaxis,:]"
   ]
  },
  {
   "cell_type": "code",
   "execution_count": null,
   "metadata": {
    "scrolled": true
   },
   "outputs": [],
   "source": [
    "hfig, grid, cb0 = tfdatagen.montage(imsDS, cmap='gray', locs=locsDS, locsmrkrsz=128)"
   ]
  },
  {
   "cell_type": "markdown",
   "metadata": {
    "pycharm": {
     "is_executing": false
    }
   },
   "source": [
    "## Create a TGTFR/TFDS with PT aug; montage it\n",
    "## Oops, this used the default dataaug params i guess"
   ]
  },
  {
   "cell_type": "code",
   "execution_count": null,
   "metadata": {},
   "outputs": [],
   "source": [
    "conf.dpk_use_augmenter = False\n",
    "tgtfrPT = TGTFR.TrainingGeneratorTFRecord(conf)\n",
    "#tgtfr.conf.dpk_augmenter.reseed(RNGSEED)\n",
    "#conf.batch_size = 4 # hack again, note tgtfr uses batch_size in conf and ignores input arg\n",
    "ds = tgtfrPT(n_outputs=1, batch_size=4, \n",
    "             validation=False, confidence=True, shuffle=False)\n",
    "\n",
    "resDS = tfdatagen.read_ds_idxed(ds,range(3))\n",
    "for i in range(3):\n",
    "    resDS[i] = (resDS[i][0], resDS[i][1][0]) \n",
    "imsDS, tgtsDS = tfdatagen.xylist2xyarr(resDS)\n",
    "imsDS.shape, tgtsDS.shape"
   ]
  },
  {
   "cell_type": "code",
   "execution_count": null,
   "metadata": {},
   "outputs": [],
   "source": [
    "imsDS = np.moveaxis(imsDS, 0, -1)\n",
    "imsDS = imsDS[:, :, 0, :]\n",
    "locsDS = get_conf_map_argmaxs_rescaled(tgtsDS)"
   ]
  },
  {
   "cell_type": "code",
   "execution_count": null,
   "metadata": {},
   "outputs": [],
   "source": [
    "locsDS = locsDS[:,np.newaxis,:]"
   ]
  },
  {
   "cell_type": "code",
   "execution_count": null,
   "metadata": {
    "scrolled": true
   },
   "outputs": [],
   "source": [
    "hfig, grid, cb0 = tfdatagen.montage(imsDS,cmap='gray', locs=locsDS, locsmrkrsz=128)"
   ]
  },
  {
   "cell_type": "code",
   "execution_count": null,
   "metadata": {},
   "outputs": [],
   "source": [
    "tdf='/dat0/jrcmirror/groups/branson/bransonlab/apt/dl.al.2020/cache/multitarget_bubble/openpose/view_0/apt_expts_opgal/multitarget_bubble_deepnet_20200429_traindata'\n",
    "td=pt.pickle_load(tdf)"
   ]
  },
  {
   "cell_type": "code",
   "execution_count": null,
   "metadata": {},
   "outputs": [],
   "source": [
    "conf_bub = td[-1]"
   ]
  },
  {
   "cell_type": "code",
   "execution_count": null,
   "metadata": {},
   "outputs": [],
   "source": [
    "conf_bub.print_dataaug_flds()"
   ]
  },
  {
   "cell_type": "code",
   "execution_count": null,
   "metadata": {},
   "outputs": [],
   "source": [
    "skelcsv = apt_dpk.skeleton_csvs['alice'][0]\n",
    "graph, swapidx = apt_dpk.read_skel_csv(skelcsv)\n",
    "swapidx"
   ]
  },
  {
   "cell_type": "code",
   "execution_count": null,
   "metadata": {},
   "outputs": [],
   "source": [
    "flm_flybub = apt_dpk.swap_index_to_flip_landmark_matches(swapidx)"
   ]
  },
  {
   "cell_type": "code",
   "execution_count": null,
   "metadata": {},
   "outputs": [],
   "source": [
    "flm_flybub==conf_bub.flipLandmarkMatches"
   ]
  },
  {
   "cell_type": "code",
   "execution_count": null,
   "metadata": {},
   "outputs": [],
   "source": [
    "## sometimes 75%:\n",
    "\n",
    " # flip: both flips => true. lmark matches etc. want random prob\n",
    " # scale: (0.95, 1.05) or (95%->1.05%) in r/c independently (SKIPPED IN PT IMPL)\n",
    " # xlate: (-.05,.05) or +/- 5% of im size in r/c independently\n",
    " # shear: (-8,8) or (-8deg,8deg) (SKIPPED IN PT IMPL)\n",
    " # order = ia.ALL, cval=ia.ALL, \n",
    "\n",
    " # THEN another scale (0.9, 1.1), this is uniform x/y.\n",
    "\n",
    "## then always rorate -180:180"
   ]
  },
  {
   "cell_type": "code",
   "execution_count": null,
   "metadata": {},
   "outputs": [],
   "source": [
    "conf_exp2 = copy.deepcopy(conf)\n",
    "ade.exp2_set_posetools_aug_config_leapfly(conf_exp2)"
   ]
  },
  {
   "cell_type": "code",
   "execution_count": null,
   "metadata": {},
   "outputs": [],
   "source": [
    "conf_exp2.print_dataaug_flds()"
   ]
  },
  {
   "cell_type": "code",
   "execution_count": null,
   "metadata": {},
   "outputs": [],
   "source": [
    "# check conf/dataaug against ia cmts\n",
    "# diff conf against orig conf\n",
    "# how to run, set dpk_use_augmenter etc?"
   ]
  },
  {
   "cell_type": "code",
   "execution_count": null,
   "metadata": {},
   "outputs": [],
   "source": [
    "util.dictdiff(conf,conf_exp2)"
   ]
  },
  {
   "cell_type": "markdown",
   "metadata": {
    "pycharm": {
     "is_executing": false
    }
   },
   "source": [
    "## Create a TGTFR/TFDS with PT aug; montage it\n",
    "## Take 2!!"
   ]
  },
  {
   "cell_type": "code",
   "execution_count": null,
   "metadata": {},
   "outputs": [],
   "source": [
    "# Create a TGTFR with our default imgaug\n",
    "conf_exp2 = apt.create_conf(LEAPSTRIPPEDLBL, 0, EXPNAME, \\\n",
    "                            CACHE, 'dpkfly', quiet=False)\n",
    "conf_exp2.img_dim = 1\n",
    "conf_exp2 = apt_dpk.update_conf_dpk(conf_exp2,\n",
    "                                    dg.graph,\n",
    "                                    dg.swap_index,\n",
    "                                    n_keypoints=dg.n_keypoints,\n",
    "                                    imshape=dg.compute_image_shape(),\n",
    "                                    useimgaug=False,\n",
    "                                    imgaugtype='dpkfly')\n",
    "conf_exp2.dpk_use_tfdata = True\n",
    "conf_exp2.dpk_use_augmenter = False\n",
    "ade.exp2_set_posetools_aug_config_leapfly(conf_exp2)\n",
    "conf_exp2.print_dataaug_flds()"
   ]
  },
  {
   "cell_type": "code",
   "execution_count": null,
   "metadata": {},
   "outputs": [],
   "source": [
    "dg.swap_index"
   ]
  },
  {
   "cell_type": "code",
   "execution_count": null,
   "metadata": {},
   "outputs": [],
   "source": [
    "conf_exp2.dpk_use_tfdata"
   ]
  },
  {
   "cell_type": "code",
   "execution_count": null,
   "metadata": {},
   "outputs": [],
   "source": [
    "conf_exp2.batch_size = 4 # hack again, note tgtfr uses batch_size in conf and ignores input arg\n",
    "tgtfr = TGTFR.TrainingGeneratorTFRecord(conf_exp2)\n",
    "#tgtfr.conf.dpk_augmenter.reseed(RNGSEED)\n",
    "ds = tgtfr(n_outputs=1, batch_size=4, \n",
    "           validation=False, confidence=True, shuffle=False)\n",
    "\n",
    "resDS = tfdatagen.read_ds_idxed(ds,range(6))\n",
    "for i in range(6):\n",
    "    resDS[i] = (resDS[i][0], resDS[i][1][0])  # tfds puts tgts in list even for n_outputs=1\n",
    "imsDS, tgtsDS = tfdatagen.xylist2xyarr(resDS)\n",
    "imsDS.shape, tgtsDS.shape"
   ]
  },
  {
   "cell_type": "code",
   "execution_count": null,
   "metadata": {},
   "outputs": [],
   "source": [
    "imsDS = np.moveaxis(imsDS, 0, -1)\n",
    "imsDS = imsDS[:, :, 0, :]\n",
    "locsDS = get_conf_map_argmaxs_rescaled(tgtsDS)"
   ]
  },
  {
   "cell_type": "code",
   "execution_count": null,
   "metadata": {},
   "outputs": [],
   "source": [
    "locsDS = locsDS[:,np.newaxis,:]"
   ]
  },
  {
   "cell_type": "code",
   "execution_count": null,
   "metadata": {},
   "outputs": [],
   "source": [
    "locsDS.shape"
   ]
  },
  {
   "cell_type": "code",
   "execution_count": null,
   "metadata": {
    "scrolled": true
   },
   "outputs": [],
   "source": [
    "hfig, grid, cb0 = tfdatagen.montage(imsDS, cmap='gray', locs=locsDS, locsmrkrsz=128)"
   ]
  },
  {
   "cell_type": "code",
   "execution_count": null,
   "metadata": {},
   "outputs": [],
   "source": []
  },
  {
   "cell_type": "code",
   "execution_count": null,
   "metadata": {},
   "outputs": [],
   "source": [
    "conf_exp2.dpk_use_augmenter"
   ]
  },
  {
   "cell_type": "code",
   "execution_count": null,
   "metadata": {},
   "outputs": [],
   "source": []
  },
  {
   "cell_type": "markdown",
   "metadata": {},
   "source": [
    "## Check extents"
   ]
  },
  {
   "cell_type": "code",
   "execution_count": null,
   "metadata": {},
   "outputs": [],
   "source": [
    "ds = tgtfr(n_outputs=1, batch_size=4, \n",
    "           validation=False, confidence=True, shuffle=False)\n",
    "NBCH = 200\n",
    "resDS = tfdatagen.read_ds_idxed(ds,range(NBCH))\n",
    "for i in range(NBCH):\n",
    "    resDS[i] = (resDS[i][0], resDS[i][1][0])  # tfds puts tgts in list even for n_outputs=1\n",
    "imsDS, tgtsDS = tfdatagen.xylist2xyarr(resDS)\n",
    "imsDS.shape, tgtsDS.shape"
   ]
  },
  {
   "cell_type": "code",
   "execution_count": null,
   "metadata": {},
   "outputs": [],
   "source": [
    "tg = dpk.TrainingGenerator(generator=dg,\n",
    "                           downsample_factor=DSFAC,\n",
    "                           augmenter=ia,\n",
    "                           use_graph=True,\n",
    "                           shuffle=False,\n",
    "                           sigma=SIGMA,\n",
    "                           validation_split=VALSPLIT,\n",
    "                           graph_scale=GRAPHSCALE,\n",
    "                           random_seed=0)\n",
    "\n",
    "# For tg, VALSPLIT=0 => use the training imgs\n",
    "g = tg(n_outputs=1, batch_size=4, \n",
    "       validation=False, confidence=True)\n",
    "\n",
    "RNGSEED = 17\n",
    "g.augmenter.reseed(RNGSEED)\n",
    "imstgts_dpk = [g[x] for x in range(NBCH)]\n",
    "imsdpk, tgtsdpk = tfdatagen.xylist2xyarr(imstgts_dpk)\n",
    "imsdpk.shape, tgtsdpk.shape"
   ]
  },
  {
   "cell_type": "code",
   "execution_count": null,
   "metadata": {},
   "outputs": [],
   "source": [
    "def get_conf_map_argmaxs_allmaps(tgts0, sz=(192, 192)):\n",
    "    '''\n",
    "    tgts0: [bsize x nr x nc x nmap]\n",
    "    '''\n",
    "    tgts = tgts0.copy()\n",
    "    tgts = np.moveaxis(tgts, 0, -1)  # [nr x nc x nmap x bsize]\n",
    "    nr, nc, nmap, bsize = tgts.shape\n",
    "    print('nr nc nmap bsize = {} {} {} {}'.format(nr, nc, nmap, bsize))\n",
    "    tgts = np.reshape(tgts, (nr, nc, nmap*bsize), order='F')\n",
    "    \n",
    "    locs = np.zeros((nmap*bsize, 2))\n",
    "    for i in range(tgts.shape[2]):\n",
    "        tgttmp = cv2.resize(tgts[...,i], sz)\n",
    "        locstmp = pt.get_pred_locs(tgttmp[np.newaxis,...,np.newaxis])\n",
    "        locs[i,...] = locstmp[0,0,...]\n",
    "        \n",
    "    return locs # [bsize*nmap x 2]"
   ]
  },
  {
   "cell_type": "code",
   "execution_count": null,
   "metadata": {},
   "outputs": [],
   "source": [
    "locsDS = get_conf_map_argmaxs_allmaps(tgtsDS)\n",
    "locsDS.shape"
   ]
  },
  {
   "cell_type": "code",
   "execution_count": null,
   "metadata": {},
   "outputs": [],
   "source": [
    "locsdpk = get_conf_map_argmaxs_allmaps(tgtsdpk)\n",
    "locsdpk.shape"
   ]
  },
  {
   "cell_type": "code",
   "execution_count": null,
   "metadata": {},
   "outputs": [],
   "source": [
    "f = plt.figure(num=21)\n",
    "f.clf()\n",
    "ax = f.subplots(2,2,sharex=True,sharey=True)  # figsize=(16,12),\n",
    "for iax in range(2):\n",
    "    plt.sca(ax[0,iax])\n",
    "    plt.hist(locsdpk[:,iax],bins=50)\n",
    "    plt.title('dpk {}'.format(iax))\n",
    "    plt.sca(ax[1,iax])\n",
    "    plt.hist(locsDS[:,iax],bins=50)\n",
    "    plt.title('DS {}'.format(iax))\n",
    "    \n"
   ]
  },
  {
   "cell_type": "code",
   "execution_count": null,
   "metadata": {},
   "outputs": [],
   "source": [
    "imsDSplot = imsDS.copy()\n",
    "imsDSplot = np.moveaxis(imsDSplot, 0, -1)\n",
    "imsDSplot = imsDSplot[:, :, 0, :]\n",
    "locsDSplot = np.reshape(locsDS, (66, 800, 2), order='F')\n",
    "locsDSplot = np.moveaxis(locsDSplot, 0, 1)\n",
    "locsDSplot.shape"
   ]
  },
  {
   "cell_type": "code",
   "execution_count": null,
   "metadata": {},
   "outputs": [],
   "source": [
    "hfig, grid, cb0 = tfdatagen.montage(imsDSplot[...,:100], \n",
    "                                    cmap='gray', \n",
    "                                    locs=locsDSplot[:100,:32,:], \n",
    "                                    locsmrkrsz=12)"
   ]
  },
  {
   "cell_type": "code",
   "execution_count": null,
   "metadata": {},
   "outputs": [],
   "source": [
    "imsdpkplot = imsdpk.copy()\n",
    "imsdpkplot = np.moveaxis(imsdpkplot, 0, -1)\n",
    "imsdpkplot = imsdpkplot[:, :, 0, :]\n",
    "locsdpkplot = np.reshape(locsdpk, (66, 800, 2), order='F')\n",
    "locsdpkplot = np.moveaxis(locsdpkplot, 0, 1)\n",
    "NPLOT = 100\n",
    "hfig, grid, cb0 = tfdatagen.montage(imsdpkplot[...,:NPLOT], \n",
    "                                    cmap='gray', \n",
    "                                    locs=locsdpkplot[:NPLOT,[0,25],:], \n",
    "                                    locsmrkrsz=12)"
   ]
  },
  {
   "cell_type": "code",
   "execution_count": null,
   "metadata": {},
   "outputs": [],
   "source": [
    "locsdpkplot.shape"
   ]
  },
  {
   "cell_type": "code",
   "execution_count": null,
   "metadata": {},
   "outputs": [],
   "source": [
    "IPTPLOT = 8\n",
    "f = plt.figure(num=22)\n",
    "f.clf()\n",
    "ax = f.subplots(2,2,sharex=True,sharey=True)  # figsize=(16,12),\n",
    "for iax in range(2):\n",
    "    plt.sca(ax[0,iax])\n",
    "    plt.hist(locsdpkplot[:,IPTPLOT,iax],bins=20)\n",
    "    plt.title('dpk {}'.format(iax))\n",
    "    plt.xlim((0,192))\n",
    "    plt.sca(ax[1,iax])\n",
    "    plt.hist(locsDSplot[:,IPTPLOT,iax],bins=20)\n",
    "    plt.title('DS {}'.format(iax))\n",
    "    plt.xlim((0,192))\n",
    "    "
   ]
  },
  {
   "cell_type": "code",
   "execution_count": null,
   "metadata": {},
   "outputs": [],
   "source": [
    "IPTHEAD = 0\n",
    "IPTTAIL = 5\n",
    "vtailhead_ds = locsDSplot[:,IPTHEAD,:]-locsDSplot[:,IPTTAIL,:]\n",
    "vtailhead_dpk = locsdpkplot[:,IPTHEAD,:]-locsdpkplot[:,IPTTAIL,:]\n",
    "\n",
    "phi_ds = np.arctan2(vtailhead_ds[:,1],vtailhead_ds[:,0])\n",
    "phi_dpk = np.arctan2(vtailhead_dpk[:,1],vtailhead_dpk[:,0])\n",
    "\n",
    "phi_ds.shape, phi_dpk.shape"
   ]
  },
  {
   "cell_type": "code",
   "execution_count": null,
   "metadata": {},
   "outputs": [],
   "source": [
    "f = plt.figure(num=23)\n",
    "f.clf()\n",
    "ax = f.subplots(1,2,sharex=True,sharey=True)  # figsize=(16,12),\n",
    "\n",
    "plt.sca(ax[0])\n",
    "plt.hist(phi_ds,bins=20)\n",
    "plt.title('ds')\n",
    "#plt.xlim((0,192))\n",
    "plt.sca(ax[1])\n",
    "plt.hist(phi_dpk,bins=20)\n",
    "plt.title('dpk')\n",
    "#plt.xlim((0,192))"
   ]
  },
  {
   "cell_type": "code",
   "execution_count": null,
   "metadata": {
    "pycharm": {
     "name": "#%%\n"
    }
   },
   "outputs": [],
   "source": []
  },
  {
   "cell_type": "code",
   "execution_count": null,
   "metadata": {},
   "outputs": [],
   "source": []
  }
 ],
 "metadata": {
  "kernelspec": {
   "display_name": "Python 3",
   "language": "python",
   "name": "python3"
  },
  "language_info": {
   "codemirror_mode": {
    "name": "ipython",
    "version": 3
   },
   "file_extension": ".py",
   "mimetype": "text/x-python",
   "name": "python",
   "nbconvert_exporter": "python",
   "pygments_lexer": "ipython3",
   "version": "3.6.9"
  },
  "pycharm": {
   "stem_cell": {
    "cell_type": "raw",
    "metadata": {
     "collapsed": false
    },
    "source": []
   }
  }
 },
 "nbformat": 4,
 "nbformat_minor": 1
}
