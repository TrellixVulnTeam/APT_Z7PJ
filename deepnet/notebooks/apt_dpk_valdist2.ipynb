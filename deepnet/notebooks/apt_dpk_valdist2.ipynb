{
 "cells": [
  {
   "cell_type": "code",
   "execution_count": 24,
   "metadata": {
    "pycharm": {
     "is_executing": true
    }
   },
   "outputs": [],
   "source": [
    "import glob\n",
    "import importlib\n",
    "import time\n",
    "from os.path import expanduser\n",
    "import copy\n",
    "import os\n",
    "\n",
    "import tensorflow as tf\n",
    "import numpy as np\n",
    "import matplotlib.pyplot as plt\n",
    "import cv2\n",
    "import mpl_toolkits.axes_grid1 as axg1\n",
    "\n",
    "import deepposekit as dpk\n",
    "import TrainingGeneratorTFRecord as TGTFR\n",
    "import apt_dpk \n",
    "import apt_dpk_exps as ade\n",
    "import run_apt_expts_2 as rae\n",
    "import APT_interface as apt\n",
    "import PoseTools as pt\n",
    "import multiResData as mrd\n",
    "import open_pose_data as opd\n",
    "import util\n",
    "import tfdatagen\n",
    "\n",
    "from deepposekit.models import StackedDenseNet"
   ]
  },
  {
   "cell_type": "code",
   "execution_count": null,
   "metadata": {
    "pycharm": {
     "is_executing": true
    }
   },
   "outputs": [],
   "source": [
    "#dg = dpk.DataGenerator(DPK_DSET)"
   ]
  },
  {
   "cell_type": "code",
   "execution_count": 2,
   "metadata": {},
   "outputs": [
    {
     "name": "stderr",
     "output_type": "stream",
     "text": [
      "/dat0/venv/env/lib/python3.6/site-packages/h5py/_hl/dataset.py:313: H5pyDeprecationWarning: dataset.value has been deprecated. Use dataset[()] instead.\n",
      "  \"Use dataset[()] instead.\", H5pyDeprecationWarning)\n",
      "I0612 13:22:02.754502 139869547046720 apt_dpk.py:473] DPK size stuff: imsz=(192, 192), imsz_pad=(192, 192), imsz_net=(192, 192), rescale=1.0, n_trans_min=5\n",
      "W0612 13:22:02.765516 139869547046720 deprecation.py:506] From /dat0/venv/env/lib/python3.6/site-packages/tensorflow/python/ops/init_ops.py:97: calling GlorotUniform.__init__ (from tensorflow.python.ops.init_ops) with dtype is deprecated and will be removed in a future version.\n",
      "Instructions for updating:\n",
      "Call initializer instance with the dtype argument instead of passing it to the constructor\n",
      "W0612 13:22:02.766545 139869547046720 deprecation.py:506] From /dat0/venv/env/lib/python3.6/site-packages/tensorflow/python/ops/init_ops.py:1251: calling VarianceScaling.__init__ (from tensorflow.python.ops.init_ops) with dtype is deprecated and will be removed in a future version.\n",
      "Instructions for updating:\n",
      "Call initializer instance with the dtype argument instead of passing it to the constructor\n",
      "W0612 13:22:02.767381 139869547046720 deprecation.py:506] From /dat0/venv/env/lib/python3.6/site-packages/tensorflow/python/ops/init_ops.py:97: calling Zeros.__init__ (from tensorflow.python.ops.init_ops) with dtype is deprecated and will be removed in a future version.\n",
      "Instructions for updating:\n",
      "Call initializer instance with the dtype argument instead of passing it to the constructor\n",
      "W0612 13:22:02.770661 139869547046720 deprecation.py:506] From /dat0/venv/env/lib/python3.6/site-packages/tensorflow/python/ops/init_ops.py:97: calling Ones.__init__ (from tensorflow.python.ops.init_ops) with dtype is deprecated and will be removed in a future version.\n",
      "Instructions for updating:\n",
      "Call initializer instance with the dtype argument instead of passing it to the constructor\n",
      "W0612 13:22:04.348659 139869547046720 deprecation.py:323] From /dat0/venv/env/lib/python3.6/site-packages/tensorflow/python/keras/backend.py:4075: add_dispatch_support.<locals>.wrapper (from tensorflow.python.ops.array_ops) is deprecated and will be removed in a future version.\n",
      "Instructions for updating:\n",
      "Use tf.where in 2.0, which has the same broadcast rule as np.where\n"
     ]
    },
    {
     "name": "stdout",
     "output_type": "stream",
     "text": [
      "conf vs conf_saved:\n",
      "using vars(d1)\n",
      "using vars(d2)\n",
      "0 keys in d1 not in d2: set()\n",
      "1 keys in d2 not in d1: {'ignore_occluded'}\n",
      "labelfile: values differ, /dat0/jrcmirror/groups/branson/bransonlab/apt/experiments/data/leap_dataset_gt_stripped_numchans1.lbl vs /groups/branson/bransonlab/apt/experiments/data/leap_dataset_gt_stripped_numchans1.lbl\n",
      "horz_flip: values differ, False vs True\n",
      "save_step: values differ, 1000 vs 4956\n",
      "dpk_augmenter_type: values differ, {'type': 'dpkfly'} vs None\n",
      "display_step: values differ, 50 vs 84\n",
      "batch_size: values differ, 8 vs 16\n",
      "flipLandmarkMatches: values differ, {} vs {'1': 2, '10': 22, '7': 19, '6': 18, '19': 7, '13': 25, '16': 28, '26': 14, '21': 9, '15': 27, '22': 10, '25': 13, '2': 1, '18': 6, '28': 16, '14': 26, '30': 31, '29': 17, '31': 30, '20': 8, '8': 20, '24': 12, '11': 23, '23': 11, '9': 21, '12': 24, '27': 15, '17': 29}\n",
      "dpk_use_tfdata: values differ, False vs True\n",
      "maxckpt: values differ, 5 vs 200\n",
      "dpk_base_lr_used: values differ, None vs 0.001\n",
      "crange: values differ, [0.9, 1.1] vs [-0.001, 0.001]\n",
      "rrange: values differ, 15.0 vs 180\n",
      "cachedir: values differ, /dat0/apt/cache/leap_dset/dpkfly/view_0/dpkorig_20200512T180752_run4_tfr_ptia_01 vs /groups/branson/bransonlab/apt/dl.al.2020/cache/leap_dset/dpksdn/view_0/dpkorig_20200512T180752_run4_tfr_ptia_01\n",
      "mdn_use_unet_loss: values differ, True vs False\n",
      "dl_steps: values differ, 60000 vs 100000\n",
      "brange: values differ, [-0.1, 0.1] vs [-0.001, 0.001]\n",
      "dpk_use_augmenter: values differ, True vs 0\n",
      "vert_flip: values differ, False vs True\n",
      "use_scale_factor_range: values differ, False vs True\n",
      "150 total common keys checked\n"
     ]
    }
   ],
   "source": [
    "sdn,conf_saved, conf = ade.exp1orig_assess('dpkorig_20200512T180752_run4_tfr_ptia_01',returnsdn=True,net='dpkfly')"
   ]
  },
  {
   "cell_type": "code",
   "execution_count": null,
   "metadata": {},
   "outputs": [],
   "source": [
    "apt_dpk.print_dpk_conf(conf_saved['conf'])"
   ]
  },
  {
   "cell_type": "code",
   "execution_count": null,
   "metadata": {},
   "outputs": [],
   "source": [
    "conf_saved"
   ]
  },
  {
   "cell_type": "code",
   "execution_count": 3,
   "metadata": {},
   "outputs": [],
   "source": [
    "mp=sdn.predict_model"
   ]
  },
  {
   "cell_type": "code",
   "execution_count": 6,
   "metadata": {},
   "outputs": [
    {
     "data": {
      "text/plain": [
       "{'rescale': 1.0,\n",
       " 'label_blur_rad': 3.0,\n",
       " 'batch_size': 8,\n",
       " 'view': 0,\n",
       " 'gamma': 0.1,\n",
       " 'display_step': 50,\n",
       " 'num_test': 24,\n",
       " 'dl_steps': 60000,\n",
       " 'decay_steps': 25000,\n",
       " 'learning_rate': 0.0001,\n",
       " 'trx_align_theta': False,\n",
       " 'horz_flip': False,\n",
       " 'vert_flip': False,\n",
       " 'brange': [-0.1, 0.1],\n",
       " 'crange': [0.9, 1.1],\n",
       " 'rrange': 15.0,\n",
       " 'trange': 10.0,\n",
       " 'scale_range': 0.2,\n",
       " 'scale_factor_range': 1.1,\n",
       " 'use_scale_factor_range': False,\n",
       " 'imax': 255.0,\n",
       " 'check_bounds_distort': True,\n",
       " 'adjust_contrast': False,\n",
       " 'clahe_grid_size': 20,\n",
       " 'normalize_img_mean': False,\n",
       " 'normalize_batch_mean': False,\n",
       " 'perturb_color': False,\n",
       " 'flipLandmarkMatches': {},\n",
       " 'learning_rate_multiplier': 1.0,\n",
       " 'splitType': 'frame',\n",
       " 'trainfilename': 'train_TF',\n",
       " 'fulltrainfilename': 'fullTrain_TF',\n",
       " 'valfilename': 'val_TF',\n",
       " 'valdatafilename': 'valdata',\n",
       " 'valratio': 0.3,\n",
       " 'holdoutratio': 0.8,\n",
       " 'max_n_animals': 1,\n",
       " 'flipud': False,\n",
       " 'unet_rescale': 1.0,\n",
       " 'unet_keep_prob': 1.0,\n",
       " 'unet_use_leaky': False,\n",
       " 'use_pretrained_weights': True,\n",
       " 'mdn_min_sigma': 3.0,\n",
       " 'mdn_max_sigma': 4.0,\n",
       " 'mdn_logit_eps_training': 0.001,\n",
       " 'mdn_extra_layers': 1,\n",
       " 'mdn_use_unet_loss': True,\n",
       " 'mdn_pred_dist': False,\n",
       " 'op_label_scale': 8,\n",
       " 'op_im_pady': None,\n",
       " 'op_im_padx': None,\n",
       " 'op_imsz_hires': None,\n",
       " 'op_imsz_lores': None,\n",
       " 'op_imsz_net': None,\n",
       " 'op_imsz_pad': None,\n",
       " 'op_backbone': 'resnet50_8px',\n",
       " 'op_backbone_weights': 'imagenet',\n",
       " 'op_map_lores_blur_rad': 1.0,\n",
       " 'op_map_hires_blur_rad': 2.0,\n",
       " 'op_paf_lores_tubewidth': 0.95,\n",
       " 'op_paf_lores_tubeblur': False,\n",
       " 'op_paf_lores_tubeblursig': 0.95,\n",
       " 'op_paf_lores_tubeblurclip': 0.05,\n",
       " 'op_paf_nstage': 5,\n",
       " 'op_map_nstage': 1,\n",
       " 'op_hires': True,\n",
       " 'op_hires_ndeconv': 2,\n",
       " 'op_base_lr': 4e-05,\n",
       " 'op_weight_decay_kernel': 0.0005,\n",
       " 'op_hmpp_floor': 0.1,\n",
       " 'op_hmpp_nclustermax': 1,\n",
       " 'op_pred_raw': False,\n",
       " 'n_steps': 4.41,\n",
       " 'sb_n_transition_supported': 5,\n",
       " 'sb_im_pady': None,\n",
       " 'sb_im_padx': None,\n",
       " 'sb_imsz_net': None,\n",
       " 'sb_imsz_pad': None,\n",
       " 'sb_base_lr': 4e-05,\n",
       " 'sb_weight_decay_kernel': 0.0005,\n",
       " 'sb_backbone': 'ResNet50_8px',\n",
       " 'sb_backbone_weights': 'imagenet',\n",
       " 'sb_num_deconv': 3,\n",
       " 'sb_deconv_num_filt': 512,\n",
       " 'sb_output_scale': None,\n",
       " 'sb_upsamp_chan_handling': 'direct_deconv',\n",
       " 'sb_blur_rad_input_res': 3.0,\n",
       " 'sb_blur_rad_output_res': None,\n",
       " 'sb_hmpp_floor': 0.1,\n",
       " 'sb_hmpp_nclustermax': 1,\n",
       " 'leap_net_name': 'leap_cnn',\n",
       " 'dlc_train_img_dir': 'deepcut_train',\n",
       " 'dlc_train_data_file': 'deepcut_data.mat',\n",
       " 'dlc_augment': True,\n",
       " 'dpk_max_val_batches': 1,\n",
       " 'dpk_downsample_factor': 2,\n",
       " 'dpk_n_stacks': 2,\n",
       " 'dpk_growth_rate': 48,\n",
       " 'dpk_use_pretrained': True,\n",
       " 'dpk_n_outputs': 1,\n",
       " 'dpk_use_augmenter': True,\n",
       " 'dpk_augmenter_type': {'type': 'dpkfly'},\n",
       " 'dpk_augmenter': None,\n",
       " 'dpk_n_transition_min': 5,\n",
       " 'dpk_im_pady': 0,\n",
       " 'dpk_im_padx': 0,\n",
       " 'dpk_imsz_net': (192, 192),\n",
       " 'dpk_imsz_pad': (192, 192),\n",
       " 'dpk_use_graph': True,\n",
       " 'dpk_graph': array([-1,  0,  0,  0,  3,  4, -1,  6,  7,  8, -1, 10, 11, 12, -1, 14, 15,\n",
       "        16, -1, 18, 19, 20, -1, 22, 23, 24, -1, 26, 27, 28,  3,  3]),\n",
       " 'dpk_swap_index': array([-1,  2,  1, -1, -1, -1, 18, 19, 20, 21, 22, 23, 24, 25, 26, 27, 28,\n",
       "        29,  6,  7,  8,  9, 10, 11, 12, 13, 14, 15, 16, 17, 31, 30]),\n",
       " 'dpk_graph_scale': 1.0,\n",
       " 'dpk_output_shape': None,\n",
       " 'dpk_output_sigma': None,\n",
       " 'dpk_input_sigma': 5.0,\n",
       " 'dpk_base_lr_factory': 0.001,\n",
       " 'dpk_base_lr_used': None,\n",
       " 'dpk_reduce_lr_on_plat': True,\n",
       " 'dpk_use_tfdata': False,\n",
       " 'time_window_size': 1,\n",
       " 'do_time': False,\n",
       " 'rnn_before': 9,\n",
       " 'rnn_after': 0,\n",
       " 'att_hist': 128,\n",
       " 'att_layers': [1],\n",
       " 'save_time': None,\n",
       " 'save_step': 1000,\n",
       " 'save_td_step': 50.0,\n",
       " 'maxckpt': 5,\n",
       " 'cachedir': '/dat0/apt/cache/leap_dset/dpkfly/view_0/dpkorig_20200512T180752_run4_tfr_ptia_01',\n",
       " 'n_classes': 32,\n",
       " 'expname': 'leap_dset',\n",
       " 'has_trx_file': False,\n",
       " 'selpts': array([ 0,  1,  2,  3,  4,  5,  6,  7,  8,  9, 10, 11, 12, 13, 14, 15, 16,\n",
       "        17, 18, 19, 20, 21, 22, 23, 24, 25, 26, 27, 28, 29, 30, 31]),\n",
       " 'nviews': 1,\n",
       " 'imsz': (192, 192),\n",
       " 'labelfile': '/dat0/jrcmirror/groups/branson/bransonlab/apt/experiments/data/leap_dataset_gt_stripped_numchans1.lbl',\n",
       " 'sel_sz': 192,\n",
       " 'img_dim': 1,\n",
       " 'unet_steps': 60000,\n",
       " 'op_affinity_graph': [],\n",
       " 'mdn_groups': [(0,),\n",
       "  (1,),\n",
       "  (2,),\n",
       "  (3,),\n",
       "  (4,),\n",
       "  (5,),\n",
       "  (6,),\n",
       "  (7,),\n",
       "  (8,),\n",
       "  (9,),\n",
       "  (10,),\n",
       "  (11,),\n",
       "  (12,),\n",
       "  (13,),\n",
       "  (14,),\n",
       "  (15,),\n",
       "  (16,),\n",
       "  (17,),\n",
       "  (18,),\n",
       "  (19,),\n",
       "  (20,),\n",
       "  (21,),\n",
       "  (22,),\n",
       "  (23,),\n",
       "  (24,),\n",
       "  (25,),\n",
       "  (26,),\n",
       "  (27,),\n",
       "  (28,),\n",
       "  (29,),\n",
       "  (30,),\n",
       "  (31,)],\n",
       " 'DeepLabCut': '',\n",
       " 'cos_steps': 2.0,\n",
       " 'LEAP': '',\n",
       " 'affinity_graph': '',\n",
       " 'Unet': '',\n",
       " 'op_rescale': 1.0,\n",
       " 'dlc_rescale': 1.0,\n",
       " 'leap_rescale': 1.0}"
      ]
     },
     "execution_count": 6,
     "metadata": {},
     "output_type": "execute_result"
    }
   ],
   "source": [
    "vars(conf)"
   ]
  },
  {
   "cell_type": "code",
   "execution_count": 7,
   "metadata": {},
   "outputs": [],
   "source": [
    "conf.dpk_use_tfdata = True"
   ]
  },
  {
   "cell_type": "code",
   "execution_count": 8,
   "metadata": {},
   "outputs": [
    {
     "name": "stderr",
     "output_type": "stream",
     "text": [
      "I0612 13:23:57.808280 139869547046720 TrainingGeneratorTFRecord.py:98] TGTFR. Using trn=/dat0/apt/cache/leap_dset/dpkfly/view_0/dpkorig_20200512T180752_run4_tfr_ptia_01/train_TF.tfrecords, ntrn=1350\n",
      "I0612 13:23:57.809376 139869547046720 TrainingGeneratorTFRecord.py:99] TGTFR. Using val=/dat0/apt/cache/leap_dset/dpkfly/view_0/dpkorig_20200512T180752_run4_tfr_ptia_01/val_TF.tfrecords, nval=150\n",
      "I0612 13:23:57.810780 139869547046720 TrainingGeneratorTFRecord.py:122] TGTFR. created dpk_augmenter, type dpkfly, swapidx [-1  2  1 -1 -1 -1 18 19 20 21 22 23 24 25 26 27 28 29  6  7  8  9 10 11\n",
      " 12 13 14 15 16 17 31 30].\n",
      "I0612 13:23:58.934581 139869547046720 TrainingGeneratorTFRecord.py:135] TGTFR. n_output_chans=66\n",
      "I0612 13:23:58.935503 139869547046720 TrainingGeneratorTFRecord.py:139] TGTFR. use_tfdata: True\n"
     ]
    }
   ],
   "source": [
    "tgtfr = TGTFR.TrainingGeneratorTFRecord(conf)"
   ]
  },
  {
   "cell_type": "code",
   "execution_count": 13,
   "metadata": {},
   "outputs": [
    {
     "name": "stderr",
     "output_type": "stream",
     "text": [
      "W0612 13:28:22.426988 139869547046720 TrainingGeneratorTFRecord.py:251] batch specification (10) differs from conf.batch_size (8)!\n",
      "I0612 13:28:22.430301 139869547046720 tfdatagen.py:739] Val DB exists: Data for validation from:/dat0/apt/cache/leap_dset/dpkfly/view_0/dpkorig_20200512T180752_run4_tfr_ptia_01/val_TF.tfrecords\n"
     ]
    }
   ],
   "source": [
    "dsval_kps = tgtfr(n_outputs=1,batch_size=10,validation=True,confidence=False,infinite=False)\n",
    "dsval_imsonly = dsval_kps.map(map_func=lambda ims, locs: ims)\n",
    "dsval_locsonly = dsval_kps.map(map_func=lambda ims, locs: locs)"
   ]
  },
  {
   "cell_type": "code",
   "execution_count": 65,
   "metadata": {},
   "outputs": [
    {
     "name": "stdout",
     "output_type": "stream",
     "text": [
      "     15/Unknown - 24s 2s/step"
     ]
    }
   ],
   "source": [
    "preds = mp.predict(dsval_imsonly,verbose=1)"
   ]
  },
  {
   "cell_type": "code",
   "execution_count": 15,
   "metadata": {},
   "outputs": [
    {
     "name": "stdout",
     "output_type": "stream",
     "text": [
      "Got 0\n",
      "Got 1\n",
      "Got 2\n",
      "Got 3\n",
      "Got 4\n",
      "Got 5\n",
      "Got 6\n",
      "Got 7\n",
      "Got 8\n",
      "Got 9\n",
      "Got 10\n",
      "Got 11\n",
      "Got 12\n",
      "Got 13\n",
      "Got 14\n"
     ]
    },
    {
     "data": {
      "text/plain": [
       "(150, 32, 2)"
      ]
     },
     "execution_count": 15,
     "metadata": {},
     "output_type": "execute_result"
    }
   ],
   "source": [
    "locs = tfdatagen.read_ds_idxed(dsval_locsonly,range(15))\n",
    "locs = np.concatenate(locs,axis=0)\n",
    "locs.shape"
   ]
  },
  {
   "cell_type": "code",
   "execution_count": 16,
   "metadata": {},
   "outputs": [],
   "source": [
    "d2 = (preds[:,:,:2]-locs)**2\n",
    "d = np.sqrt(np.sum(d2,axis=-1))"
   ]
  },
  {
   "cell_type": "code",
   "execution_count": 18,
   "metadata": {},
   "outputs": [
    {
     "data": {
      "image/png": "[encoded data removed]",
      "text/plain": [
       "<Figure size 432x288 with 1 Axes>"
      ]
     },
     "metadata": {
      "needs_background": "light"
     },
     "output_type": "display_data"
    }
   ],
   "source": [
    "plt.boxplot(d)\n",
    "plt.show()"
   ]
  },
  {
   "cell_type": "code",
   "execution_count": 19,
   "metadata": {},
   "outputs": [
    {
     "data": {
      "text/plain": [
       "(150, 32)"
      ]
     },
     "execution_count": 19,
     "metadata": {},
     "output_type": "execute_result"
    }
   ],
   "source": [
    "d.shape"
   ]
  },
  {
   "cell_type": "code",
   "execution_count": 67,
   "metadata": {},
   "outputs": [
    {
     "data": {
      "text/plain": [
       "(32,)"
      ]
     },
     "execution_count": 67,
     "metadata": {},
     "output_type": "execute_result"
    }
   ],
   "source": [
    "np.mean(d,axis=0).shape"
   ]
  },
  {
   "cell_type": "code",
   "execution_count": 71,
   "metadata": {},
   "outputs": [],
   "source": [
    "ptls=np.percentile(d,[10,50,90],axis=0)"
   ]
  },
  {
   "cell_type": "code",
   "execution_count": null,
   "metadata": {},
   "outputs": [],
   "source": []
  },
  {
   "cell_type": "code",
   "execution_count": null,
   "metadata": {},
   "outputs": [],
   "source": []
  },
  {
   "cell_type": "code",
   "execution_count": 72,
   "metadata": {},
   "outputs": [
    {
     "data": {
      "text/plain": [
       "array([1.09433353, 0.97692612, 0.95995808, 0.97199559, 1.04498798,\n",
       "       1.03536969, 1.01823545, 1.29119921, 1.32513195, 1.26680201,\n",
       "       1.10722429, 1.27529544, 1.18422544, 1.24770963, 0.9935312 ,\n",
       "       1.56025594, 1.53483635, 1.67857027, 1.25090796, 1.30075651,\n",
       "       1.47502786, 1.13241881, 1.37200391, 1.20473713, 1.24931157,\n",
       "       1.27593029, 1.40985799, 1.40506643, 1.47565973, 1.78504837,\n",
       "       1.02097905, 1.05895722])"
      ]
     },
     "execution_count": 72,
     "metadata": {},
     "output_type": "execute_result"
    }
   ],
   "source": [
    "ptls[1,:]"
   ]
  },
  {
   "cell_type": "code",
   "execution_count": 78,
   "metadata": {},
   "outputs": [],
   "source": [
    "import csv   \n",
    "#with open(r'name', 'a') as f:\n",
    "#    writer = csv.writer(f)\n",
    "#    writer.writerow(fields)"
   ]
  },
  {
   "cell_type": "code",
   "execution_count": 79,
   "metadata": {},
   "outputs": [
    {
     "data": {
      "text/plain": [
       "<module 'csv' from '/usr/lib/python3.6/csv.py'>"
      ]
     },
     "execution_count": 79,
     "metadata": {},
     "output_type": "execute_result"
    }
   ],
   "source": [
    "csv"
   ]
  },
  {
   "cell_type": "code",
   "execution_count": 74,
   "metadata": {},
   "outputs": [],
   "source": [
    "row = ptls[1,:]"
   ]
  },
  {
   "cell_type": "code",
   "execution_count": 81,
   "metadata": {},
   "outputs": [
    {
     "data": {
      "text/plain": [
       "32"
      ]
     },
     "execution_count": 81,
     "metadata": {},
     "output_type": "execute_result"
    }
   ],
   "source": [
    "len(row)"
   ]
  },
  {
   "cell_type": "code",
   "execution_count": 86,
   "metadata": {},
   "outputs": [],
   "source": [
    "nkpt =32"
   ]
  },
  {
   "cell_type": "code",
   "execution_count": 87,
   "metadata": {},
   "outputs": [],
   "source": [
    "n = 4*nkpt"
   ]
  },
  {
   "cell_type": "code",
   "execution_count": 94,
   "metadata": {},
   "outputs": [],
   "source": [
    "x = np.random.rand(n)*10"
   ]
  },
  {
   "cell_type": "code",
   "execution_count": 95,
   "metadata": {},
   "outputs": [
    {
     "data": {
      "text/plain": [
       "array([2.39144687, 9.71307669, 4.92661679, 1.91131038, 2.81667501,\n",
       "       1.5371194 , 9.96513623, 1.97612334, 6.36139628, 7.81447   ,\n",
       "       0.13576328, 2.75538912, 7.13630296, 4.26539085, 3.63406375,\n",
       "       1.15557535, 6.55627513, 3.78954614, 3.26625687, 6.04316994,\n",
       "       9.20408037, 2.40341217, 1.91581844, 4.21536697, 2.13428155,\n",
       "       8.76430789, 9.93366817, 3.29167307, 2.70337759, 7.200511  ,\n",
       "       9.50740517, 2.80368758, 5.60511679, 4.70465418, 7.81138666,\n",
       "       4.02553116, 8.05941923, 3.00005339, 6.94879206, 7.69187583,\n",
       "       9.45815916, 9.53049   , 7.23604401, 8.86617684, 0.67280617,\n",
       "       8.14582778, 6.23111516, 6.48956306, 9.82526356, 3.42238113,\n",
       "       5.32525513, 0.65495008, 0.82292676, 4.23019689, 8.26706146,\n",
       "       0.08861656, 1.31164956, 6.62926615, 0.26024445, 9.34040133,\n",
       "       7.26275646, 2.7565622 , 5.1709917 , 0.52428561, 7.61979683,\n",
       "       5.80086109, 8.03865299, 8.91383598, 6.36453942, 9.16283565,\n",
       "       0.91437187, 0.69030478, 2.63748918, 9.32642596, 5.48951041,\n",
       "       3.54932278, 8.23453346, 0.77823529, 7.11750767, 1.33761869,\n",
       "       3.28733501, 3.82538115, 0.92131527, 9.4199484 , 7.83072346,\n",
       "       2.57909899, 4.50816748, 4.40313057, 7.71293354, 2.44503194,\n",
       "       7.53197593, 3.51241504, 6.11180733, 9.09661622, 2.45541844,\n",
       "       7.54993565, 4.1968751 , 2.55645337, 5.34473856, 4.65950068,\n",
       "       9.12309252, 8.48239381, 7.74195252, 2.89372244, 3.58459308,\n",
       "       2.10999506, 4.99659412, 7.14195318, 3.44761898, 2.67935526,\n",
       "       7.63673626, 7.17527304, 9.36659019, 3.77734446, 2.84522962,\n",
       "       2.76036605, 5.61714011, 2.79112699, 4.20271531, 0.37703934,\n",
       "       6.52271926, 3.37823406, 4.68274039, 0.69368209, 1.63047222,\n",
       "       2.34120202, 8.79186177, 5.51498358])"
      ]
     },
     "execution_count": 95,
     "metadata": {},
     "output_type": "execute_result"
    }
   ],
   "source": [
    "x"
   ]
  },
  {
   "cell_type": "code",
   "execution_count": 82,
   "metadata": {},
   "outputs": [],
   "source": [
    "hdr=[str(x) for x in range(len(row))]"
   ]
  },
  {
   "cell_type": "code",
   "execution_count": 98,
   "metadata": {},
   "outputs": [],
   "source": [
    "csvf = '/dat0/apt/dpkwking/test.csv'\n",
    "with open(csvf,'a') as f:\n",
    "    writer = csv.writer(f)\n",
    "    for i in range(1000):\n",
    "        writer.writerow(x)\n"
   ]
  },
  {
   "cell_type": "code",
   "execution_count": 85,
   "metadata": {},
   "outputs": [],
   "source": [
    "row2 = list(range(len(row)+1))\n",
    "with open(csvf,'a') as f:\n",
    "    writer = csv.writer(f)\n",
    "    writer.writerow(row2)"
   ]
  },
  {
   "cell_type": "code",
   "execution_count": 25,
   "metadata": {},
   "outputs": [],
   "source": [
    "eresf = os.path.join(conf.cachedir,'eresf.pickle')\n",
    "eres = pt.pickle_load(eresf)"
   ]
  },
  {
   "cell_type": "code",
   "execution_count": 31,
   "metadata": {},
   "outputs": [
    {
     "data": {
      "text/plain": [
       "(150, 32)"
      ]
     },
     "execution_count": 31,
     "metadata": {},
     "output_type": "execute_result"
    }
   ],
   "source": [
    "eres['eres1']['euclidean'].shape\n"
   ]
  },
  {
   "cell_type": "code",
   "execution_count": 102,
   "metadata": {},
   "outputs": [],
   "source": [
    "y = np.zeros((3))"
   ]
  },
  {
   "cell_type": "code",
   "execution_count": 104,
   "metadata": {},
   "outputs": [
    {
     "data": {
      "text/plain": [
       "[1, 0.0, 0.0, 0.0]"
      ]
     },
     "execution_count": 104,
     "metadata": {},
     "output_type": "execute_result"
    }
   ],
   "source": [
    "[1] + list(y)"
   ]
  },
  {
   "cell_type": "code",
   "execution_count": 43,
   "metadata": {},
   "outputs": [],
   "source": [
    "dd=eres['eres1']['euclidean']-d\n",
    "ddrel = dd/np.abs(d)"
   ]
  },
  {
   "cell_type": "code",
   "execution_count": 44,
   "metadata": {},
   "outputs": [
    {
     "data": {
      "text/plain": [
       "<matplotlib.colorbar.Colorbar at 0x7f34704d5048>"
      ]
     },
     "execution_count": 44,
     "metadata": {},
     "output_type": "execute_result"
    },
    {
     "data": {
      "image/png": "[encoded data removed]",
      "text/plain": [
       "<Figure size 432x288 with 2 Axes>"
      ]
     },
     "metadata": {
      "needs_background": "light"
     },
     "output_type": "display_data"
    }
   ],
   "source": [
    "plt.imshow(ddrel)\n",
    "plt.colorbar()\n"
   ]
  },
  {
   "cell_type": "code",
   "execution_count": 62,
   "metadata": {},
   "outputs": [],
   "source": [
    "tf=np.abs(ddrel)>.01"
   ]
  },
  {
   "cell_type": "code",
   "execution_count": 63,
   "metadata": {},
   "outputs": [
    {
     "data": {
      "text/plain": [
       "array([-0.03563079,  0.02997655, -0.01826507,  0.01727939,  0.03790036,\n",
       "       -0.03699906,  0.03826426, -0.03992983,  0.03564859,  0.00702779,\n",
       "        0.0399883 ,  0.02903827, -0.03957662,  0.02880854,  0.02272531,\n",
       "       -0.02504993, -0.03170481, -0.03654294, -0.01108717, -0.03688344,\n",
       "        0.01671447, -0.03867399,  0.03100488, -0.01680346, -0.03713814,\n",
       "        0.03998502, -0.02359383,  0.01589833,  0.03969949,  0.01927187,\n",
       "        0.01386135,  0.0386146 ,  0.02198133,  0.03876443, -0.03180965,\n",
       "        0.03852359,  0.01023015,  0.02462162,  0.03828173,  0.034199  ])"
      ]
     },
     "execution_count": 63,
     "metadata": {},
     "output_type": "execute_result"
    }
   ],
   "source": [
    "dd[tf]"
   ]
  },
  {
   "cell_type": "code",
   "execution_count": 64,
   "metadata": {},
   "outputs": [
    {
     "data": {
      "text/plain": [
       "40"
      ]
     },
     "execution_count": 64,
     "metadata": {},
     "output_type": "execute_result"
    }
   ],
   "source": [
    "np.count_nonzero(tf)"
   ]
  },
  {
   "cell_type": "markdown",
   "metadata": {
    "pycharm": {
     "is_executing": false
    }
   },
   "source": [
    "## Create a TGTFR/TFDS with PT aug, SDN"
   ]
  },
  {
   "cell_type": "code",
   "execution_count": null,
   "metadata": {},
   "outputs": [],
   "source": [
    "# Create a TGTFR with our default imgaug\n",
    "conf_exp2 = apt.create_conf(LEAPSTRIPPEDLBL, 0, EXPNAME, \\\n",
    "                            CACHE, 'dpkfly', quiet=False)\n",
    "conf_exp2.img_dim = 1\n",
    "conf_exp2 = apt_dpk.update_conf_dpk(conf_exp2,\n",
    "                                    dg.graph,\n",
    "                                    dg.swap_index,\n",
    "                                    n_keypoints=dg.n_keypoints,\n",
    "                                    imshape=dg.compute_image_shape(),\n",
    "                                    useimgaug=False,\n",
    "                                    imgaugtype='dpkfly')\n",
    "conf_exp2.dpk_use_tfdata = True\n",
    "conf_exp2.dpk_use_augmenter = False\n",
    "ade.exp2_set_posetools_aug_config_leapfly(conf_exp2)\n",
    "conf_exp2.print_dataaug_flds()"
   ]
  },
  {
   "cell_type": "code",
   "execution_count": null,
   "metadata": {},
   "outputs": [],
   "source": [
    "'''\n",
    "tgtfr = TGTFR.TrainingGeneratorTFRecord(conf_exp2)\n",
    "sdn = StackedDenseNet(tgtfr,\n",
    "                      n_stacks=conf_exp2.dpk_n_stacks,\n",
    "                      growth_rate=conf_exp2.dpk_growth_rate,\n",
    "                      pretrained=conf_exp2.dpk_use_pretrained)\n",
    "'''\n",
    "tgtfr, sdn = apt_dpk.compile(conf_exp2)"
   ]
  },
  {
   "cell_type": "code",
   "execution_count": null,
   "metadata": {},
   "outputs": [],
   "source": [
    "train_model = sdn.train_model\n",
    "\n",
    "dstrn = sdn.train_generator(sdn.n_outputs,\n",
    "                            batch_size=16,\n",
    "                            validation=False,\n",
    "                            confidence=True,\n",
    "                            shuffle=True,\n",
    "                            infinite=True)    \n",
    "train_model.fit(dstrn,\n",
    "                epochs=2,\n",
    "                steps_per_epoch=3,\n",
    "                verbose=2,\n",
    "                )"
   ]
  },
  {
   "cell_type": "code",
   "execution_count": null,
   "metadata": {},
   "outputs": [],
   "source": [
    "'''\n",
    "test or evaluate require a compile and setting up a loss fn and metric. \n",
    "the custom metric i guess i figured out. custom loss i am not sure presumably doable \n",
    "but anyway evalute() is more opaque. the issue with the custom whatever is the 3rd col \n",
    "of 'confidences' in the subpx predict output.\n",
    "\n",
    "just running predict() straightup only requires splitting the dsval into ims and locs.\n",
    "\n",
    "'''"
   ]
  },
  {
   "cell_type": "code",
   "execution_count": null,
   "metadata": {},
   "outputs": [],
   "source": [
    "tfdatagen.montage(ims, locs=locs)"
   ]
  },
  {
   "cell_type": "code",
   "execution_count": null,
   "metadata": {},
   "outputs": [],
   "source": [
    "def my_metric_fn(y_true, y_pred):\n",
    "    d2 = tf.square(y_true - y_pred[:,:,:2])\n",
    "    d2 = tf.reduce_sum(d2, axis=-1)  # [B x nkpt]\n",
    "    d = tf.sqrt(d2)\n",
    "    dmi = tf.reduce_mean(d, axis=-1) # [B], mean euc err across kpts\n",
    "    return dmi"
   ]
  },
  {
   "cell_type": "code",
   "execution_count": null,
   "metadata": {},
   "outputs": [],
   "source": [
    "#mp.compile('adam','mse')\n",
    "mp.compile(optimizer='adam', loss='mse', metrics=[my_metric_fn])\n"
   ]
  },
  {
   "cell_type": "code",
   "execution_count": null,
   "metadata": {},
   "outputs": [],
   "source": [
    "#tgtfr.conf.dpk_augmenter.reseed(RNGSEED)\n",
    "ds = tgtfr(n_outputs=1, batch_size=4, \n",
    "           validation=False, confidence=True, shuffle=False)\n",
    "\n",
    "resDS = tfdatagen.read_ds_idxed(ds,range(6))\n",
    "for i in range(6):\n",
    "    resDS[i] = (resDS[i][0], resDS[i][1][0])  # tfds puts tgts in list even for n_outputs=1\n",
    "imsDS, tgtsDS = tfdatagen.xylist2xyarr(resDS)\n",
    "imsDS.shape, tgtsDS.shape"
   ]
  },
  {
   "cell_type": "code",
   "execution_count": null,
   "metadata": {},
   "outputs": [],
   "source": [
    "imsDS = np.moveaxis(imsDS, 0, -1)\n",
    "imsDS = imsDS[:, :, 0, :]\n",
    "locsDS = get_conf_map_argmaxs_rescaled(tgtsDS)"
   ]
  },
  {
   "cell_type": "code",
   "execution_count": null,
   "metadata": {
    "scrolled": true
   },
   "outputs": [],
   "source": [
    "hfig, grid, cb0 = tfdatagen.montage(imsDS, cmap='gray', locs=locsDS, locsmrkrsz=128)"
   ]
  }
 ],
 "metadata": {
  "kernelspec": {
   "display_name": "Python 3",
   "language": "python",
   "name": "python3"
  },
  "language_info": {
   "codemirror_mode": {
    "name": "ipython",
    "version": 3
   },
   "file_extension": ".py",
   "mimetype": "text/x-python",
   "name": "python",
   "nbconvert_exporter": "python",
   "pygments_lexer": "ipython3",
   "version": "3.6.9"
  },
  "pycharm": {
   "stem_cell": {
    "cell_type": "raw",
    "metadata": {
     "collapsed": false
    },
    "source": []
   }
  }
 },
 "nbformat": 4,
 "nbformat_minor": 1
}
