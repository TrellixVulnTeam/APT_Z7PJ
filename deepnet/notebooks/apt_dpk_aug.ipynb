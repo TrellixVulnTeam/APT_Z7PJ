{
 "cells": [
  {
   "cell_type": "code",
   "execution_count": null,
   "metadata": {
    "pycharm": {
     "is_executing": true
    }
   },
   "outputs": [],
   "source": [
    "import glob\n",
    "import importlib\n",
    "import time\n",
    "from os.path import expanduser\n",
    "import copy\n",
    "\n",
    "import tensorflow as tf\n",
    "import numpy as np\n",
    "import matplotlib.pyplot as plt\n",
    "import cv2\n",
    "import mpl_toolkits.axes_grid1 as axg1\n",
    "\n",
    "import deepposekit as dpk\n",
    "import TrainingGeneratorTFRecord as TGTFR\n",
    "import apt_dpk \n",
    "import apt_dpk_exps as ade\n",
    "import run_apt_expts_2 as rae\n",
    "import APT_interface as apt\n",
    "import PoseTools as pt\n",
    "import multiResData as mrd\n",
    "import open_pose_data as opd\n",
    "import util\n",
    "import tfdatagen\n",
    "\n",
    "DPK_DSET = '/home/al/git/dpkd/datasets/fly/annotation_data_release_AL.h5'\n",
    "\n",
    "LEAPSTRIPPEDLBL = '/dat0/jrcmirror/groups/branson/bransonlab/apt/experiments/data/leap_dataset_gt_stripped.lbl'\n",
    "EXPNAME = 'dpkfly'\n",
    "CACHE = '/dat0/apt/cache'\n",
    "\n",
    "dg = dpk.DataGenerator(DPK_DSET)\n"
   ]
  },
  {
   "cell_type": "markdown",
   "metadata": {
    "pycharm": {
     "is_executing": false
    }
   },
   "source": [
    "## Create a DPK TG with default IA aug; montage it"
   ]
  },
  {
   "cell_type": "code",
   "execution_count": null,
   "metadata": {
    "pycharm": {
     "is_executing": false
    }
   },
   "outputs": [],
   "source": [
    "conf = apt.create_conf(LEAPSTRIPPEDLBL, 0, EXPNAME, \\\n",
    "                       CACHE, 'dpkfly', quiet=False)\n",
    "conf.img_dim = 1  # hack, the leap stripped lbl has NumChans=3, but we created the tfr \n",
    "                  # directly using the dpk h5 which is 1-channel\n",
    "conf.cachedir\n",
    "\n",
    "# Cached images in strippedlbl differ from dpk h5! \n",
    "# - Ims are 3-chan grayscale vs 1-chan\n",
    "# - Locs are off-by-one; strippedlbl prob correct (0-based)\n",
    "#apt.create_tfrecord(conf,split=False,use_cache=True)\n",
    "\n",
    "# So rather than use apt.create_tfrecord, we create the tfr directly from the h5 even \n",
    "# though it may be off-by-one for replication purposes\n",
    "\n",
    "#train_tf = conf.cachedir + '/train_TF.tfrecords'\n",
    "#apt_dpk.apt_db_from_datagen(dg, train_tf)"
   ]
  },
  {
   "cell_type": "code",
   "execution_count": null,
   "metadata": {},
   "outputs": [],
   "source": [
    "DSFAC = 2\n",
    "SIGMA = 5\n",
    "VALSPLIT = 0.0\n",
    "GRAPHSCALE = 1\n",
    "\n",
    "ia = apt_dpk.make_imgaug_augmenter('dpkfly', dg)\n",
    "tg = dpk.TrainingGenerator(generator=dg,\n",
    "                           downsample_factor=DSFAC,\n",
    "                           augmenter=ia,\n",
    "                           use_graph=True,\n",
    "                           shuffle=False,\n",
    "                           sigma=SIGMA,\n",
    "                           validation_split=VALSPLIT,\n",
    "                           graph_scale=GRAPHSCALE,\n",
    "                           random_seed=0)\n",
    "\n",
    "# For tg, VALSPLIT=0 => use the training imgs\n",
    "g = tg(n_outputs=1, batch_size=4, \n",
    "       validation=False, confidence=True)"
   ]
  },
  {
   "cell_type": "code",
   "execution_count": null,
   "metadata": {},
   "outputs": [],
   "source": [
    "RNGSEED = 17\n",
    "g.augmenter.reseed(RNGSEED)\n",
    "imstgts_dpk = [g[x] for x in range(6)]\n",
    "imsdpk, tgtsdpk = tfdatagen.xylist2xyarr(imstgts_dpk)\n",
    "imsdpk.shape, tgtsdpk.shape"
   ]
  },
  {
   "cell_type": "code",
   "execution_count": null,
   "metadata": {},
   "outputs": [],
   "source": [
    "imsdpk = np.moveaxis(imsdpk, 0, -1)\n",
    "imsdpk = imsdpk[:, :, 0, :]"
   ]
  },
  {
   "cell_type": "code",
   "execution_count": null,
   "metadata": {},
   "outputs": [],
   "source": [
    "def get_conf_map_argmaxs_rescaled(tgts0, ipt=31, sz=(192, 192)):\n",
    "    tgts = tgts0[...,ipt].copy()\n",
    "    tgts = np.moveaxis(tgts, 0, -1)\n",
    "    tgts2 = cv2.resize(tgts, sz)\n",
    "    locs = pt.get_pred_locs(tgts2[np.newaxis,...])\n",
    "    locs = locs[0,...]\n",
    "    return locs # [tgts0.shape[0] x 2]"
   ]
  },
  {
   "cell_type": "code",
   "execution_count": null,
   "metadata": {},
   "outputs": [],
   "source": [
    "locs = get_conf_map_argmaxs_rescaled(tgtsdpk)"
   ]
  },
  {
   "cell_type": "code",
   "execution_count": null,
   "metadata": {},
   "outputs": [],
   "source": [
    "locs.shape"
   ]
  },
  {
   "cell_type": "code",
   "execution_count": null,
   "metadata": {},
   "outputs": [],
   "source": [
    "locs = locs[:,np.newaxis,:]"
   ]
  },
  {
   "cell_type": "code",
   "execution_count": null,
   "metadata": {},
   "outputs": [],
   "source": [
    "hfig, grid, cb0 = tfdatagen.montage(imsdpk, cmap='gray', locs=locs, locsmrkrsz=128)"
   ]
  },
  {
   "cell_type": "markdown",
   "metadata": {
    "pycharm": {
     "is_executing": false
    }
   },
   "source": [
    "## Create a TGTFR/TFDS with default IA aug; montage it"
   ]
  },
  {
   "cell_type": "code",
   "execution_count": null,
   "metadata": {},
   "outputs": [],
   "source": [
    "conf.cachedir"
   ]
  },
  {
   "cell_type": "code",
   "execution_count": null,
   "metadata": {},
   "outputs": [],
   "source": [
    "# Create a TGTFR with our default imgaug\n",
    "conf.img_dim = 1\n",
    "conf = apt_dpk.update_conf_dpk(conf,\n",
    "                               dg.graph,\n",
    "                               dg.swap_index,\n",
    "                               n_keypoints=dg.n_keypoints,\n",
    "                               imshape=dg.compute_image_shape(),\n",
    "                               useimgaug=True,\n",
    "                               imgaugtype='dpkfly')\n",
    "conf.dpk_use_tfdata = True\n",
    "tgtfr = TGTFR.TrainingGeneratorTFRecord(conf)\n",
    "tgtfr.conf.dpk_augmenter.reseed(RNGSEED)\n",
    "conf.batch_size = 4 # hack again, note tgtfr uses batch_size in conf and ignores input arg\n",
    "ds = tgtfr(n_outputs=1, batch_size=4, \n",
    "           validation=False, confidence=True, shuffle=False)\n",
    "\n",
    "resDS = tfdatagen.read_ds_idxed(ds,range(6))\n",
    "for i in range(6):\n",
    "    resDS[i] = (resDS[i][0], resDS[i][1][0])  # tfds puts tgts in list even for n_outputs=1\n",
    "imsDS, tgtsDS = tfdatagen.xylist2xyarr(resDS)\n",
    "imsDS.shape, tgtsDS.shape"
   ]
  },
  {
   "cell_type": "code",
   "execution_count": null,
   "metadata": {},
   "outputs": [],
   "source": [
    "imsDS = np.moveaxis(imsDS, 0, -1)\n",
    "imsDS = imsDS[:, :, 0, :]\n",
    "locsDS = get_conf_map_argmaxs_rescaled(tgtsDS)"
   ]
  },
  {
   "cell_type": "code",
   "execution_count": null,
   "metadata": {},
   "outputs": [],
   "source": [
    "locsDS = locsDS[:,np.newaxis,:]"
   ]
  },
  {
   "cell_type": "code",
   "execution_count": null,
   "metadata": {
    "scrolled": true
   },
   "outputs": [],
   "source": [
    "hfig, grid, cb0 = tfdatagen.montage(imsDS, cmap='gray', locs=locsDS, locsmrkrsz=128)"
   ]
  },
  {
   "cell_type": "markdown",
   "metadata": {
    "pycharm": {
     "is_executing": false
    }
   },
   "source": [
    "## Create a TGTFR/TFDS with PT aug; montage it\n",
    "## Oops, this used the default dataaug params i guess"
   ]
  },
  {
   "cell_type": "code",
   "execution_count": null,
   "metadata": {},
   "outputs": [],
   "source": [
    "conf.dpk_use_augmenter = False\n",
    "tgtfrPT = TGTFR.TrainingGeneratorTFRecord(conf)\n",
    "#tgtfr.conf.dpk_augmenter.reseed(RNGSEED)\n",
    "conf.batch_size = 4 # hack again, note tgtfr uses batch_size in conf and ignores input arg\n",
    "ds = tgtfrPT(n_outputs=1, batch_size=4, \n",
    "             validation=False, confidence=True, shuffle=False)\n",
    "\n",
    "resDS = tfdatagen.read_ds_idxed(ds,range(3))\n",
    "for i in range(3):\n",
    "    resDS[i] = (resDS[i][0], resDS[i][1][0]) \n",
    "imsDS, tgtsDS = tfdatagen.xylist2xyarr(resDS)\n",
    "imsDS.shape, tgtsDS.shape"
   ]
  },
  {
   "cell_type": "code",
   "execution_count": null,
   "metadata": {},
   "outputs": [],
   "source": [
    "imsDS = np.moveaxis(imsDS, 0, -1)\n",
    "imsDS = imsDS[:, :, 0, :]\n",
    "locsDS = get_conf_map_argmaxs_rescaled(tgtsDS)"
   ]
  },
  {
   "cell_type": "code",
   "execution_count": null,
   "metadata": {},
   "outputs": [],
   "source": [
    "locsDS = locsDS[:,np.newaxis,:]"
   ]
  },
  {
   "cell_type": "code",
   "execution_count": null,
   "metadata": {
    "scrolled": true
   },
   "outputs": [],
   "source": [
    "hfig, grid, cb0 = tfdatagen.montage(imsDS,cmap='gray', locs=locsDS, locsmrkrsz=128)"
   ]
  },
  {
   "cell_type": "code",
   "execution_count": null,
   "metadata": {},
   "outputs": [],
   "source": [
    "tdf='/dat0/jrcmirror/groups/branson/bransonlab/apt/dl.al.2020/cache/multitarget_bubble/openpose/view_0/apt_expts_opgal/multitarget_bubble_deepnet_20200429_traindata'\n",
    "td=pt.pickle_load(tdf)"
   ]
  },
  {
   "cell_type": "code",
   "execution_count": null,
   "metadata": {},
   "outputs": [],
   "source": [
    "conf_bub = td[-1]"
   ]
  },
  {
   "cell_type": "code",
   "execution_count": null,
   "metadata": {},
   "outputs": [],
   "source": [
    "conf_bub.print_dataaug_flds()"
   ]
  },
  {
   "cell_type": "code",
   "execution_count": null,
   "metadata": {},
   "outputs": [],
   "source": [
    "skelcsv = apt_dpk.skeleton_csvs['alice'][0]\n",
    "graph, swapidx = apt_dpk.read_skel_csv(skelcsv)\n",
    "swapidx"
   ]
  },
  {
   "cell_type": "code",
   "execution_count": null,
   "metadata": {},
   "outputs": [],
   "source": [
    "flm_flybub = apt_dpk.swap_index_to_flip_landmark_matches(swapidx)"
   ]
  },
  {
   "cell_type": "code",
   "execution_count": null,
   "metadata": {},
   "outputs": [],
   "source": [
    "flm_flybub==conf_bub.flipLandmarkMatches"
   ]
  },
  {
   "cell_type": "code",
   "execution_count": null,
   "metadata": {},
   "outputs": [],
   "source": [
    "## sometimes 75%:\n",
    "\n",
    " # flip: both flips => true. lmark matches etc. want random prob\n",
    " # scale: (0.95, 1.05) or (95%->1.05%) in r/c independently (SKIPPED IN PT IMPL)\n",
    " # xlate: (-.05,.05) or +/- 5% of im size in r/c independently\n",
    " # shear: (-8,8) or (-8deg,8deg) (SKIPPED IN PT IMPL)\n",
    " # order = ia.ALL, cval=ia.ALL, \n",
    "\n",
    " # THEN another scale (0.9, 1.1), this is uniform x/y.\n",
    "\n",
    "## then always rorate -180:180"
   ]
  },
  {
   "cell_type": "code",
   "execution_count": null,
   "metadata": {},
   "outputs": [],
   "source": [
    "conf_exp2 = copy.deepcopy(conf)\n",
    "ade.exp2_set_posetools_aug_config_leapfly(conf_exp2)"
   ]
  },
  {
   "cell_type": "code",
   "execution_count": null,
   "metadata": {},
   "outputs": [],
   "source": [
    "conf_exp2.print_dataaug_flds()"
   ]
  },
  {
   "cell_type": "code",
   "execution_count": null,
   "metadata": {},
   "outputs": [],
   "source": [
    "# check conf/dataaug against ia cmts\n",
    "# diff conf against orig conf\n",
    "# how to run, set dpk_use_augmenter etc?"
   ]
  },
  {
   "cell_type": "code",
   "execution_count": null,
   "metadata": {},
   "outputs": [],
   "source": [
    "util.dictdiff(conf,conf_exp2)"
   ]
  },
  {
   "cell_type": "markdown",
   "metadata": {
    "pycharm": {
     "is_executing": false
    }
   },
   "source": [
    "## Create a TGTFR/TFDS with PT aug; montage it\n",
    "## Take 2!!"
   ]
  },
  {
   "cell_type": "code",
   "execution_count": null,
   "metadata": {},
   "outputs": [],
   "source": [
    "# Create a TGTFR with our default imgaug\n",
    "conf_exp2 = apt.create_conf(LEAPSTRIPPEDLBL, 0, EXPNAME, \\\n",
    "                            CACHE, 'dpkfly', quiet=False)\n",
    "conf_exp2.img_dim = 1\n",
    "conf_exp2 = apt_dpk.update_conf_dpk(conf_exp2,\n",
    "                                    dg.graph,\n",
    "                                    dg.swap_index,\n",
    "                                    n_keypoints=dg.n_keypoints,\n",
    "                                    imshape=dg.compute_image_shape(),\n",
    "                                    useimgaug=False,\n",
    "                                    imgaugtype='dpkfly')\n",
    "conf_exp2.dpk_use_tfdata = True\n",
    "conf_exp2.dpk_use_augmenter = False\n",
    "ade.exp2_set_posetools_aug_config_leapfly(conf_exp2)\n",
    "conf_exp2.print_dataaug_flds()"
   ]
  },
  {
   "cell_type": "code",
   "execution_count": null,
   "metadata": {},
   "outputs": [],
   "source": [
    "dg.swap_index"
   ]
  },
  {
   "cell_type": "code",
   "execution_count": null,
   "metadata": {},
   "outputs": [],
   "source": [
    "conf_exp2.dpk_use_tfdata"
   ]
  },
  {
   "cell_type": "code",
   "execution_count": null,
   "metadata": {},
   "outputs": [],
   "source": [
    "conf_exp2.batch_size = 4 # hack again, note tgtfr uses batch_size in conf and ignores input arg\n",
    "tgtfr = TGTFR.TrainingGeneratorTFRecord(conf_exp2)\n",
    "#tgtfr.conf.dpk_augmenter.reseed(RNGSEED)\n",
    "ds = tgtfr(n_outputs=1, batch_size=4, \n",
    "           validation=False, confidence=True, shuffle=False)\n",
    "\n",
    "resDS = tfdatagen.read_ds_idxed(ds,range(6))\n",
    "for i in range(6):\n",
    "    resDS[i] = (resDS[i][0], resDS[i][1][0])  # tfds puts tgts in list even for n_outputs=1\n",
    "imsDS, tgtsDS = tfdatagen.xylist2xyarr(resDS)\n",
    "imsDS.shape, tgtsDS.shape"
   ]
  },
  {
   "cell_type": "code",
   "execution_count": null,
   "metadata": {},
   "outputs": [],
   "source": [
    "imsDS = np.moveaxis(imsDS, 0, -1)\n",
    "imsDS = imsDS[:, :, 0, :]\n",
    "locsDS = get_conf_map_argmaxs_rescaled(tgtsDS)"
   ]
  },
  {
   "cell_type": "code",
   "execution_count": null,
   "metadata": {},
   "outputs": [],
   "source": [
    "locsDS = locsDS[:,np.newaxis,:]"
   ]
  },
  {
   "cell_type": "code",
   "execution_count": null,
   "metadata": {},
   "outputs": [],
   "source": [
    "locsDS.shape"
   ]
  },
  {
   "cell_type": "code",
   "execution_count": null,
   "metadata": {
    "scrolled": true
   },
   "outputs": [],
   "source": [
    "hfig, grid, cb0 = tfdatagen.montage(imsDS, cmap='gray', locs=locsDS, locsmrkrsz=128)"
   ]
  },
  {
   "cell_type": "code",
   "execution_count": null,
   "metadata": {},
   "outputs": [],
   "source": []
  },
  {
   "cell_type": "code",
   "execution_count": null,
   "metadata": {},
   "outputs": [],
   "source": [
    "conf_exp2.dpk_use_augmenter"
   ]
  },
  {
   "cell_type": "code",
   "execution_count": null,
   "metadata": {},
   "outputs": [],
   "source": []
  },
  {
   "cell_type": "markdown",
   "metadata": {},
   "source": [
    "## Check extents"
   ]
  },
  {
   "cell_type": "code",
   "execution_count": null,
   "metadata": {},
   "outputs": [],
   "source": [
    "ds = tgtfr(n_outputs=1, batch_size=4, \n",
    "           validation=False, confidence=True, shuffle=False)\n",
    "NBCH = 200\n",
    "resDS = tfdatagen.read_ds_idxed(ds,range(NBCH))\n",
    "for i in range(NBCH):\n",
    "    resDS[i] = (resDS[i][0], resDS[i][1][0])  # tfds puts tgts in list even for n_outputs=1\n",
    "imsDS, tgtsDS = tfdatagen.xylist2xyarr(resDS)\n",
    "imsDS.shape, tgtsDS.shape"
   ]
  },
  {
   "cell_type": "code",
   "execution_count": null,
   "metadata": {},
   "outputs": [],
   "source": [
    "tg = dpk.TrainingGenerator(generator=dg,\n",
    "                           downsample_factor=DSFAC,\n",
    "                           augmenter=ia,\n",
    "                           use_graph=True,\n",
    "                           shuffle=False,\n",
    "                           sigma=SIGMA,\n",
    "                           validation_split=VALSPLIT,\n",
    "                           graph_scale=GRAPHSCALE,\n",
    "                           random_seed=0)\n",
    "\n",
    "# For tg, VALSPLIT=0 => use the training imgs\n",
    "g = tg(n_outputs=1, batch_size=4, \n",
    "       validation=False, confidence=True)\n",
    "\n",
    "RNGSEED = 17\n",
    "g.augmenter.reseed(RNGSEED)\n",
    "imstgts_dpk = [g[x] for x in range(NBCH)]\n",
    "imsdpk, tgtsdpk = tfdatagen.xylist2xyarr(imstgts_dpk)\n",
    "imsdpk.shape, tgtsdpk.shape"
   ]
  },
  {
   "cell_type": "code",
   "execution_count": null,
   "metadata": {},
   "outputs": [],
   "source": [
    "def get_conf_map_argmaxs_allmaps(tgts0, sz=(192, 192)):\n",
    "    '''\n",
    "    tgts0: [bsize x nr x nc x nmap]\n",
    "    '''\n",
    "    tgts = tgts0.copy()\n",
    "    tgts = np.moveaxis(tgts, 0, -1)  # [nr x nc x nmap x bsize]\n",
    "    nr, nc, nmap, bsize = tgts.shape\n",
    "    print('nr nc nmap bsize = {} {} {} {}'.format(nr, nc, nmap, bsize))\n",
    "    tgts = np.reshape(tgts, (nr, nc, nmap*bsize), order='F')\n",
    "    \n",
    "    locs = np.zeros((nmap*bsize, 2))\n",
    "    for i in range(tgts.shape[2]):\n",
    "        tgttmp = cv2.resize(tgts[...,i], sz)\n",
    "        locstmp = pt.get_pred_locs(tgttmp[np.newaxis,...,np.newaxis])\n",
    "        locs[i,...] = locstmp[0,0,...]\n",
    "        \n",
    "    return locs # [bsize*nmap x 2]"
   ]
  },
  {
   "cell_type": "code",
   "execution_count": null,
   "metadata": {},
   "outputs": [],
   "source": [
    "locsDS = get_conf_map_argmaxs_allmaps(tgtsDS)\n",
    "locsDS.shape"
   ]
  },
  {
   "cell_type": "code",
   "execution_count": null,
   "metadata": {},
   "outputs": [],
   "source": [
    "locsdpk = get_conf_map_argmaxs_allmaps(tgtsdpk)\n",
    "locsdpk.shape"
   ]
  },
  {
   "cell_type": "code",
   "execution_count": null,
   "metadata": {},
   "outputs": [],
   "source": [
    "f = plt.figure(num=21)\n",
    "f.clf()\n",
    "ax = f.subplots(2,2,sharex=True,sharey=True)  # figsize=(16,12),\n",
    "for iax in range(2):\n",
    "    plt.sca(ax[0,iax])\n",
    "    plt.hist(locsdpk[:,iax],bins=50)\n",
    "    plt.title('dpk {}'.format(iax))\n",
    "    plt.sca(ax[1,iax])\n",
    "    plt.hist(locsDS[:,iax],bins=50)\n",
    "    plt.title('DS {}'.format(iax))\n",
    "    \n"
   ]
  },
  {
   "cell_type": "code",
   "execution_count": null,
   "metadata": {},
   "outputs": [],
   "source": [
    "imsDSplot = imsDS.copy()\n",
    "imsDSplot = np.moveaxis(imsDSplot, 0, -1)\n",
    "imsDSplot = imsDSplot[:, :, 0, :]\n",
    "locsDSplot = np.reshape(locsDS, (66, 800, 2), order='F')\n",
    "locsDSplot = np.moveaxis(locsDSplot, 0, 1)\n",
    "locsDSplot.shape"
   ]
  },
  {
   "cell_type": "code",
   "execution_count": null,
   "metadata": {},
   "outputs": [],
   "source": [
    "hfig, grid, cb0 = tfdatagen.montage(imsDSplot[...,:100], \n",
    "                                    cmap='gray', \n",
    "                                    locs=locsDSplot[:100,:32,:], \n",
    "                                    locsmrkrsz=12)"
   ]
  },
  {
   "cell_type": "code",
   "execution_count": null,
   "metadata": {},
   "outputs": [],
   "source": [
    "imsdpkplot = imsdpk.copy()\n",
    "imsdpkplot = np.moveaxis(imsdpkplot, 0, -1)\n",
    "imsdpkplot = imsdpkplot[:, :, 0, :]\n",
    "locsdpkplot = np.reshape(locsdpk, (66, 800, 2), order='F')\n",
    "locsdpkplot = np.moveaxis(locsdpkplot, 0, 1)\n",
    "NPLOT = 4\n",
    "hfig, grid, cb0 = tfdatagen.montage(imsdpkplot[...,:NPLOT], \n",
    "                                    cmap='gray', \n",
    "                                    locs=locsdpkplot[:NPLOT,[0,25],:], \n",
    "                                    locsmrkrsz=12)"
   ]
  },
  {
   "cell_type": "code",
   "execution_count": null,
   "metadata": {},
   "outputs": [],
   "source": [
    "locsdpkplot.shape"
   ]
  },
  {
   "cell_type": "code",
   "execution_count": null,
   "metadata": {},
   "outputs": [],
   "source": [
    "IPTPLOT = 8\n",
    "f = plt.figure(num=22)\n",
    "f.clf()\n",
    "ax = f.subplots(2,2,sharex=True,sharey=True)  # figsize=(16,12),\n",
    "for iax in range(2):\n",
    "    plt.sca(ax[0,iax])\n",
    "    plt.hist(locsdpkplot[:,IPTPLOT,iax],bins=20)\n",
    "    plt.title('dpk {}'.format(iax))\n",
    "    plt.xlim((0,192))\n",
    "    plt.sca(ax[1,iax])\n",
    "    plt.hist(locsDSplot[:,IPTPLOT,iax],bins=20)\n",
    "    plt.title('DS {}'.format(iax))\n",
    "    plt.xlim((0,192))\n",
    "    "
   ]
  },
  {
   "cell_type": "code",
   "execution_count": null,
   "metadata": {},
   "outputs": [],
   "source": [
    "IPTHEAD = 0\n",
    "IPTTAIL = 5\n",
    "vtailhead_ds = locsDSplot[:,IPTHEAD,:]-locsDSplot[:,IPTTAIL,:]\n",
    "vtailhead_dpk = locsdpkplot[:,IPTHEAD,:]-locsdpkplot[:,IPTTAIL,:]\n",
    "\n",
    "phi_ds = np.arctan2(vtailhead_ds[:,1],vtailhead_ds[:,0])\n",
    "phi_dpk = np.arctan2(vtailhead_dpk[:,1],vtailhead_dpk[:,0])\n",
    "\n",
    "phi_ds.shape, phi_dpk.shape"
   ]
  },
  {
   "cell_type": "code",
   "execution_count": null,
   "metadata": {},
   "outputs": [],
   "source": [
    "f = plt.figure(num=23)\n",
    "f.clf()\n",
    "ax = f.subplots(1,2,sharex=True,sharey=True)  # figsize=(16,12),\n",
    "\n",
    "plt.sca(ax[0])\n",
    "plt.hist(phi_ds,bins=20)\n",
    "plt.title('ds')\n",
    "#plt.xlim((0,192))\n",
    "plt.sca(ax[1])\n",
    "plt.hist(phi_dpk,bins=20)\n",
    "plt.title('dpk')\n",
    "#plt.xlim((0,192))"
   ]
  }
 ],
 "metadata": {
  "kernelspec": {
   "display_name": "Python 3",
   "language": "python",
   "name": "python3"
  },
  "language_info": {
   "codemirror_mode": {
    "name": "ipython",
    "version": 3
   },
   "file_extension": ".py",
   "mimetype": "text/x-python",
   "name": "python",
   "nbconvert_exporter": "python",
   "pygments_lexer": "ipython3",
   "version": "3.6.9"
  },
  "pycharm": {
   "stem_cell": {
    "cell_type": "raw",
    "metadata": {
     "collapsed": false
    },
    "source": []
   }
  }
 },
 "nbformat": 4,
 "nbformat_minor": 1
}
